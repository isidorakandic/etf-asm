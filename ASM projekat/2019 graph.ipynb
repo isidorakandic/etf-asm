{
 "cells": [
  {
   "cell_type": "code",
   "execution_count": 1,
   "metadata": {},
   "outputs": [],
   "source": [
    "import pandas as pd\n",
    "\n",
    "matches = pd.read_csv(\"atp_matches_2019.csv\")\n",
    "atp_players = pd.read_csv(\"atp_players.csv\")\n",
    "atp_rankings_10s = pd.read_csv(\"atp_rankings_10s.csv\")\n",
    "\n",
    "year = 2019\n",
    "matches_file_name = \"atp_matches_2019_cleaned.csv\"\n",
    "output_gz_path = \"graph2019.gz\"\n",
    "output_gml_path = \"graph2019.gml\""
   ]
  },
  {
   "cell_type": "code",
   "execution_count": 2,
   "metadata": {},
   "outputs": [],
   "source": [
    "import networkx as nx\n",
    "\n",
    "import collections\n",
    "from collections import Counter\n",
    "\n",
    "import matplotlib\n",
    "from matplotlib import pyplot as plt\n",
    "\n",
    "import math\n",
    "\n",
    "from networkx.algorithms import community as comm\n",
    "import itertools\n",
    "\n",
    "from operator import itemgetter\n",
    "\n",
    "import string\n",
    "\n",
    "import numpy as np\n",
    "\n",
    "from sklearn import cluster\n",
    "\n",
    "import copy"
   ]
  },
  {
   "cell_type": "markdown",
   "metadata": {},
   "source": [
    "# Ciscenje podataka"
   ]
  },
  {
   "cell_type": "markdown",
   "metadata": {},
   "source": [
    "## Brisanje grupnih turnira"
   ]
  },
  {
   "cell_type": "code",
   "execution_count": 3,
   "metadata": {
    "scrolled": true
   },
   "outputs": [],
   "source": [
    "matches = matches[['tourney_id','tourney_name','winner_id','loser_id','surface']]\n",
    "\n",
    "indexes=[]\n",
    "for index,tourney_id,tourney_name,winner_id,loser_id,surface in matches.itertuples():\n",
    "    if (\"Davis Cup\" in tourney_name):\n",
    "        indexes.append(index)        \n",
    "        \n",
    "matches = matches.drop(indexes)  "
   ]
  },
  {
   "cell_type": "code",
   "execution_count": 4,
   "metadata": {},
   "outputs": [],
   "source": [
    "from datetime import date\n",
    "\n",
    "def get_num_of_days_between(start_date_int,end_date_int):\n",
    "    start_date = date(int(start_date_int/10000), int(int(start_date_int%10000)/100), int(start_date_int%100))\n",
    "    end_date = date(int(end_date_int/10000), int(int(end_date_int%10000)/100), int(end_date_int%100))\n",
    "    difference = end_date - start_date\n",
    "    return difference.days\n",
    "\n",
    "def get_player_ranking(id,year):\n",
    "    next_year=(year+1)*10000\n",
    "    year*=10000\n",
    "    ranks = atp_rankings_10s[(atp_rankings_10s['player']==id) & (atp_rankings_10s['ranking_date']>=year) & (atp_rankings_10s['ranking_date']<next_year)]\n",
    "    ranks=ranks.reset_index()\n",
    "    days_sum=0\n",
    "    calc_rank=0\n",
    "    for i in range(len(ranks)-1):\n",
    "        rank = ranks.loc[i,'rank']\n",
    "        start_date = ranks.loc[i,'ranking_date']\n",
    "        end_date = ranks.loc[i+1,'ranking_date']\n",
    "        days = get_num_of_days_between(start_date,end_date)\n",
    "        calc_rank += rank*days\n",
    "        days_sum +=days   \n",
    "    return calc_rank/days_sum if days_sum != 0 else float('NaN')"
   ]
  },
  {
   "cell_type": "code",
   "execution_count": 5,
   "metadata": {},
   "outputs": [
    {
     "name": "stdout",
     "output_type": "stream",
     "text": [
      "Postoji 281 različitih igrača\n"
     ]
    }
   ],
   "source": [
    "winners = set(matches['winner_id'].unique())\n",
    "losers = set(matches['loser_id'].unique())\n",
    "\n",
    "players_ids = winners.union(losers)\n",
    "print(f\"Postoji { len(players_ids) } različitih igrača\") \n",
    "\n",
    "players_with_attr_list = [(player_id,first_name+' '+last_name,country_code,get_player_ranking(player_id,year)) for _,player_id,first_name,last_name,hand,birth_date,country_code in atp_players.itertuples() if player_id in players_ids]\n",
    "players_with_attr = pd.DataFrame(players_with_attr_list,columns =['player_id', 'player_name','country_code','rank'])\n",
    "\n",
    "players = (players_with_attr.set_index('player_id')).to_dict('index')\n",
    "#players = players.set_index('player_id')\n",
    "#players = pd.DataFrame.from_dict(players_with_attr.set_index('player_id').to_dict('index'),orient='index')"
   ]
  },
  {
   "cell_type": "markdown",
   "metadata": {},
   "source": [
    "## Cuvanje sekundarnog skupa podataka"
   ]
  },
  {
   "cell_type": "code",
   "execution_count": 6,
   "metadata": {},
   "outputs": [],
   "source": [
    "matches.to_csv(matches_file_name, index = False, header=True)\n",
    "#pd.DataFrame.from_dict(players,orient='index').to_csv(players_file_name, index = True, header=True)"
   ]
  },
  {
   "cell_type": "markdown",
   "metadata": {},
   "source": [
    "# Modelovanje grafova"
   ]
  },
  {
   "cell_type": "code",
   "execution_count": 7,
   "metadata": {},
   "outputs": [],
   "source": [
    "G = nx.Graph()\n",
    "G.add_nodes_from(players_ids)\n",
    "\n",
    "nx.set_node_attributes(G, players)"
   ]
  },
  {
   "cell_type": "markdown",
   "metadata": {},
   "source": [
    "### Dodavanje tezinskih grana "
   ]
  },
  {
   "cell_type": "code",
   "execution_count": 8,
   "metadata": {},
   "outputs": [
    {
     "name": "stdout",
     "output_type": "stream",
     "text": [
      "Name: \n",
      "Type: Graph\n",
      "Number of nodes: 281\n",
      "Number of edges: 2215\n",
      "Average degree:  15.7651\n"
     ]
    }
   ],
   "source": [
    "edge_data = matches[['winner_id','loser_id']]\n",
    "for _,winner_id,loser_id in edge_data.itertuples():\n",
    "    if (winner_id, loser_id) in G.edges:\n",
    "        G.edges[winner_id, loser_id]['weight'] += 1\n",
    "    else:\n",
    "        G.add_edge(winner_id, loser_id, weight=1)\n",
    "        \n",
    "print(nx.info(G))"
   ]
  },
  {
   "cell_type": "markdown",
   "metadata": {},
   "source": [
    "## Pomocni graf turnira "
   ]
  },
  {
   "cell_type": "code",
   "execution_count": 9,
   "metadata": {},
   "outputs": [],
   "source": [
    "tourney_graph = nx.Graph()\n",
    "\n",
    "tourney_graph.add_nodes_from(players_ids, node_type='player')\n",
    "nx.set_node_attributes(tourney_graph, players)\n",
    "\n",
    "tourney_names = matches['tourney_name'].unique()\n",
    "tourney_graph.add_nodes_from(tourney_names, node_type='tourney')  "
   ]
  },
  {
   "cell_type": "markdown",
   "metadata": {},
   "source": [
    "## Dodavanje tezinskih grana "
   ]
  },
  {
   "cell_type": "code",
   "execution_count": 10,
   "metadata": {},
   "outputs": [
    {
     "name": "stdout",
     "output_type": "stream",
     "text": [
      "Name: \n",
      "Type: Graph\n",
      "Number of nodes: 347\n",
      "Number of edges: 2667\n",
      "Average degree:  15.3718\n"
     ]
    }
   ],
   "source": [
    "edge_data = matches[['winner_id','loser_id','tourney_name']]\n",
    "for _,winner_id,loser_id,tourney_name in edge_data.itertuples():\n",
    "    if (winner_id, tourney_name) in tourney_graph.edges:\n",
    "        tourney_graph.edges[winner_id, tourney_name]['weight'] += 1\n",
    "    else:\n",
    "        tourney_graph.add_edge(winner_id, tourney_name, weight=1)\n",
    "    if (loser_id, tourney_name) in tourney_graph.edges:\n",
    "        tourney_graph.edges[loser_id, tourney_name]['weight'] += 1\n",
    "    else:\n",
    "        tourney_graph.add_edge(loser_id, tourney_name, weight=1)  \n",
    "        \n",
    "print(nx.info(tourney_graph))"
   ]
  },
  {
   "cell_type": "markdown",
   "metadata": {},
   "source": [
    "## Surface atribut"
   ]
  },
  {
   "cell_type": "code",
   "execution_count": 11,
   "metadata": {},
   "outputs": [],
   "source": [
    "tourney_nodes = [node for node, node_type in tourney_graph.nodes(data='node_type') if node_type=='tourney']\n",
    "\n",
    "for tourney in tourney_nodes:\n",
    "    tourney_graph.nodes[tourney]['surface'] = matches[matches['tourney_name']==tourney].iloc[0].surface"
   ]
  },
  {
   "cell_type": "markdown",
   "metadata": {},
   "source": [
    "# Pomocne metode (uz modelovan graf)"
   ]
  },
  {
   "cell_type": "code",
   "execution_count": 12,
   "metadata": {},
   "outputs": [],
   "source": [
    "def get_player_by_name(player_name):\n",
    "    nodes = [node for node,name in G.nodes(data='player_name') if name==player_name]\n",
    "    player = 0\n",
    "    if len(nodes)>0:\n",
    "        player = nodes[0]\n",
    "    return player\n",
    "\n",
    "def get_players_matches(id):\n",
    "    mask = (matches['winner_id']==id) | (matches['loser_id']==id)\n",
    "    return matches[mask]"
   ]
  },
  {
   "cell_type": "code",
   "execution_count": 13,
   "metadata": {},
   "outputs": [],
   "source": [
    "def get_nodes_by_attribute(G,attribute, value):\n",
    "    return [n for n,v in G.nodes(data=True) if v[attribute] == value]"
   ]
  },
  {
   "cell_type": "code",
   "execution_count": 14,
   "metadata": {},
   "outputs": [],
   "source": [
    "def get_players_degrees(G,players):\n",
    "    return [(node,name,G.degree(node)) for (node,name) in tourney_graph.nodes(data='player_name') if node in players]"
   ]
  },
  {
   "cell_type": "code",
   "execution_count": 15,
   "metadata": {},
   "outputs": [],
   "source": [
    "def get_player_attribute(G,player,attribute):\n",
    "    return [v[attribute] for n,v in G.nodes(data=True) if  n== player]"
   ]
  },
  {
   "cell_type": "code",
   "execution_count": 16,
   "metadata": {},
   "outputs": [],
   "source": [
    "def get_player_info(id):\n",
    "    return (id,G.nodes[id]['player_name'],G.nodes[id]['rank'],G.nodes[id]['country_code'])\n",
    "    #return tuple([(node,attr['player_name'],attr['rank'],attr['country_code']) for (node,attr) in G.nodes(data=True) if node==id])\n",
    "\n",
    "def get_players_info(players):\n",
    "    infos = []\n",
    "    for player in players:\n",
    "        infos.append(get_player_info(player))\n",
    "    return infos  "
   ]
  },
  {
   "cell_type": "code",
   "execution_count": 17,
   "metadata": {},
   "outputs": [],
   "source": [
    "def get_players_opponents_info(id):\n",
    "    opponents = nx.node_connected_component(G, id)\n",
    "    return get_players_info(opponents)"
   ]
  },
  {
   "cell_type": "code",
   "execution_count": 18,
   "metadata": {},
   "outputs": [],
   "source": [
    "def plot_deg_frequency(G, weighted=False, xscale = \"log\", yscale = \"log\"):\n",
    "\n",
    "    if weighted:\n",
    "        degrees = G.degree(weight=\"weight\")\n",
    "    else:\n",
    "        degrees = G.degree()\n",
    "    _, deg_list = zip(*degrees)    #unzip\n",
    "    deg_counts = Counter(deg_list) #prebrojava, 1, 2, ..        \n",
    "    print(deg_counts)\n",
    "    degree, frequency = zip(*deg_counts.items())                                                      \n",
    "\n",
    "    plt.figure(1)   \n",
    "\n",
    "    # prep axes   \n",
    "    if weighted:\n",
    "        plt.xlabel('weighted degree')  \n",
    "    else:\n",
    "        plt.xlabel('degree')                                                                                                             \n",
    "    plt.xscale(xscale)                                                                                                                \n",
    "    plt.xlim(1, max(degree))  \n",
    "\n",
    "    plt.ylabel('frequency')                                                                                                          \n",
    "    plt.yscale(yscale)                                                                                                                \n",
    "    plt.ylim(1, max(frequency))                                                                                                             \n",
    "                                                                                                                                                                                                    \n",
    "    plt.scatter(degree, frequency, marker='.')                                                                                                    \n",
    "    plt.show()"
   ]
  },
  {
   "cell_type": "markdown",
   "metadata": {},
   "source": [
    "# Istrazivacka pitanja"
   ]
  },
  {
   "cell_type": "markdown",
   "metadata": {},
   "source": [
    "# 1. Koliki je prosečan broj tenisera (saigrača) po svakom teniseru?"
   ]
  },
  {
   "cell_type": "code",
   "execution_count": 19,
   "metadata": {},
   "outputs": [],
   "source": [
    "def get_average_degree(G):\n",
    "    num_of_nodes = G.number_of_nodes()\n",
    "    degree = sum(d for n, d in G.degree()) / float(num_of_nodes)\n",
    "    return degree\n",
    "\n",
    "def get_average_weighted_degree(G):\n",
    "    num_of_nodes = G.number_of_nodes()\n",
    "    degree = sum(d for n, d in G.degree(weight='weight')) / float(num_of_nodes)\n",
    "    return degree  "
   ]
  },
  {
   "cell_type": "code",
   "execution_count": 20,
   "metadata": {},
   "outputs": [
    {
     "name": "stdout",
     "output_type": "stream",
     "text": [
      "Prosecan broj saigraca svakog tenisera: 15.765124555160142\n"
     ]
    }
   ],
   "source": [
    "print(f\"Prosecan broj saigraca svakog tenisera: {get_average_degree(G)}\")   "
   ]
  },
  {
   "cell_type": "code",
   "execution_count": 21,
   "metadata": {
    "scrolled": true
   },
   "outputs": [
    {
     "name": "stdout",
     "output_type": "stream",
     "text": [
      "Prosecan broj meceva svakog tenisera: 18.569395017793596\n"
     ]
    }
   ],
   "source": [
    "print(f\"Prosecan broj meceva svakog tenisera: {get_average_weighted_degree(G)}\")"
   ]
  },
  {
   "cell_type": "markdown",
   "metadata": {},
   "source": [
    "# 2. Koji teniseri su se susretali sa najvećim brojem drugih tenisera? "
   ]
  },
  {
   "cell_type": "code",
   "execution_count": 22,
   "metadata": {},
   "outputs": [
    {
     "name": "stdout",
     "output_type": "stream",
     "text": [
      "Max stepen: 59\n",
      "Igraci koji su igrali sa najvise drugih igraca: [(106421, 'Daniil Medvedev', 59), (126774, 'Stefanos Tsitsipas', 51), (105332, 'Benoit Paire', 50), (100644, 'Alexander Zverev', 49), (106043, 'Diego Sebastian Schwartzman', 49), (105676, 'David Goffin', 47), (126203, 'Taylor Harry Fritz', 47), (104745, 'Rafael Nadal', 47), (126610, 'Matteo Berrettini', 47), (106233, 'Dominic Thiem', 47)]\n"
     ]
    }
   ],
   "source": [
    "degrees = [G.degree(node) for node in G.nodes()]\n",
    "max_degree = max(degrees)\n",
    "\n",
    "players_degrees = [(node,name,G.degree(node)) for (node,name) in G.nodes(data='player_name')]\n",
    "\n",
    "high_degree_players = (sorted(players_degrees, key=lambda element: (element[2]),reverse=True))[:10]\n",
    "\n",
    "print(f\"Max stepen: {max_degree}\")\n",
    "print(f\"Igraci koji su igrali sa najvise drugih igraca: {high_degree_players}\")"
   ]
  },
  {
   "cell_type": "code",
   "execution_count": 23,
   "metadata": {},
   "outputs": [
    {
     "data": {
      "text/plain": [
       "[('Daniil Medvedev', 59),\n",
       " ('Stefanos Tsitsipas', 51),\n",
       " ('Benoit Paire', 50),\n",
       " ('Alexander Zverev', 49),\n",
       " ('Diego Sebastian Schwartzman', 49),\n",
       " ('David Goffin', 47),\n",
       " ('Taylor Harry Fritz', 47),\n",
       " ('Rafael Nadal', 47),\n",
       " ('Matteo Berrettini', 47),\n",
       " ('Dominic Thiem', 47)]"
      ]
     },
     "execution_count": 23,
     "metadata": {},
     "output_type": "execute_result"
    }
   ],
   "source": [
    "[(p[1],(p[2])) for p in high_degree_players]"
   ]
  },
  {
   "cell_type": "markdown",
   "metadata": {},
   "source": [
    "# 3. Koji teniseri su učestvovali na najvećem broju (različitih) turnira?"
   ]
  },
  {
   "cell_type": "code",
   "execution_count": 24,
   "metadata": {},
   "outputs": [
    {
     "name": "stdout",
     "output_type": "stream",
     "text": [
      "Igraci koji su ucestvovali na najvecem broju turnira: [(105332, 'Benoit Paire', 30), (126203, 'Taylor Harry Fritz', 29), (104468, 'Gilles Simon', 28), (105311, 'Joao Sousa', 28), (105526, 'Jan Lennard Struff', 27), (105583, 'Dusan Lajovic', 27), (104871, 'Jeremy Chardy', 27), (105173, 'Adrian Mannarino', 27), (126774, 'Stefanos Tsitsipas', 27), (104269, 'Fernando Verdasco', 27)]\n"
     ]
    }
   ],
   "source": [
    "player_tourney_degrees = [(node,name,tourney_graph.degree(node)) for (node,name) in tourney_graph.nodes(data='player_name') if node in players]\n",
    "\n",
    "high_tourney_degree_players = (sorted(player_tourney_degrees, key=lambda element: (element[2]),reverse=True))[:10]\n",
    "\n",
    "print(f\"Igraci koji su ucestvovali na najvecem broju turnira: {high_tourney_degree_players}\")"
   ]
  },
  {
   "cell_type": "markdown",
   "metadata": {},
   "source": [
    "# 4. Koji teniseri su dobri kandidati za predstavnike profesionalnih tenisera? \n",
    "## Da li i šta se menja ukoliko se umesto jednog bira skup od nekoliko predstavnika?\n",
    "### Dobar predstavnik ili predstavnici bi trebalo da budu u kontaktu sa što većim skupom tenisera."
   ]
  },
  {
   "cell_type": "code",
   "execution_count": 25,
   "metadata": {},
   "outputs": [
    {
     "name": "stdout",
     "output_type": "stream",
     "text": [
      "Dobri kandidati za predstavnika profesionalnih tenisera su\n"
     ]
    },
    {
     "data": {
      "text/plain": [
       "[((106421, 'Daniil Medvedev', 10.352941176470589, 'RUS'), 0.21071428571428572),\n",
       " ((126774, 'Stefanos Tsitsipas', 8.0, 'GRE'), 0.18214285714285713),\n",
       " ((105332, 'Benoit Paire', 39.01960784313726, 'FRA'), 0.17857142857142858),\n",
       " ((100644, 'Alexander Zverev', 4.96078431372549, 'GER'), 0.175),\n",
       " ((106043, 'Diego Sebastian Schwartzman', 20.11764705882353, 'ARG'), 0.175),\n",
       " ((105676, 'David Goffin', 19.058823529411764, 'BEL'), 0.16785714285714284),\n",
       " ((126203, 'Taylor Harry Fritz', 39.411764705882355, 'USA'),\n",
       "  0.16785714285714284),\n",
       " ((104745, 'Rafael Nadal', 1.8431372549019607, 'ESP'), 0.16785714285714284),\n",
       " ((126610, 'Matteo Berrettini', 29.58823529411765, 'ITA'),\n",
       "  0.16785714285714284),\n",
       " ((106233, 'Dominic Thiem', 5.098039215686274, 'AUT'), 0.16785714285714284)]"
      ]
     },
     "execution_count": 25,
     "metadata": {},
     "output_type": "execute_result"
    }
   ],
   "source": [
    "#Mozda po lokalnoj centralnosti? - Čvor je lokalno centralan ako ima veći broj veza sa svojim okruženjem\n",
    "degree_centralities = [(node, centrality) for node, centrality in nx.degree_centrality(G).items()]\n",
    "\n",
    "max_degree_centralities = sorted(degree_centralities,key=lambda item: item[1], reverse=True)[:10]\n",
    "\n",
    "high_degree_centrality_players = [(get_player_info(player[0]), player[1]) for player in max_degree_centralities]\n",
    "\n",
    "print(f\"Dobri kandidati za predstavnika profesionalnih tenisera su\")\n",
    "high_degree_centrality_players"
   ]
  },
  {
   "cell_type": "code",
   "execution_count": 26,
   "metadata": {},
   "outputs": [
    {
     "name": "stdout",
     "output_type": "stream",
     "text": [
      "Dobri kandidati za predstavnika profesionalnih tenisera su\n"
     ]
    },
    {
     "data": {
      "text/plain": [
       "[((106421, 'Daniil Medvedev', 10.352941176470589, 'RUS'), 0.1648643221063789),\n",
       " ((126774, 'Stefanos Tsitsipas', 8.0, 'GRE'), 0.14399491996426636),\n",
       " ((100644, 'Alexander Zverev', 4.96078431372549, 'GER'), 0.14142284572281316),\n",
       " ((126610, 'Matteo Berrettini', 29.58823529411765, 'ITA'),\n",
       "  0.13745593185915114),\n",
       " ((105676, 'David Goffin', 19.058823529411764, 'BEL'), 0.13713444509621753),\n",
       " ((106233, 'Dominic Thiem', 5.098039215686274, 'AUT'), 0.13565465045625882),\n",
       " ((103819, 'Roger Federer', 3.549019607843137, 'SUI'), 0.13527813799004343),\n",
       " ((104745, 'Rafael Nadal', 1.8431372549019607, 'ESP'), 0.13417242354969422),\n",
       " ((106043, 'Diego Sebastian Schwartzman', 20.11764705882353, 'ARG'),\n",
       "  0.13263222408608297),\n",
       " ((105526, 'Jan Lennard Struff', 41.98039215686274, 'GER'),\n",
       "  0.12906962467461677)]"
      ]
     },
     "execution_count": 26,
     "metadata": {},
     "output_type": "execute_result"
    }
   ],
   "source": [
    "#Eigenvector centrality - Varijanta centralnosti po stepenu koja uzima u obzir i susedstvo posmatranog čvora\n",
    "#onaj sa najvecom plus njegovi susedi??\n",
    "eigenvector_centralities = [(node, centrality) for node, centrality in nx.eigenvector_centrality(G).items()]\n",
    "\n",
    "#prvih 10\n",
    "max_eigenvector_centralities = sorted(eigenvector_centralities,key=lambda item: item[1], reverse=True)[:10]\n",
    "\n",
    "high_eigenvector_centrality_players = [(get_player_info(player[0]), player[1]) for player in max_eigenvector_centralities]\n",
    "\n",
    "print(f\"Dobri kandidati za predstavnika profesionalnih tenisera su\")\n",
    "high_eigenvector_centrality_players"
   ]
  },
  {
   "cell_type": "markdown",
   "metadata": {},
   "source": [
    "# 5. Kako su rangirani na ATP listi teniseri koji su se susretali sa najvećim brojem drugih tenisera?"
   ]
  },
  {
   "cell_type": "code",
   "execution_count": 27,
   "metadata": {},
   "outputs": [
    {
     "data": {
      "text/plain": [
       "[(104745, 'Rafael Nadal', 47, 1.8431372549019607),\n",
       " (100644, 'Alexander Zverev', 49, 4.96078431372549),\n",
       " (106233, 'Dominic Thiem', 47, 5.098039215686274),\n",
       " (126774, 'Stefanos Tsitsipas', 51, 8.0),\n",
       " (106421, 'Daniil Medvedev', 59, 10.352941176470589),\n",
       " (105676, 'David Goffin', 47, 19.058823529411764),\n",
       " (106043, 'Diego Sebastian Schwartzman', 49, 20.11764705882353),\n",
       " (126610, 'Matteo Berrettini', 47, 29.58823529411765),\n",
       " (105332, 'Benoit Paire', 50, 39.01960784313726),\n",
       " (126203, 'Taylor Harry Fritz', 47, 39.411764705882355)]"
      ]
     },
     "execution_count": 27,
     "metadata": {},
     "output_type": "execute_result"
    }
   ],
   "source": [
    "high_degree_players_ids = list(list(zip(*high_degree_players))[0])\n",
    "\n",
    "high_degree_players_ranks = [(node,attr['player_name'],G.degree(node),attr['rank']) for (node,attr) in G.nodes(data=True) if node in high_degree_players_ids]\n",
    "high_degree_players_ranks = sorted(high_degree_players_ranks,key=lambda item: item[3])\n",
    "high_degree_players_ranks"
   ]
  },
  {
   "cell_type": "markdown",
   "metadata": {},
   "source": [
    "# 6.  Iz kojih zemalja dolazi najveći broj aktivnih igrača u proteklom periodu?"
   ]
  },
  {
   "cell_type": "code",
   "execution_count": 28,
   "metadata": {},
   "outputs": [],
   "source": [
    "def plot_players_per_country_frequency(G, xscale = \"linear\", yscale = \"linear\"):\n",
    "\n",
    "    countries = [country for node,country in G.nodes(data='country_code')]\n",
    "    countries_counts = Counter(countries) #prebrojava, 1, 2, ..        \n",
    "    print(countries_counts)\n",
    "    lists = sorted(countries_counts.items(),key=lambda item: item[1])\n",
    "    x, y = zip(*lists)                                                      \n",
    "\n",
    "    fig = plt.figure(1) \n",
    "    fig.set_size_inches(20,20)\n",
    "    plt.barh(x,y)\n",
    "    plt.ylabel('Country')\n",
    "    plt.xlabel('num of players')\n",
    "    plt.show()"
   ]
  },
  {
   "cell_type": "code",
   "execution_count": 29,
   "metadata": {
    "scrolled": false
   },
   "outputs": [],
   "source": [
    "#plot_players_per_country_frequency(G)"
   ]
  },
  {
   "cell_type": "markdown",
   "metadata": {},
   "source": [
    "# 7. Iz kojih zemalja dolaze najuspešniji igrači u smislu osvojenih poena na ATP listi?"
   ]
  },
  {
   "cell_type": "code",
   "execution_count": 30,
   "metadata": {},
   "outputs": [],
   "source": [
    "def get_first_atp_players(num):\n",
    "    player_ranks = [(node,attr['player_name'],attr['rank'],attr['country_code']) for (node,attr) in G.nodes(data=True)]\n",
    "\n",
    "    player_ranks = (list(filter(lambda x: math.isnan(x[2])==False, player_ranks)))\n",
    "    player_ranks = (sorted(player_ranks, key=lambda element: (element[2]),reverse=False))[:num]\n",
    "    return player_ranks\n",
    "    "
   ]
  },
  {
   "cell_type": "code",
   "execution_count": 31,
   "metadata": {},
   "outputs": [],
   "source": [
    "def plot_best_players_per_country_frequency(countries, xscale = \"linear\", yscale = \"linear\"):\n",
    "    countries_counts = Counter(countries) #prebrojava, 1, 2, ..        \n",
    "    print(countries_counts)\n",
    "    lists = sorted(countries_counts.items(),key=lambda item: item[1])\n",
    "    x, y = zip(*lists)                                                    \n",
    "\n",
    "    fig = plt.figure(1) \n",
    "    fig.set_size_inches(20,20)\n",
    "    plt.barh(x,y)\n",
    "    plt.ylabel('Country')\n",
    "    plt.xlabel('num of players')\n",
    "    plt.show()"
   ]
  },
  {
   "cell_type": "code",
   "execution_count": 32,
   "metadata": {},
   "outputs": [],
   "source": [
    "countries = get_first_atp_players(100)\n",
    "_,_,_,countries = zip(*countries)\n",
    "\n",
    "#za USA se dosta vidi razlika u 100 i 1000\n",
    "#ali se pitanje odnosi na najuspesnije\n",
    "#plot_best_players_per_country_frequency(countries)"
   ]
  },
  {
   "cell_type": "markdown",
   "metadata": {},
   "source": [
    "# 8. Kako su u okviru skupa podataka okarakterisani igrači iz Srbije?"
   ]
  },
  {
   "cell_type": "code",
   "execution_count": 33,
   "metadata": {},
   "outputs": [
    {
     "name": "stdout",
     "output_type": "stream",
     "text": [
      "Po ranku srpski igraci su: [('Dusan Lajovic', 35.1764705882353), ('Nikola Milojevic', 163.05882352941177), ('Viktor Troicki', 191.88235294117646), ('Filip Krajinovic', 64.7843137254902), ('Novak Djokovic', 1.1568627450980393), ('Miomir Kecmanovic', 78.76470588235294), ('Pedja Krstin', 212.8235294117647), ('Laslo Djere', 42.68627450980392), ('Janko Tipsarevic', 306.6458333333333)]\n",
      "\n",
      "Po broju meceva srpski igraci su: [('Dusan Lajovic', 46), ('Nikola Milojevic', 2), ('Viktor Troicki', 8), ('Filip Krajinovic', 44), ('Novak Djokovic', 66), ('Miomir Kecmanovic', 42), ('Pedja Krstin', 1), ('Laslo Djere', 43), ('Janko Tipsarevic', 18)]\n",
      "\n",
      "Po broju saigraca srpski igraci su: [('Dusan Lajovic', 43), ('Nikola Milojevic', 2), ('Viktor Troicki', 8), ('Filip Krajinovic', 36), ('Novak Djokovic', 44), ('Miomir Kecmanovic', 36), ('Pedja Krstin', 1), ('Laslo Djere', 35), ('Janko Tipsarevic', 17)]\n",
      "\n"
     ]
    }
   ],
   "source": [
    "serbian_players = [player for player,country in G.nodes(data='country_code') if country=='SRB']\n",
    "\n",
    "serbian_players_ranks = [(get_player_info(player)[1],rank) for player,rank in G.nodes(data='rank') if player in serbian_players]\n",
    "print(f\"Po ranku srpski igraci su: {serbian_players_ranks}\\n\")\n",
    "\n",
    "serbian_players_matches = [(get_player_info(player)[1],degree) for player,degree in G.degree(weight='weight') if player in serbian_players]\n",
    "print(f\"Po broju meceva srpski igraci su: {serbian_players_matches}\\n\")\n",
    "\n",
    "serbian_players_opponents = [(get_player_info(player)[1],degree) for player,degree in G.degree() if player in serbian_players]\n",
    "print(f\"Po broju saigraca srpski igraci su: {serbian_players_opponents}\\n\")\n",
    "\n",
    "\n",
    "#Mozda u odnos na druge zemlje?"
   ]
  },
  {
   "cell_type": "markdown",
   "metadata": {},
   "source": [
    "# 9. Koje zajednice (komune) se mogu uočiti prilikom analize mreže? Da li postoji neko objašnjenje za detektovane komune?"
   ]
  },
  {
   "cell_type": "code",
   "execution_count": 34,
   "metadata": {},
   "outputs": [],
   "source": [
    "#Clauset-Newman-Moore pohlepni algoritam\n",
    "communities = comm.greedy_modularity_communities(G, weight='weight')\n",
    "communities = [list(community) for community in communities]\n",
    "\n",
    "# communities_info = {}\n",
    "# i=0\n",
    "# for community in communities:\n",
    "#     i+=1\n",
    "#     communities_info[i] = get_players_info(community)\n",
    "\n",
    "communities_info = {}\n",
    "for i in range(0,len(communities)):\n",
    "    communities_info[i+1] = get_players_info(communities[i])\n",
    "    \n",
    "#communities_info"
   ]
  },
  {
   "cell_type": "markdown",
   "metadata": {},
   "source": [
    "# 10. Sprovesti analizu klasterisanja i asortativnu analizu, pa uporediti grupisanje na osnovu zemlje iz koje igrači dolaze, na osnovu broja mečeva koje igraju i na osnovu rejtinga."
   ]
  },
  {
   "cell_type": "markdown",
   "metadata": {},
   "source": [
    "# Analiza klasterisanja"
   ]
  },
  {
   "cell_type": "code",
   "execution_count": 35,
   "metadata": {},
   "outputs": [
    {
     "name": "stdout",
     "output_type": "stream",
     "text": [
      "Max lokalni cc: 0.2519842099789747\n",
      "Prosečan cc: 0.1761883928149076\n",
      "Lokalni stepeni klasterisanja koji nisu nula:\n"
     ]
    }
   ],
   "source": [
    "#Lokalni koeficijent klasterizacije\n",
    "#računa se kao gustina mreže koju čine posmatrani čvor, njegovi susedi i njihove međusobne veze\n",
    "\n",
    "player_id, clustering_coef = zip(*nx.clustering(G, weight = \"weight\").items())\n",
    "\n",
    "not_zero_cc_players = [(get_player_info(player),cc,degree[1])  for player, cc, degree in zip(player_id, clustering_coef, G.degree(weight='weight')) if cc > 0]\n",
    "not_zero_cc_players = (sorted(not_zero_cc_players, key=lambda element: (element[1]),reverse=True))\n",
    "\n",
    "max_local_clustering_coef = max(clustering_coef)\n",
    "\n",
    "average_clustering_coef = nx.average_clustering(G)\n",
    "\n",
    "print(f\"Max lokalni cc: {max_local_clustering_coef}\")\n",
    "print(f\"Prosečan cc: {average_clustering_coef}\")\n",
    "print(\"Lokalni stepeni klasterisanja koji nisu nula:\")\n",
    "#not_zero_cc_players"
   ]
  },
  {
   "cell_type": "markdown",
   "metadata": {},
   "source": [
    "## Asortativnost "
   ]
  },
  {
   "cell_type": "code",
   "execution_count": 36,
   "metadata": {},
   "outputs": [
    {
     "name": "stdout",
     "output_type": "stream",
     "text": [
      "Koeficijent asortativnosti na osnovu netežinskog stepena čvora: 0.10759828422148615\n",
      "Koeficijent asortativnosti na osnovu težinskog stepena cvora (broja meceva): 0.11951186141345967\n",
      "Koeficijent asortativnosti na osnovu ranka čvora: -0.007379444940080508\n"
     ]
    }
   ],
   "source": [
    "# asortativnost na osnovu netežinskog stepena čvora\n",
    "graph_ass = nx.degree_assortativity_coefficient(G)\n",
    "print(f\"Koeficijent asortativnosti na osnovu netežinskog stepena čvora: {graph_ass}\")\n",
    "\n",
    "# asortativnost na osnovu težinskog stepena čvora\n",
    "graph_weighted_ass = nx.degree_assortativity_coefficient(G, weight='weight')\n",
    "print(f\"Koeficijent asortativnosti na osnovu težinskog stepena cvora (broja meceva): {graph_weighted_ass}\")\n",
    "\n",
    "#Umereno asortativna mreza? - vezivanje cvorova koji su slicni\n",
    "\n",
    "# asortativnost na osnovu ranka\n",
    "graph_rank_ass = nx.attribute_assortativity_coefficient(G, 'rank')\n",
    "print(f\"Koeficijent asortativnosti na osnovu ranka čvora: {graph_rank_ass}\")\n",
    "\n",
    "#U grupe??"
   ]
  },
  {
   "cell_type": "code",
   "execution_count": 37,
   "metadata": {},
   "outputs": [],
   "source": [
    "max_rank = max([rank for (node,rank) in G.nodes(data='rank')])\n",
    "\n",
    "def getRankGroup(rank):\n",
    "    if rank<100:\n",
    "        return 'group100'\n",
    "    if rank<250:\n",
    "        return 'group250'\n",
    "    if rank<500:\n",
    "        return 'group500'\n",
    "    if rank<2000:\n",
    "        return 'group2000'\n",
    "    return 'theLastGroup'\n",
    "\n",
    "def addRankGroupAttributes():\n",
    "    for player in players:\n",
    "        G.nodes[player]['rank_group']=getRankGroup(G.nodes[player]['rank'])"
   ]
  },
  {
   "cell_type": "code",
   "execution_count": 38,
   "metadata": {},
   "outputs": [
    {
     "name": "stdout",
     "output_type": "stream",
     "text": [
      "Koeficijent asortativnosti na osnovu kategorije ranka čvora: 0.0722282965169065\n"
     ]
    }
   ],
   "source": [
    "addRankGroupAttributes()\n",
    "\n",
    "graph_rank_group_ass = nx.attribute_assortativity_coefficient(G, 'rank_group')\n",
    "print(f\"Koeficijent asortativnosti na osnovu kategorije ranka čvora: {graph_rank_group_ass}\")"
   ]
  },
  {
   "cell_type": "code",
   "execution_count": 39,
   "metadata": {},
   "outputs": [
    {
     "name": "stdout",
     "output_type": "stream",
     "text": [
      "Koeficijent asortativnosti na osnovu drzave: 0.004254590139861759\n"
     ]
    }
   ],
   "source": [
    "# asortativnost na osnovu drzave\n",
    "graph_rank_ass = nx.attribute_assortativity_coefficient(G, 'country_code')\n",
    "print(f\"Koeficijent asortativnosti na osnovu drzave: {graph_rank_ass}\")"
   ]
  },
  {
   "cell_type": "markdown",
   "metadata": {},
   "source": [
    "# 11. U kojoj meri teniseri imaju tendenciju da se susreću sa istim teniserima? Da li na to utiče njihovo rangiranje na ATP listi?\n"
   ]
  },
  {
   "cell_type": "code",
   "execution_count": 40,
   "metadata": {},
   "outputs": [],
   "source": [
    "def plot_num_of_opponents_per_rank(G, xscale = \"linear\", yscale = \"linear\"):\n",
    "     \n",
    "    x=[]\n",
    "    y=[]\n",
    "    for node,rank in G.nodes(data='rank'):\n",
    "        x.append(G.degree(weight='weight')[node]/G.degree[node])\n",
    "        y.append(rank)\n",
    "\n",
    "    plt.xscale(xscale)                                                                                                                \n",
    "    plt.xlim(1, max(x))  \n",
    "\n",
    "    plt.ylabel('rank')  \n",
    "    plt.xlabel('broj meceva/broj protivnika') \n",
    "    plt.yscale(yscale)                                                                                                                \n",
    "    plt.ylim(1, max(y))  \n",
    "                                                                                                                                                                                                    \n",
    "    plt.scatter(x, y, marker='.')                                                                                                    \n",
    "    plt.show()"
   ]
  },
  {
   "cell_type": "code",
   "execution_count": 41,
   "metadata": {
    "scrolled": true
   },
   "outputs": [
    {
     "data": {
      "image/png": "[encoded data removed]",
      "text/plain": [
       "<Figure size 432x288 with 1 Axes>"
      ]
     },
     "metadata": {
      "needs_background": "light"
     },
     "output_type": "display_data"
    }
   ],
   "source": [
    "plot_num_of_opponents_per_rank(G,'linear','log')"
   ]
  },
  {
   "cell_type": "markdown",
   "metadata": {},
   "source": [
    "# 12. Koji teniseri predstavljaju jezgro mreže?\n"
   ]
  },
  {
   "cell_type": "code",
   "execution_count": 42,
   "metadata": {},
   "outputs": [
    {
     "name": "stdout",
     "output_type": "stream",
     "text": [
      "Name: \n",
      "Type: Graph\n",
      "Number of nodes: 83\n",
      "Number of edges: 1204\n",
      "Average degree:  29.0120\n"
     ]
    },
    {
     "data": {
      "text/plain": [
       "0.35380546576550104"
      ]
     },
     "execution_count": 42,
     "metadata": {},
     "output_type": "execute_result"
    }
   ],
   "source": [
    "from networkx.algorithms import core\n",
    "\n",
    "core_graph = core.k_core(G)\n",
    "\n",
    "print(nx.info(core_graph))\n",
    "\n",
    "#da li je 78 od 219 jezgro?\n",
    "core_nodes = [(node,name) for node,name in core_graph.nodes(data='player_name')]\n",
    "\n",
    "#gustina znatno veca!\n",
    "nx.density(core_graph)"
   ]
  },
  {
   "cell_type": "markdown",
   "metadata": {},
   "source": [
    "# 13. Ko su teniseri koji povezuju različite grupe u okviru mreže?"
   ]
  },
  {
   "cell_type": "code",
   "execution_count": 43,
   "metadata": {},
   "outputs": [
    {
     "name": "stdout",
     "output_type": "stream",
     "text": [
      "Teniseri koji povezuju različite grupe u okviru mreže\n"
     ]
    },
    {
     "data": {
      "text/plain": [
       "[((105311, 'Joao Sousa', 54.568627450980394, 'POR'), 0.04078519853908428),\n",
       " ((106148, 'Roberto Carballes Baena', 84.6470588235294, 'ESP'),\n",
       "  0.03317825468531513),\n",
       " ((105807, 'Pablo Carreno Busta', 38.86274509803921, 'ESP'),\n",
       "  0.03279814699548046),\n",
       " ((105550, 'Guido Pella', 30.07843137254902, 'ARG'), 0.029964356358097008),\n",
       " ((104269, 'Fernando Verdasco', 36.1764705882353, 'ESP'), 0.02932099314755331),\n",
       " ((126094, 'Andrey Rublev', 65.58823529411765, 'RUS'), 0.0278624834430481),\n",
       " ((111442, 'Jordan Thompson', 60.96078431372549, 'AUS'), 0.027463007305310823),\n",
       " ((106233, 'Dominic Thiem', 5.098039215686274, 'AUT'), 0.026570569259028336),\n",
       " ((104655, 'Pablo Cuevas', 57.88235294117647, 'URU'), 0.026333068354674423),\n",
       " ((105932, 'Nikoloz Basilashvili', 19.686274509803923, 'GEO'),\n",
       "  0.02553264597305729)]"
      ]
     },
     "execution_count": 43,
     "metadata": {},
     "output_type": "execute_result"
    }
   ],
   "source": [
    "betweenness_centralities = [(node, centrality) for node, centrality in nx.betweenness_centrality(G).items()]\n",
    "\n",
    "max_betweenness_centralities = sorted(betweenness_centralities,key=lambda item: item[1], reverse=True)[:10]\n",
    "\n",
    "high_betweenness_centralities_centrality_players = [(get_player_info(player[0]), player[1]) for player in max_betweenness_centralities]\n",
    "\n",
    "print(f\"Teniseri koji povezuju različite grupe u okviru mreže\")\n",
    "high_betweenness_centralities_centrality_players"
   ]
  },
  {
   "cell_type": "markdown",
   "metadata": {},
   "source": [
    "# 14. Kolika je gustina svake od modelovanih mreža?"
   ]
  },
  {
   "cell_type": "code",
   "execution_count": 44,
   "metadata": {},
   "outputs": [
    {
     "data": {
      "text/plain": [
       "0.05630401626842908"
      ]
     },
     "execution_count": 44,
     "metadata": {},
     "output_type": "execute_result"
    }
   ],
   "source": [
    "nx.density(G)"
   ]
  },
  {
   "cell_type": "markdown",
   "metadata": {},
   "source": [
    "# 15. U kojoj meri su mreže povezane i centralizovane?"
   ]
  },
  {
   "cell_type": "code",
   "execution_count": 45,
   "metadata": {},
   "outputs": [
    {
     "data": {
      "text/plain": [
       "0.15496173469387756"
      ]
     },
     "execution_count": 45,
     "metadata": {},
     "output_type": "execute_result"
    }
   ],
   "source": [
    "_,degrees = zip(*G.degree())\n",
    "\n",
    "N=len(degrees)\n",
    "max_degree = max(degrees)\n",
    "\n",
    "#sum(max(x)-x)/(length(x)-1)\n",
    "centralization = float((N*max_degree - sum(degrees)))/(N-1)**2\n",
    "\n",
    "centralization"
   ]
  },
  {
   "cell_type": "code",
   "execution_count": 46,
   "metadata": {},
   "outputs": [],
   "source": [
    "def plot_players_per_centralities_frequency(G, xscale = \"linear\", yscale = \"linear\"):\n",
    "\n",
    "    degree_centralities = [centrality for node, centrality in nx.degree_centrality(G).items()]\n",
    "    centralities_counts = Counter(degree_centralities) #prebrojava, 1, 2, ..        \n",
    "    print(centralities_counts)\n",
    "    #lists = sorted(centralities_counts.items(),key=lambda item: item[1])\n",
    "    x,frequency = zip(*centralities_counts.items())                                                      \n",
    "\n",
    "    fig = plt.figure(1) \n",
    "    plt.xlabel('degree centrality')  \n",
    "    plt.xscale(xscale)                                                                                                                \n",
    "    plt.xlim(0, max(x))  \n",
    "\n",
    "    plt.ylabel('frequency')                                                                                                          \n",
    "    plt.yscale(yscale)                                                                                                                \n",
    "    plt.ylim(1, max(frequency))                                                                                                             \n",
    "                                                                                                                                                                                                    \n",
    "    plt.scatter(x, frequency, marker='.')  \n",
    "    plt.show()   "
   ]
  },
  {
   "cell_type": "code",
   "execution_count": 47,
   "metadata": {},
   "outputs": [
    {
     "name": "stdout",
     "output_type": "stream",
     "text": [
      "Counter({0.0035714285714285713: 58, 0.007142857142857143: 34, 0.010714285714285714: 18, 0.024999999999999998: 11, 0.014285714285714285: 10, 0.1392857142857143: 8, 0.02857142857142857: 7, 0.16428571428571428: 7, 0.14285714285714285: 6, 0.10357142857142856: 6, 0.05357142857142857: 6, 0.03214285714285714: 5, 0.15357142857142855: 5, 0.060714285714285714: 5, 0.05714285714285714: 5, 0.04285714285714286: 5, 0.125: 5, 0.16785714285714284: 5, 0.02142857142857143: 5, 0.08928571428571429: 4, 0.039285714285714285: 4, 0.12857142857142856: 4, 0.13214285714285715: 4, 0.017857142857142856: 3, 0.07142857142857142: 3, 0.11071428571428571: 3, 0.09642857142857142: 3, 0.049999999999999996: 3, 0.09285714285714286: 3, 0.09999999999999999: 3, 0.15714285714285714: 3, 0.12142857142857143: 3, 0.14642857142857144: 3, 0.1607142857142857: 2, 0.10714285714285714: 2, 0.04642857142857143: 2, 0.175: 2, 0.15: 2, 0.075: 2, 0.03571428571428571: 2, 0.08214285714285714: 2, 0.11428571428571428: 2, 0.1357142857142857: 1, 0.06428571428571428: 1, 0.07857142857142857: 1, 0.18214285714285713: 1, 0.17857142857142858: 1, 0.21071428571428572: 1})\n"
     ]
    },
    {
     "data": {
      "image/png": "[encoded data removed]",
      "text/plain": [
       "<Figure size 432x288 with 1 Axes>"
      ]
     },
     "metadata": {
      "needs_background": "light"
     },
     "output_type": "display_data"
    }
   ],
   "source": [
    "#ako ima nekoliko koji se izdvajaju sa velikom centralnoscu - centralizovan\n",
    "#nas nije\n",
    "plot_players_per_centralities_frequency(G)"
   ]
  },
  {
   "cell_type": "code",
   "execution_count": 48,
   "metadata": {},
   "outputs": [
    {
     "name": "stdout",
     "output_type": "stream",
     "text": [
      "1\n",
      "1\n"
     ]
    }
   ],
   "source": [
    "# returns number of nodes to be removed \n",
    "# so that Graph becomes disconnected \n",
    "print(nx.node_connectivity(G)) \n",
    "  \n",
    "# returns number of edges to be removed \n",
    "# so that Graph becomes disconnected \n",
    "print(nx.edge_connectivity(G))\n",
    "\n",
    "#treba mnogo vremena!!!\n",
    "#nx.average_node_connectivity(G)"
   ]
  },
  {
   "cell_type": "markdown",
   "metadata": {},
   "source": [
    "# 16. Koje su prosečne distance, a koliki dijametar u okviru modelovanih mreža?"
   ]
  },
  {
   "cell_type": "code",
   "execution_count": 49,
   "metadata": {},
   "outputs": [
    {
     "name": "stdout",
     "output_type": "stream",
     "text": [
      "Prosecna distanca: 2.685892221657346\n",
      "Dijametar: 7\n"
     ]
    }
   ],
   "source": [
    "#ovoga vise nema kad smo izbacili Davis Cup!\n",
    "# for g in [G.subgraph(c) for c in nx.connected_components(G)]: \n",
    "#     if len(g.nodes())<=4:\n",
    "#         small_components=get_players_info(g.nodes())\n",
    "#     if len(g.nodes())==19:\n",
    "#         one_bigger_component=getPlayersInfo(g.nodes())\n",
    "        \n",
    "if nx.is_connected(G):\n",
    "    print(f'Prosecna distanca: {(nx.average_shortest_path_length(G))}')\n",
    "    print(f'Dijametar: {nx.diameter(G)}')"
   ]
  },
  {
   "cell_type": "markdown",
   "metadata": {},
   "source": [
    "# 17. Kakva je distribucija čvorova po stepenu i da li prati neku zakonomernost? Kako je stepen čvora korelisan sa rejtingom tenisera?"
   ]
  },
  {
   "cell_type": "code",
   "execution_count": 50,
   "metadata": {},
   "outputs": [
    {
     "name": "stdout",
     "output_type": "stream",
     "text": [
      "Counter({1: 58, 2: 34, 3: 18, 7: 11, 4: 10, 39: 8, 8: 7, 46: 7, 40: 6, 29: 6, 15: 6, 9: 5, 43: 5, 17: 5, 16: 5, 12: 5, 35: 5, 47: 5, 6: 5, 25: 4, 11: 4, 36: 4, 37: 4, 5: 3, 20: 3, 31: 3, 27: 3, 14: 3, 26: 3, 28: 3, 44: 3, 34: 3, 41: 3, 45: 2, 30: 2, 13: 2, 49: 2, 42: 2, 21: 2, 10: 2, 23: 2, 32: 2, 38: 1, 18: 1, 22: 1, 51: 1, 50: 1, 59: 1})\n"
     ]
    },
    {
     "data": {
      "image/png": "[encoded data removed]",
      "text/plain": [
       "<Figure size 432x288 with 1 Axes>"
      ]
     },
     "metadata": {
      "needs_background": "light"
     },
     "output_type": "display_data"
    }
   ],
   "source": [
    "plot_deg_frequency(G, weighted=False)"
   ]
  },
  {
   "cell_type": "code",
   "execution_count": 51,
   "metadata": {},
   "outputs": [],
   "source": [
    "def plot_deg_distribution(G, weighted=False, xscale = \"log\", yscale = \"log\"):\n",
    "\n",
    "    if weighted:\n",
    "        degrees = G.degree(weight=\"weight\")\n",
    "    else:\n",
    "        degrees = G.degree()\n",
    "    _, deg_list = zip(*degrees)    #unzip\n",
    "    deg_counts = Counter(deg_list) #prebrojava, 1, 2, ..        \n",
    "    print(deg_counts)\n",
    "    degree, frequency = zip(*deg_counts.items())                                                      \n",
    "\n",
    "    fig = plt.figure(1)\n",
    "    plt.ylabel('degree')\n",
    "    plt.ylabel('Broj cvorova')\n",
    "    ax = fig.add_axes([0,0,1,1])\n",
    "    ax.bar(degree,frequency)\n",
    "    plt.show()"
   ]
  },
  {
   "cell_type": "code",
   "execution_count": 52,
   "metadata": {},
   "outputs": [
    {
     "name": "stdout",
     "output_type": "stream",
     "text": [
      "Counter({1: 58, 2: 34, 3: 18, 7: 11, 4: 10, 39: 8, 8: 7, 46: 7, 40: 6, 29: 6, 15: 6, 9: 5, 43: 5, 17: 5, 16: 5, 12: 5, 35: 5, 47: 5, 6: 5, 25: 4, 11: 4, 36: 4, 37: 4, 5: 3, 20: 3, 31: 3, 27: 3, 14: 3, 26: 3, 28: 3, 44: 3, 34: 3, 41: 3, 45: 2, 30: 2, 13: 2, 49: 2, 42: 2, 21: 2, 10: 2, 23: 2, 32: 2, 38: 1, 18: 1, 22: 1, 51: 1, 50: 1, 59: 1})\n"
     ]
    },
    {
     "data": {
      "image/png": "[encoded data removed]",
      "text/plain": [
       "<Figure size 432x288 with 2 Axes>"
      ]
     },
     "metadata": {
      "needs_background": "light"
     },
     "output_type": "display_data"
    }
   ],
   "source": [
    "plot_deg_distribution(G)\n",
    "#plot_deg_distribution(G, weighted=True)"
   ]
  },
  {
   "cell_type": "code",
   "execution_count": 53,
   "metadata": {},
   "outputs": [],
   "source": [
    "def plot_rank_degree(G, weight=True, xscale = \"log\", yscale = \"log\"):\n",
    "\n",
    "    if (weight):\n",
    "        rank_degree = [(rank,G.degree(weight='weight')[node]) for node,rank in G.nodes(data='rank')]\n",
    "    else:\n",
    "        rank_degree = [(rank,G.degree()[node]) for node,rank in G.nodes(data='rank')]\n",
    "    rank, degree = zip(*rank_degree)                                                      \n",
    "\n",
    "    plt.figure(1)   \n",
    "\n",
    "    # prep axes   \n",
    "    plt.xlabel('rank')                                                                                                             \n",
    "    plt.xscale(xscale)                                                                                                                \n",
    "    plt.xlim(1, max(rank))  \n",
    "\n",
    "    plt.ylabel('degree')                                                                                                          \n",
    "    plt.yscale(yscale)                                                                                                                \n",
    "    plt.ylim(1, max(degree))                                                                                                             \n",
    "                                                                                                                                                                                                    \n",
    "    plt.scatter(rank, degree, marker='.')                                                                                                    \n",
    "    plt.show()"
   ]
  },
  {
   "cell_type": "code",
   "execution_count": 54,
   "metadata": {
    "scrolled": true
   },
   "outputs": [
    {
     "data": {
      "image/png": "[encoded data removed]",
      "text/plain": [
       "<Figure size 432x288 with 1 Axes>"
      ]
     },
     "metadata": {
      "needs_background": "light"
     },
     "output_type": "display_data"
    }
   ],
   "source": [
    "plot_rank_degree(G)"
   ]
  },
  {
   "cell_type": "markdown",
   "metadata": {},
   "source": [
    "# 18. Da li u mreži postoje habovi i koji su? "
   ]
  },
  {
   "cell_type": "code",
   "execution_count": 55,
   "metadata": {},
   "outputs": [
    {
     "data": {
      "text/plain": [
       "[((126774, 'Stefanos Tsitsipas', 8.0, 'GRE'), 0.01927962420018486),\n",
       " ((106421, 'Daniil Medvedev', 10.352941176470589, 'RUS'),\n",
       "  0.017673423886142986),\n",
       " ((103819, 'Roger Federer', 3.549019607843137, 'SUI'), 0.01593159446583423),\n",
       " ((104925, 'Novak Djokovic', 1.1568627450980393, 'SRB'), 0.015843302337860878),\n",
       " ((106233, 'Dominic Thiem', 5.098039215686274, 'AUT'), 0.015514739978732294),\n",
       " ((104745, 'Rafael Nadal', 1.8431372549019607, 'ESP'), 0.015329668449704788),\n",
       " ((126610, 'Matteo Berrettini', 29.58823529411765, 'ITA'),\n",
       "  0.014877683210084525),\n",
       " ((105676, 'David Goffin', 19.058823529411764, 'BEL'), 0.014244651386292443),\n",
       " ((100644, 'Alexander Zverev', 4.96078431372549, 'GER'), 0.01421656137585437),\n",
       " ((105526, 'Jan Lennard Struff', 41.98039215686274, 'GER'),\n",
       "  0.013233945276642223)]"
      ]
     },
     "execution_count": 55,
     "metadata": {},
     "output_type": "execute_result"
    }
   ],
   "source": [
    "hubs,authorities = nx.hits(G)\n",
    "\n",
    "high_hubs_players = [(get_player_info(node), h) for node,h in sorted(hubs.items(), key=lambda element: (element[1]),reverse=True)][:10]\n",
    "\n",
    "high_hubs_players\n",
    "\n",
    "#moze i eigen_vector"
   ]
  },
  {
   "cell_type": "markdown",
   "metadata": {},
   "source": [
    "# 19. Da li mreža tenisera iskazuje osobine malog sveta?\n",
    "A small world network is characterized by a small average shortest path length, and a large clustering coefficient.\n",
    "\n",
    "Small-worldness is commonly measured with the coefficient sigma or omega.\n",
    "\n",
    "Both coefficients compare the average clustering coefficient and shortest path length of a given graph against the same quantities for an equivalent random or lattice graph."
   ]
  },
  {
   "cell_type": "code",
   "execution_count": 56,
   "metadata": {},
   "outputs": [],
   "source": [
    "# #sigma>1\n",
    "# sigma = nx.sigma(G)\n",
    "\n",
    "# #~0\n",
    "# omega = nx.omega(G)"
   ]
  },
  {
   "cell_type": "markdown",
   "metadata": {},
   "source": [
    "# 20. Kakve su karakteristike ego mreža članova Velike trojke? U kojoj meri se te karakteristike razlikuju?"
   ]
  },
  {
   "cell_type": "code",
   "execution_count": 57,
   "metadata": {},
   "outputs": [],
   "source": [
    "def get_average_ranks(G):\n",
    "    ranks = [rank for node,rank in G.nodes(data='rank')]\n",
    "    return sum(ranks)/len(ranks)"
   ]
  },
  {
   "cell_type": "code",
   "execution_count": 58,
   "metadata": {},
   "outputs": [
    {
     "name": "stdout",
     "output_type": "stream",
     "text": [
      "Novakova ego mreza : Name: \n",
      "Type: Graph\n",
      "Number of nodes: 45\n",
      "Number of edges: 316\n",
      "Average degree:  14.0444\n",
      "Prosecan tezinski stepen : 19.2\n",
      "Gustina mreze : 0.3191919191919192\n",
      "Prosecan rank tenisera mreze : 53.859259259259254\n",
      "Degree centrality : [1.0]\n",
      "Eigenvector centrality : [0.3259250875135497]\n",
      "\n",
      "\n",
      "Nadalova ego mreza : Name: \n",
      "Type: Graph\n",
      "Number of nodes: 48\n",
      "Number of edges: 366\n",
      "Average degree:  15.2500\n",
      "Prosecan tezinski stepen : 20.5\n",
      "Gustina mreze : 0.324468085106383\n",
      "Prosecan rank tenisera mreze : 63.73988970588235\n",
      "Degree centrality : [1.0]\n",
      "Eigenvector centrality : [0.3102351140802617]\n",
      "\n",
      "\n",
      "Federerova ego mreza : Name: \n",
      "Type: Graph\n",
      "Number of nodes: 47\n",
      "Number of edges: 370\n",
      "Average degree:  15.7447\n",
      "Prosecan tezinski stepen : 21.361702127659573\n",
      "Gustina mreze : 0.3422756706753006\n",
      "Prosecan rank tenisera mreze : 52.48268669169795\n",
      "Degree centrality : [1.0]\n",
      "Eigenvector centrality : [0.32263402498819416]\n"
     ]
    }
   ],
   "source": [
    "novak_id = get_player_by_name(\"Novak Djokovic\")\n",
    "rafa_id = get_player_by_name(\"Rafael Nadal\")\n",
    "federer_id = get_player_by_name(\"Roger Federer\")\n",
    "\n",
    "novak_ego_graph = nx.ego_graph(G,novak_id)\n",
    "print(f\"Novakova ego mreza : {nx.info(novak_ego_graph)}\")\n",
    "print(f\"Prosecan tezinski stepen : {get_average_weighted_degree(novak_ego_graph)}\")\n",
    "print(f\"Gustina mreze : {nx.density(novak_ego_graph)}\")\n",
    "print(f\"Prosecan rank tenisera mreze : {get_average_ranks(novak_ego_graph)}\")\n",
    "novak_degree_centrality = [centrality for node, centrality in nx.degree_centrality(novak_ego_graph).items() if node==novak_id]\n",
    "novak_eigenvector_centrality = [centrality for node, centrality in nx.eigenvector_centrality(novak_ego_graph).items() if node==novak_id]\n",
    "print(f\"Degree centrality : {novak_degree_centrality}\")\n",
    "print(f\"Eigenvector centrality : {novak_eigenvector_centrality}\")\n",
    "print(\"\\n\")\n",
    "\n",
    "rafa_ego_graph = nx.ego_graph(G,rafa_id)\n",
    "print(f\"Nadalova ego mreza : {nx.info(rafa_ego_graph)}\")\n",
    "print(f\"Prosecan tezinski stepen : {get_average_weighted_degree(rafa_ego_graph)}\")\n",
    "print(f\"Gustina mreze : {nx.density(rafa_ego_graph)}\")\n",
    "print(f\"Prosecan rank tenisera mreze : {get_average_ranks(rafa_ego_graph)}\")\n",
    "rafa_degree_centrality = [centrality for node, centrality in nx.degree_centrality(rafa_ego_graph).items() if node==rafa_id]\n",
    "rafa_eigenvector_centrality = [centrality for node, centrality in nx.eigenvector_centrality(rafa_ego_graph).items() if node==rafa_id]\n",
    "print(f\"Degree centrality : {rafa_degree_centrality}\")\n",
    "print(f\"Eigenvector centrality : {rafa_eigenvector_centrality}\")\n",
    "print(\"\\n\")\n",
    "\n",
    "federer_ego_graph = nx.ego_graph(G,federer_id)\n",
    "print(f\"Federerova ego mreza : {nx.info(federer_ego_graph)}\")\n",
    "print(f\"Prosecan tezinski stepen : {get_average_weighted_degree(federer_ego_graph)}\")\n",
    "print(f\"Gustina mreze : {nx.density(federer_ego_graph)}\")\n",
    "print(f\"Prosecan rank tenisera mreze : {get_average_ranks(federer_ego_graph)}\")\n",
    "federer_degree_centrality = [centrality for node, centrality in nx.degree_centrality(federer_ego_graph).items() if node==federer_id]\n",
    "federer_eigenvector_centrality = [centrality for node, centrality in nx.eigenvector_centrality(federer_ego_graph).items() if node==federer_id]\n",
    "print(f\"Degree centrality : {federer_degree_centrality}\")\n",
    "print(f\"Eigenvector centrality : {federer_eigenvector_centrality}\")"
   ]
  },
  {
   "cell_type": "code",
   "execution_count": 59,
   "metadata": {},
   "outputs": [
    {
     "name": "stdout",
     "output_type": "stream",
     "text": [
      "Novak i Rafa: 23\n",
      " [(105227, 'Marin Cilic', 19.431372549019606, 'CRO'), (103819, 'Roger Federer', 3.549019607843137, 'SUI'), (105357, 'John Millman', 52.72549019607843, 'AUS'), (126610, 'Matteo Berrettini', 29.58823529411765, 'ITA'), (100644, 'Alexander Zverev', 4.96078431372549, 'GER'), (104871, 'Jeremy Chardy', 54.411764705882355, 'FRA'), (104745, 'Rafael Nadal', 1.8431372549019607, 'ESP'), (105777, 'Grigor Dimitrov', 36.333333333333336, 'BUL'), (105138, 'Roberto Bautista Agut', 16.058823529411764, 'ESP'), (106421, 'Daniil Medvedev', 10.352941176470589, 'RUS'), (133430, 'Denis Shapovalov', 25.11764705882353, 'CAN'), (126774, 'Stefanos Tsitsipas', 8.0, 'GRE'), (105526, 'Jan Lennard Struff', 41.98039215686274, 'GER'), (106043, 'Diego Sebastian Schwartzman', 20.11764705882353, 'ARG'), (105023, 'Sam Querrey', 53.21568627450981, 'USA'), (105932, 'Nikoloz Basilashvili', 19.686274509803923, 'GEO'), (105676, 'David Goffin', 19.058823529411764, 'BEL'), (104527, 'Stanislas Wawrinka', 28.88235294117647, 'SUI'), (104925, 'Novak Djokovic', 1.1568627450980393, 'SRB'), (104542, 'Jo Wilfried Tsonga', 82.92156862745098, 'FRA'), (105453, 'Kei Nishikori', 8.07843137254902, 'JPN'), (106228, 'Juan Ignacio Londero', 66.45098039215686, 'ARG'), (106233, 'Dominic Thiem', 5.098039215686274, 'AUT')]\n",
      "\n",
      "\n",
      "Novak i Federer: 25\n",
      " [(106378, 'Kyle Edmund', 36.490196078431374, 'GBR'), (103819, 'Roger Federer', 3.549019607843137, 'SUI'), (105357, 'John Millman', 52.72549019607843, 'AUS'), (106000, 'Damir Dzumhur', 74.62745098039215, 'BIH'), (126610, 'Matteo Berrettini', 29.58823529411765, 'ITA'), (128034, 'Hubert Hurkacz', 49.1764705882353, 'POL'), (100644, 'Alexander Zverev', 4.96078431372549, 'GER'), (104745, 'Rafael Nadal', 1.8431372549019607, 'ESP'), (105777, 'Grigor Dimitrov', 36.333333333333336, 'BUL'), (105138, 'Roberto Bautista Agut', 16.058823529411764, 'ESP'), (106421, 'Daniil Medvedev', 10.352941176470589, 'RUS'), (133430, 'Denis Shapovalov', 25.11764705882353, 'CAN'), (126774, 'Stefanos Tsitsipas', 8.0, 'GRE'), (106298, 'Lucas Pouille', 25.862745098039216, 'FRA'), (105916, 'Marton Fucsovics', 52.0, 'HUN'), (104259, 'Philipp Kohlschreiber', 58.745098039215684, 'GER'), (105676, 'David Goffin', 19.058823529411764, 'BEL'), (104527, 'Stanislas Wawrinka', 28.88235294117647, 'SUI'), (104925, 'Novak Djokovic', 1.1568627450980393, 'SRB'), (104542, 'Jo Wilfried Tsonga', 82.92156862745098, 'FRA'), (104545, 'John Isner', 13.372549019607844, 'USA'), (105453, 'Kei Nishikori', 8.07843137254902, 'JPN'), (106228, 'Juan Ignacio Londero', 66.45098039215686, 'ARG'), (106233, 'Dominic Thiem', 5.098039215686274, 'AUT'), (126203, 'Taylor Harry Fritz', 39.411764705882355, 'USA')]\n",
      "\n",
      "\n",
      "Federer i Rafa: 24\n",
      " [(103819, 'Roger Federer', 3.549019607843137, 'SUI'), (105357, 'John Millman', 52.72549019607843, 'AUS'), (126610, 'Matteo Berrettini', 29.58823529411765, 'ITA'), (100644, 'Alexander Zverev', 4.96078431372549, 'GER'), (104745, 'Rafael Nadal', 1.8431372549019607, 'ESP'), (105777, 'Grigor Dimitrov', 36.333333333333336, 'BUL'), (105138, 'Roberto Bautista Agut', 16.058823529411764, 'ESP'), (106421, 'Daniil Medvedev', 10.352941176470589, 'RUS'), (126774, 'Stefanos Tsitsipas', 8.0, 'GRE'), (133430, 'Denis Shapovalov', 25.11764705882353, 'CAN'), (105676, 'David Goffin', 19.058823529411764, 'BEL'), (104269, 'Fernando Verdasco', 36.1764705882353, 'ESP'), (104527, 'Stanislas Wawrinka', 28.88235294117647, 'SUI'), (105936, 'Filip Krajinovic', 64.7843137254902, 'SRB'), (105554, 'Daniel Evans', 77.68627450980392, 'GBR'), (104919, 'Leonardo Mayer', 72.82352941176471, 'ARG'), (104792, 'Gael Monfils', 17.274509803921568, 'FRA'), (200282, 'Alex De Minaur', 26.529411764705884, 'AUS'), (104925, 'Novak Djokovic', 1.1568627450980393, 'SRB'), (104542, 'Jo Wilfried Tsonga', 82.92156862745098, 'FRA'), (105311, 'Joao Sousa', 54.568627450980394, 'POR'), (105453, 'Kei Nishikori', 8.07843137254902, 'JPN'), (106228, 'Juan Ignacio Londero', 66.45098039215686, 'ARG'), (106233, 'Dominic Thiem', 5.098039215686274, 'AUT')]\n"
     ]
    }
   ],
   "source": [
    "novak_nodes = set(novak_ego_graph.nodes())\n",
    "rafa_nodes = set(rafa_ego_graph.nodes())\n",
    "federer_nodes = set(federer_ego_graph.nodes())\n",
    "\n",
    "novak_rafa_node = novak_nodes.intersection(rafa_nodes)\n",
    "novak_federer_node = novak_nodes.intersection(federer_nodes)\n",
    "rafa_federer_node = rafa_nodes.intersection(federer_nodes)\n",
    "\n",
    "print(f\"Novak i Rafa: {len(novak_rafa_node)}\")\n",
    "print(f\" {get_players_info(novak_rafa_node)}\")\n",
    "print(\"\\n\")\n",
    "print(f\"Novak i Federer: {len(novak_federer_node)}\")\n",
    "print(f\" {get_players_info(novak_federer_node)}\")\n",
    "print(\"\\n\")\n",
    "print(f\"Federer i Rafa: {len(rafa_federer_node)}\")\n",
    "print(f\" {get_players_info(rafa_federer_node)}\")"
   ]
  },
  {
   "cell_type": "markdown",
   "metadata": {},
   "source": [
    "# 21. Kakva je pozicija ego čvora u svakoj od ego mreža? Kako su oni strukturno ugrađeni u mrežu?"
   ]
  },
  {
   "cell_type": "code",
   "execution_count": 60,
   "metadata": {},
   "outputs": [
    {
     "name": "stdout",
     "output_type": "stream",
     "text": [
      "Procenat Novakovih veza = 13.924050632911392\n",
      "Procenat Nadalovih veza = 12.841530054644808\n",
      "Procenat Federerovih veza = 14.556962025316455\n"
     ]
    }
   ],
   "source": [
    "novak_edges = [edge for edge in novak_ego_graph.edges(nbunch=novak_id)]\n",
    "edges = novak_ego_graph.edges()\n",
    "\n",
    "print(f\"Procenat Novakovih veza = {len(novak_edges)*100/len(edges)}\")\n",
    "\n",
    "rafa_edges = [edge for edge in rafa_ego_graph.edges(nbunch=rafa_id)]\n",
    "edges = rafa_ego_graph.edges()\n",
    "\n",
    "print(f\"Procenat Nadalovih veza = {len(rafa_edges)*100/len(edges)}\")\n",
    "\n",
    "federer_edges = [edge for edge in federer_ego_graph.edges(nbunch=federer_id)]\n",
    "edges = novak_ego_graph.edges()\n",
    "\n",
    "print(f\"Procenat Federerovih veza = {len(federer_edges)*100/len(edges)}\")"
   ]
  },
  {
   "cell_type": "markdown",
   "metadata": {},
   "source": [
    "# 22. Kako su posmatrane ego mreže ugrađene u mrežu tenisera?"
   ]
  },
  {
   "cell_type": "code",
   "execution_count": 61,
   "metadata": {},
   "outputs": [
    {
     "name": "stdout",
     "output_type": "stream",
     "text": [
      "Procenat Novakovih veza u ego i obicnoj mrezi = 14.266365688487584\n",
      "Procenat Novakovih suparnika u obicnoj mrezi = 16.01423487544484\n"
     ]
    }
   ],
   "source": [
    "novak_ego_edges = [edge for edge in novak_ego_graph.edges()]\n",
    "edges = [edge for edge in G.edges()]\n",
    "\n",
    "print(f\"Procenat Novakovih veza u ego i obicnoj mrezi = {len(novak_ego_edges)*100/len(edges)}\")\n",
    "print(f\"Procenat Novakovih suparnika u obicnoj mrezi = {len(novak_nodes)*100/len(G.nodes())}\")"
   ]
  },
  {
   "cell_type": "code",
   "execution_count": 62,
   "metadata": {},
   "outputs": [
    {
     "name": "stdout",
     "output_type": "stream",
     "text": [
      "Procenat Nadalovih veza u ego i obicnoj mrezi = 16.52370203160271\n",
      "Procenat Nadalovih suparnika u obicnoj mrezi = 17.081850533807827\n"
     ]
    }
   ],
   "source": [
    "rafa_ego_edges = [edge for edge in rafa_ego_graph.edges()]\n",
    "edges = [edge for edge in G.edges()]\n",
    "\n",
    "print(f\"Procenat Nadalovih veza u ego i obicnoj mrezi = {len(rafa_ego_edges)*100/len(edges)}\")\n",
    "print(f\"Procenat Nadalovih suparnika u obicnoj mrezi = {len(rafa_nodes)*100/len(G.nodes())}\")"
   ]
  },
  {
   "cell_type": "code",
   "execution_count": 63,
   "metadata": {},
   "outputs": [
    {
     "name": "stdout",
     "output_type": "stream",
     "text": [
      "Procenat Federerovih veza u ego i obicnoj mrezi = 16.704288939051917\n",
      "Procenat Federerovih suparnika u obicnoj mrezi = 16.725978647686834\n"
     ]
    }
   ],
   "source": [
    "federer_ego_edges = [edge for edge in federer_ego_graph.edges()]\n",
    "edges = [edge for edge in G.edges()]\n",
    "\n",
    "print(f\"Procenat Federerovih veza u ego i obicnoj mrezi = {len(federer_ego_edges)*100/len(edges)}\")\n",
    "print(f\"Procenat Federerovih suparnika u obicnoj mrezi = {len(federer_nodes)*100/len(G.nodes())}\")"
   ]
  },
  {
   "cell_type": "markdown",
   "metadata": {},
   "source": [
    "# 23. Analizirati mrežu dobijenu unifikacijom ego mreža članova Velike trojke.\n",
    "## Koji procenat čvorova mreže svih tenisera učestvuje u njoj?\n",
    "## Sprovesti klasterisanje ovako dobijene mreže na tri klastera i na osnovu dobijenih rezultata dati interpretaciju kriterijuma pripadnosti klasterima.\n"
   ]
  },
  {
   "cell_type": "code",
   "execution_count": 64,
   "metadata": {},
   "outputs": [
    {
     "name": "stdout",
     "output_type": "stream",
     "text": [
      "Unificirana mreza : Name: \n",
      "Type: Graph\n",
      "Number of nodes: 85\n",
      "Number of edges: 684\n",
      "Average degree:  16.0941\n",
      "Prosecan tezinski stepen : 20.988235294117647\n",
      "Gustina mreze : 0.1915966386554622\n",
      "Prosecan rank tenisera mreze : 73.42520184544405\n"
     ]
    }
   ],
   "source": [
    "all_edges = set(novak_ego_edges).union(set(rafa_ego_edges)).union(set(federer_ego_edges))\n",
    "\n",
    "u = G.edge_subgraph(all_edges)\n",
    "print(f\"Unificirana mreza : {nx.info(u)}\")\n",
    "print(f\"Prosecan tezinski stepen : {get_average_weighted_degree(u)}\")\n",
    "print(f\"Gustina mreze : {nx.density(u)}\")\n",
    "print(f\"Prosecan rank tenisera mreze : {get_average_ranks(u)}\")"
   ]
  },
  {
   "cell_type": "code",
   "execution_count": 65,
   "metadata": {},
   "outputs": [
    {
     "name": "stdout",
     "output_type": "stream",
     "text": [
      "Procenat cvorova u unificirano mrezi = 30.249110320284696\n"
     ]
    }
   ],
   "source": [
    "print(f\"Procenat cvorova u unificirano mrezi = {len(u.nodes())*100/len(G.nodes())}\")"
   ]
  },
  {
   "cell_type": "code",
   "execution_count": 66,
   "metadata": {},
   "outputs": [
    {
     "data": {
      "text/plain": [
       "{0: [105216,\n",
       "  105223,\n",
       "  106000,\n",
       "  104731,\n",
       "  103970,\n",
       "  104999,\n",
       "  106283,\n",
       "  104755,\n",
       "  106045,\n",
       "  104259,\n",
       "  200005,\n",
       "  105554,\n",
       "  106071,\n",
       "  105051,\n",
       "  104797,\n",
       "  104545,\n",
       "  111202,\n",
       "  120424,\n",
       "  144750,\n",
       "  134770,\n",
       "  106099,\n",
       "  105077,\n",
       "  105870,\n",
       "  104607,\n",
       "  105376,\n",
       "  106148,\n",
       "  200615,\n",
       "  105643,\n",
       "  144895,\n",
       "  105902,\n",
       "  106423,\n",
       "  132283,\n",
       "  126652,\n",
       "  106432,\n",
       "  105173,\n",
       "  105430,\n",
       "  104919,\n",
       "  111576,\n",
       "  111577,\n",
       "  106214,\n",
       "  106216,\n",
       "  104424,\n",
       "  105967,\n",
       "  106228],\n",
       " 1: [128034,\n",
       "  100644,\n",
       "  104745,\n",
       "  126774,\n",
       "  133430,\n",
       "  104527,\n",
       "  103819,\n",
       "  126610,\n",
       "  105138,\n",
       "  106421,\n",
       "  105676,\n",
       "  104925,\n",
       "  106233],\n",
       " 2: [105732,\n",
       "  105227,\n",
       "  105777,\n",
       "  105526,\n",
       "  106298,\n",
       "  106043,\n",
       "  105023,\n",
       "  200000,\n",
       "  104269,\n",
       "  105550,\n",
       "  105807,\n",
       "  104792,\n",
       "  200282,\n",
       "  104542,\n",
       "  105311,\n",
       "  106378,\n",
       "  105357,\n",
       "  126094,\n",
       "  106401,\n",
       "  104871,\n",
       "  105916,\n",
       "  105932,\n",
       "  105936,\n",
       "  111575,\n",
       "  104926,\n",
       "  105453,\n",
       "  126203,\n",
       "  126207]}"
      ]
     },
     "execution_count": 66,
     "metadata": {},
     "output_type": "execute_result"
    }
   ],
   "source": [
    "data = u.nodes()\n",
    "edge_mat = nx.to_numpy_matrix(u,nodelist=data,weight='weight')\n",
    "\n",
    "kmeans = cluster.KMeans(n_clusters=3, n_init=200)\n",
    "\n",
    "kmeans = kmeans.fit(edge_mat)\n",
    "\n",
    "#initialize dict\n",
    "clusters = {}\n",
    "for index in range(0,3): \n",
    "    nodes = []    \n",
    "    clusters[index] = nodes\n",
    "    \n",
    "for cluster_info in zip(data,kmeans.labels_):\n",
    "    clusters[cluster_info[1]].append(cluster_info[0])\n",
    "clusters"
   ]
  },
  {
   "cell_type": "code",
   "execution_count": 67,
   "metadata": {},
   "outputs": [
    {
     "data": {
      "text/plain": [
       "array([[0, 1],\n",
       "       [0, 1],\n",
       "       [0, 1],\n",
       "       [0, 2],\n",
       "       [0, 2],\n",
       "       [0, 1],\n",
       "       [0, 2],\n",
       "       [0, 1],\n",
       "       [0, 3],\n",
       "       [0, 1],\n",
       "       [0, 3],\n",
       "       [0, 1],\n",
       "       [0, 3],\n",
       "       [0, 1],\n",
       "       [0, 2],\n",
       "       [0, 3],\n",
       "       [0, 3],\n",
       "       [0, 2],\n",
       "       [0, 2],\n",
       "       [0, 1],\n",
       "       [0, 2],\n",
       "       [0, 1],\n",
       "       [0, 2],\n",
       "       [0, 1],\n",
       "       [0, 2],\n",
       "       [0, 1],\n",
       "       [0, 3],\n",
       "       [0, 1],\n",
       "       [0, 2],\n",
       "       [0, 1],\n",
       "       [0, 2],\n",
       "       [0, 2],\n",
       "       [0, 1],\n",
       "       [0, 1],\n",
       "       [0, 3],\n",
       "       [0, 2],\n",
       "       [0, 2],\n",
       "       [0, 1],\n",
       "       [0, 1],\n",
       "       [0, 1],\n",
       "       [0, 1],\n",
       "       [0, 1],\n",
       "       [0, 1],\n",
       "       [0, 2],\n",
       "       [0, 3],\n",
       "       [0, 3],\n",
       "       [0, 1],\n",
       "       [0, 1],\n",
       "       [0, 3],\n",
       "       [0, 1],\n",
       "       [0, 1],\n",
       "       [0, 1],\n",
       "       [0, 1],\n",
       "       [0, 1],\n",
       "       [0, 2],\n",
       "       [0, 1],\n",
       "       [0, 1],\n",
       "       [0, 1],\n",
       "       [0, 3],\n",
       "       [0, 3],\n",
       "       [0, 1],\n",
       "       [0, 1],\n",
       "       [0, 1],\n",
       "       [0, 2],\n",
       "       [0, 1],\n",
       "       [0, 3],\n",
       "       [0, 2],\n",
       "       [0, 2],\n",
       "       [0, 1],\n",
       "       [0, 1],\n",
       "       [0, 2],\n",
       "       [0, 1],\n",
       "       [0, 1],\n",
       "       [0, 1],\n",
       "       [0, 3],\n",
       "       [0, 1],\n",
       "       [0, 1],\n",
       "       [0, 1],\n",
       "       [0, 1],\n",
       "       [0, 3],\n",
       "       [0, 1],\n",
       "       [0, 3],\n",
       "       [0, 3],\n",
       "       [0, 2],\n",
       "       [0, 1]])"
      ]
     },
     "execution_count": 67,
     "metadata": {},
     "output_type": "execute_result"
    }
   ],
   "source": [
    "N = len(u.nodes())\n",
    "\n",
    "num_of_ego_graphs = {}\n",
    "for node in u.nodes():\n",
    "    n = 1 if node in novak_ego_graph else 0\n",
    "    r = 1 if node in rafa_ego_graph else 0\n",
    "    f = 1 if node in federer_ego_graph else 0\n",
    "    num_of_ego_graphs[node] = n+r+f\n",
    "\n",
    "edge_matrix =  np.array([[0 for i in range(2)]] * N )\n",
    "node_index = 0\n",
    "for node in u.nodes():\n",
    "    for neighbor in u.neighbors(node):\n",
    "        neighbor_index = list(u.nodes()).index(neighbor)\n",
    "        edge_matrix[node_index,1] = num_of_ego_graphs[node]\n",
    "    node_index+=1\n",
    "        \n",
    "edge_matrix"
   ]
  },
  {
   "cell_type": "code",
   "execution_count": 68,
   "metadata": {},
   "outputs": [
    {
     "data": {
      "text/plain": [
       "{0: [100644,\n",
       "  104745,\n",
       "  105777,\n",
       "  126774,\n",
       "  133430,\n",
       "  104527,\n",
       "  104542,\n",
       "  103819,\n",
       "  105357,\n",
       "  126610,\n",
       "  105138,\n",
       "  106421,\n",
       "  105676,\n",
       "  104925,\n",
       "  105453,\n",
       "  106228,\n",
       "  106233],\n",
       " 1: [105216,\n",
       "  105732,\n",
       "  105223,\n",
       "  104731,\n",
       "  103970,\n",
       "  104999,\n",
       "  106283,\n",
       "  104755,\n",
       "  106045,\n",
       "  200000,\n",
       "  200005,\n",
       "  105550,\n",
       "  105807,\n",
       "  106071,\n",
       "  105051,\n",
       "  104797,\n",
       "  111202,\n",
       "  120424,\n",
       "  144750,\n",
       "  134770,\n",
       "  106099,\n",
       "  105077,\n",
       "  126094,\n",
       "  105870,\n",
       "  104607,\n",
       "  105376,\n",
       "  106401,\n",
       "  106148,\n",
       "  200615,\n",
       "  105643,\n",
       "  144895,\n",
       "  105902,\n",
       "  106423,\n",
       "  132283,\n",
       "  126652,\n",
       "  106432,\n",
       "  105173,\n",
       "  105430,\n",
       "  111575,\n",
       "  111576,\n",
       "  111577,\n",
       "  104926,\n",
       "  106214,\n",
       "  106216,\n",
       "  104424,\n",
       "  105967,\n",
       "  126207],\n",
       " 2: [105227,\n",
       "  106000,\n",
       "  128034,\n",
       "  105526,\n",
       "  106298,\n",
       "  106043,\n",
       "  105023,\n",
       "  104259,\n",
       "  104269,\n",
       "  105554,\n",
       "  104792,\n",
       "  200282,\n",
       "  105311,\n",
       "  104545,\n",
       "  106378,\n",
       "  104871,\n",
       "  105916,\n",
       "  105932,\n",
       "  105936,\n",
       "  104919,\n",
       "  126203]}"
      ]
     },
     "execution_count": 68,
     "metadata": {},
     "output_type": "execute_result"
    }
   ],
   "source": [
    "kmeans = cluster.KMeans(n_clusters=3, n_init=200)\n",
    "\n",
    "kmeans = kmeans.fit(edge_matrix)\n",
    "\n",
    "#initialize dict\n",
    "big_three_clusters = {}\n",
    "for index in range(0,3): \n",
    "    nodes = []    \n",
    "    big_three_clusters[index] = nodes\n",
    "    \n",
    "for cluster_info in zip(data,kmeans.labels_):\n",
    "    big_three_clusters[cluster_info[1]].append(cluster_info[0])\n",
    "big_three_clusters"
   ]
  },
  {
   "cell_type": "code",
   "execution_count": 69,
   "metadata": {},
   "outputs": [],
   "source": [
    "def get_players_cluster(id):\n",
    "    for cluster_index in range(0,3):\n",
    "        if id in clusters[cluster_index]:\n",
    "            return cluster_index"
   ]
  },
  {
   "cell_type": "code",
   "execution_count": 70,
   "metadata": {},
   "outputs": [
    {
     "data": {
      "text/plain": [
       "1"
      ]
     },
     "execution_count": 70,
     "metadata": {},
     "output_type": "execute_result"
    }
   ],
   "source": [
    "get_players_cluster(novak_id)"
   ]
  },
  {
   "cell_type": "code",
   "execution_count": 71,
   "metadata": {},
   "outputs": [
    {
     "data": {
      "text/plain": [
       "1"
      ]
     },
     "execution_count": 71,
     "metadata": {},
     "output_type": "execute_result"
    }
   ],
   "source": [
    "get_players_cluster(rafa_id)"
   ]
  },
  {
   "cell_type": "code",
   "execution_count": 72,
   "metadata": {},
   "outputs": [
    {
     "data": {
      "text/plain": [
       "1"
      ]
     },
     "execution_count": 72,
     "metadata": {},
     "output_type": "execute_result"
    }
   ],
   "source": [
    "get_players_cluster(federer_id)"
   ]
  },
  {
   "cell_type": "markdown",
   "metadata": {},
   "source": [
    "# 24. Kakva je distribucija broja tenisera u odnosu na broj mečeva koji su odigrali?"
   ]
  },
  {
   "cell_type": "code",
   "execution_count": 73,
   "metadata": {},
   "outputs": [
    {
     "name": "stdout",
     "output_type": "stream",
     "text": [
      "Counter({1: 57, 2: 35, 3: 18, 7: 10, 4: 10, 8: 7, 53: 7, 36: 7, 9: 5, 46: 5, 12: 5, 6: 5, 15: 5, 18: 4, 16: 4, 43: 4, 14: 4, 5: 3, 22: 3, 34: 3, 17: 3, 26: 3, 62: 3, 65: 3, 44: 3, 35: 3, 39: 3, 52: 3, 42: 3, 10: 3, 13: 3, 55: 2, 49: 2, 59: 2, 33: 2, 20: 2, 48: 2, 63: 2, 54: 2, 30: 2, 57: 2, 21: 2, 28: 2, 47: 2, 29: 2, 27: 2, 41: 2, 23: 2, 79: 2, 61: 1, 50: 1, 19: 1, 45: 1, 58: 1, 51: 1, 64: 1, 66: 1, 37: 1, 38: 1, 31: 1})\n"
     ]
    },
    {
     "data": {
      "image/png": "[encoded data removed]",
      "text/plain": [
       "<Figure size 432x288 with 1 Axes>"
      ]
     },
     "metadata": {
      "needs_background": "light"
     },
     "output_type": "display_data"
    }
   ],
   "source": [
    "plot_deg_frequency(G, weighted = True)"
   ]
  },
  {
   "cell_type": "markdown",
   "metadata": {},
   "source": [
    "# 25. Kakva je distribucija broja turnira u odnosu na podlogu i godinu održavanja?"
   ]
  },
  {
   "cell_type": "code",
   "execution_count": 74,
   "metadata": {},
   "outputs": [],
   "source": [
    "def plot_tourney_per_surface_frequency(G, xscale = \"linear\", yscale = \"linear\"):\n",
    "\n",
    "    surfaces = [surface for node,surface in G.nodes(data='surface')]\n",
    "    surfaces_counts = Counter(surfaces) #prebrojava, 1, 2, ..        \n",
    "    surfaces_counts = (sorted(surfaces_counts.items(), key=lambda element: (element[1]),reverse=True))\n",
    "    print(surfaces_counts)\n",
    "    surface, num_of_tourneys = zip(*surfaces_counts)                                                      \n",
    "\n",
    "    fig = plt.figure(1)   \n",
    "    plt.ylabel('num of tourneys')\n",
    "    ax = fig.add_axes([0,0,1,1])\n",
    "    ax.bar(surface,num_of_tourneys)\n",
    "    plt.show()"
   ]
  },
  {
   "cell_type": "code",
   "execution_count": 75,
   "metadata": {},
   "outputs": [
    {
     "name": "stdout",
     "output_type": "stream",
     "text": [
      "[('Hard', 37), ('Clay', 21), ('Grass', 8)]\n"
     ]
    },
    {
     "data": {
      "image/png": "[encoded data removed]",
      "text/plain": [
       "<Figure size 432x288 with 2 Axes>"
      ]
     },
     "metadata": {
      "needs_background": "light"
     },
     "output_type": "display_data"
    }
   ],
   "source": [
    "tourney_sub_graph = tourney_graph.subgraph(tourney_nodes)\n",
    "\n",
    "plot_tourney_per_surface_frequency(tourney_sub_graph)"
   ]
  },
  {
   "cell_type": "markdown",
   "metadata": {},
   "source": [
    "# 26. Kakva je distribucija broja mečeva u odnosu na podlogu i godinu održavanja?"
   ]
  },
  {
   "cell_type": "code",
   "execution_count": 76,
   "metadata": {},
   "outputs": [],
   "source": [
    "def plot_matches_per_surface_frequency(G, xscale = \"linear\", yscale = \"linear\"):\n",
    "\n",
    "    data = [(surface,int((tourney_graph.degree(node,weight=\"weight\"))/2)) for node,surface in tourney_graph.nodes(data='surface') if  node in tourney_names]\n",
    "\n",
    "    dictionary = dict()\n",
    "    for (surface, val) in data: \n",
    "        dictionary[surface] = dictionary.get(surface, 0) + val  # return the value for that key or return default 0 (and create key)\n",
    "    surface=list(dictionary.keys())\n",
    "    num_of_matches=list(dictionary.values())\n",
    "    print(dictionary)\n",
    "\n",
    "    fig = plt.figure(1)   \n",
    "  \n",
    "    ax = fig.add_axes([0,0,1,1])\n",
    "    ax.bar(surface,num_of_matches)\n",
    "    plt.show()"
   ]
  },
  {
   "cell_type": "code",
   "execution_count": 77,
   "metadata": {},
   "outputs": [
    {
     "name": "stdout",
     "output_type": "stream",
     "text": [
      "{'Hard': 1502, 'Clay': 783, 'Grass': 324}\n"
     ]
    },
    {
     "data": {
      "image/png": "[encoded data removed]",
      "text/plain": [
       "<Figure size 432x288 with 1 Axes>"
      ]
     },
     "metadata": {
      "needs_background": "light"
     },
     "output_type": "display_data"
    }
   ],
   "source": [
    "plot_matches_per_surface_frequency(tourney_graph)\n",
    "\n",
    "#u proseku na svakom turniru po 40 meceva"
   ]
  },
  {
   "cell_type": "markdown",
   "metadata": {},
   "source": [
    "# Cuvanje grafa"
   ]
  },
  {
   "cell_type": "code",
   "execution_count": 78,
   "metadata": {},
   "outputs": [],
   "source": [
    "nx.write_gexf(G,output_gz_path)"
   ]
  },
  {
   "cell_type": "markdown",
   "metadata": {},
   "source": [
    "# Vizuelizacija"
   ]
  },
  {
   "cell_type": "code",
   "execution_count": 79,
   "metadata": {},
   "outputs": [],
   "source": [
    "def get_gephi_rank_group(rank):\n",
    "    if rank<10:\n",
    "        return 'group10'\n",
    "    if rank<20:\n",
    "        return 'group20'\n",
    "    if rank<50:\n",
    "        return 'group50'\n",
    "    if rank<100:\n",
    "        return 'group100'\n",
    "    if rank<250:\n",
    "        return 'group250'\n",
    "    if rank<500:\n",
    "        return 'group500'\n",
    "    if rank<2000:\n",
    "        return 'group2000'\n",
    "    return 'group2000'\n",
    "\n",
    "def add_gephi_rank_group_attribute(G):\n",
    "    for player in G.nodes:\n",
    "        G.nodes[player]['rank_group']=get_gephi_rank_group(G.nodes[player]['rank'])\n",
    "        \n",
    "def reverse_rank(G):\n",
    "    for player in G.nodes:\n",
    "        rank = G.nodes[player]['rank']\n",
    "        G.nodes[player]['rank']=-rank if not np.isnan(rank) else -float(2000)\n",
    "\n",
    "def set_ego_node_attribute(G,ego_nodes,ego_type):  \n",
    "    for player in G.nodes:\n",
    "        G.nodes[player]['node_type']=ego_type if player in ego_nodes else 'not_ego_node'\n",
    "        \n",
    "def set_ego_edge_attribute(G,ego_edges,ego_type):         \n",
    "    for (source,target) in G.edges:\n",
    "        G.edges[source,target]['edge_type']=ego_type if (((source,target) in ego_edges) | ((target,source) in ego_edges)) else 'not_ego_edge'          \n",
    "        \n",
    "def set_ego_attribute(G,ego_nodes,ego_edges,ego_type):  \n",
    "    set_ego_node_attribute(G,ego_nodes,ego_type)\n",
    "    set_ego_edge_attribute(G,ego_edges,ego_type)\n",
    "\n",
    "def set_community_attribute(G):\n",
    "    for key, values in communities_info.items():\n",
    "        for value in values:\n",
    "            G.nodes[value[0]]['community'] = key\n",
    "\n",
    "def set_cluster_attribute(G):\n",
    "    for key, values in clusters.items():\n",
    "        for value in values:\n",
    "            G.nodes[value]['cluster'] = key\n",
    "    # hocu da mi se u gephi-ju prikazuje label samo za ovu trojicu pa cu to ovako da uradim\n",
    "    for player in G.nodes():\n",
    "        G.nodes[player]['help_label'] = G.nodes[player]['player_name'] if G.nodes[player]['player_name'] in ['Novak Djokovic', 'Rafael Nadal', 'Roger Federer'] else ''\n",
    "        \n",
    "def set_big_three_clusters_attribute(G):\n",
    "    for key, values in big_three_clusters.items():\n",
    "        for value in values:\n",
    "            G.nodes[value]['big_three_clusters'] = key\n",
    "    # hocu da mi se u gephi-ju prikazuje label samo za ovu trojicu pa cu to ovako da uradim\n",
    "    for player in G.nodes():\n",
    "        G.nodes[player]['help_label'] = G.nodes[player]['player_name'] if G.nodes[player]['player_name'] in ['Novak Djokovic', 'Rafael Nadal', 'Roger Federer'] else ''\n",
    "       "
   ]
  },
  {
   "cell_type": "code",
   "execution_count": 82,
   "metadata": {},
   "outputs": [],
   "source": [
    "def relable(G):\n",
    "    values = [name for node,name in G.nodes(data='player_name')]\n",
    "    mapping  = dict(zip(G, values))\n",
    "\n",
    "    return  nx.relabel_nodes(G, mapping)   \n",
    "\n",
    "def arrange_graph(G):\n",
    "    H = copy.deepcopy(G)\n",
    "\n",
    "    add_gephi_rank_group_attribute(H)\n",
    "    \n",
    "    reverse_rank(H)    \n",
    "    return relable(H)\n",
    "\n",
    "def arrange_ego_in_graph(G,nodes,edges,node_type):\n",
    "    H = copy.deepcopy(G)\n",
    "    \n",
    "    set_ego_attribute(H,nodes,edges,node_type)\n",
    "    reverse_rank(H) \n",
    "    return relable(H)\n",
    "\n",
    "def arrange_ego_graph(G,edges,node_type):\n",
    "    H = copy.deepcopy(G)\n",
    "    \n",
    "    set_ego_edge_attribute(H,edges,node_type)\n",
    "    reverse_rank(H) \n",
    "    return relable(H)\n",
    "\n",
    "def arrange_communities(G):\n",
    "    H = copy.deepcopy(G)\n",
    "    \n",
    "    set_community_attribute(H)\n",
    "    add_gephi_rank_group_attribute(H)\n",
    "    reverse_rank(H)\n",
    "    return relable(H)\n",
    "\n",
    "def arrange_clusters(G):\n",
    "    H = copy.deepcopy(G)\n",
    "    \n",
    "    set_cluster_attribute(H)\n",
    "    add_gephi_rank_group_attribute(H)\n",
    "    reverse_rank(H)\n",
    "    return relable(H)\n",
    "\n",
    "def arrange_big_three_clusters(G):\n",
    "    H = copy.deepcopy(G)\n",
    "    \n",
    "    set_big_three_clusters_attribute(H)\n",
    "    add_gephi_rank_group_attribute(H)\n",
    "    reverse_rank(H)\n",
    "    return relable(H)"
   ]
  },
  {
   "cell_type": "code",
   "execution_count": 83,
   "metadata": {},
   "outputs": [],
   "source": [
    "nx.write_gml(arrange_graph(G), output_gml_path)\n",
    "\n",
    "nx.write_gml(arrange_ego_in_graph(G,novak_nodes,novak_ego_edges,'novak'), \"novak_ego_in_2019.gml\")\n",
    "nx.write_gml(arrange_ego_in_graph(G,rafa_nodes,rafa_ego_edges,'rafa'), \"rafa_ego_in_2019.gml\")\n",
    "nx.write_gml(arrange_ego_in_graph(G,federer_nodes,federer_ego_edges,'federer'), \"federer_ego_in_2019.gml\")\n",
    "\n",
    "nx.write_gml(arrange_ego_graph(novak_ego_graph,novak_edges,'novak'), \"novak_ego_graph_2019.gml\")\n",
    "nx.write_gml(arrange_ego_graph(rafa_ego_graph,rafa_edges,'rafa'), \"rafa_ego_graph_2019.gml\")\n",
    "nx.write_gml(arrange_ego_graph(federer_ego_graph,federer_edges,'federer'), \"federer_ego_graph_2019.gml\")\n",
    "\n",
    "nx.write_gml(arrange_communities(G), \"communities_2019.gml\")\n",
    "nx.write_gml(arrange_clusters(u), \"clusters_unified_graph_2019.gml\")\n",
    "\n",
    "#asyn_fluid_clusters\n",
    "#nx.write_gml(arrange_asyn_fluid_clusters(u), \"asyn_fluid_clusters_unified_graph_2019.gml\")\n",
    "\n",
    "nx.write_gml(arrange_big_three_clusters(u), \"big_three_clusters_unified_graph_2019.gml\")"
   ]
  },
  {
   "cell_type": "code",
   "execution_count": null,
   "metadata": {},
   "outputs": [],
   "source": []
  }
 ],
 "metadata": {
  "kernelspec": {
   "display_name": "Python 3",
   "language": "python",
   "name": "python3"
  },
  "language_info": {
   "codemirror_mode": {
    "name": "ipython",
    "version": 3
   },
   "file_extension": ".py",
   "mimetype": "text/x-python",
   "name": "python",
   "nbconvert_exporter": "python",
   "pygments_lexer": "ipython3",
   "version": "3.8.5"
  }
 },
 "nbformat": 4,
 "nbformat_minor": 4
}
