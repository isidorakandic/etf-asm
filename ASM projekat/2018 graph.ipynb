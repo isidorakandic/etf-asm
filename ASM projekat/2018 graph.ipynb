{
 "cells": [
  {
   "cell_type": "code",
   "execution_count": 91,
   "metadata": {},
   "outputs": [],
   "source": [
    "import pandas as pd\n",
    "\n",
    "matches = pd.read_csv(\"atp_matches_2018.csv\")\n",
    "atp_players = pd.read_csv(\"atp_players.csv\")\n",
    "atp_rankings_10s = pd.read_csv(\"atp_rankings_10s.csv\")\n",
    "\n",
    "year = 2018\n",
    "matches_file_name = \"atp_matches_2018_cleaned.csv\"\n",
    "players_file_name = \"atp_players_2018_cleaned.csv\"\n",
    "\n",
    "output_gz_path = \"graph2018.gz\"\n",
    "output_gml_path = \"graph2018.gml\""
   ]
  },
  {
   "cell_type": "code",
   "execution_count": 92,
   "metadata": {},
   "outputs": [],
   "source": [
    "import networkx as nx\n",
    "\n",
    "import collections\n",
    "from collections import Counter\n",
    "\n",
    "import matplotlib\n",
    "from matplotlib import pyplot as plt\n",
    "\n",
    "import math\n",
    "\n",
    "from networkx.algorithms import community as comm\n",
    "import itertools\n",
    "\n",
    "from operator import itemgetter\n",
    "\n",
    "import string\n",
    "\n",
    "import numpy as np\n",
    "\n",
    "from sklearn import cluster\n",
    "\n",
    "import copy"
   ]
  },
  {
   "cell_type": "markdown",
   "metadata": {},
   "source": [
    "# Ciscenje podataka"
   ]
  },
  {
   "cell_type": "markdown",
   "metadata": {},
   "source": [
    "## Brisanje grupnih turnira"
   ]
  },
  {
   "cell_type": "code",
   "execution_count": 93,
   "metadata": {
    "scrolled": true
   },
   "outputs": [],
   "source": [
    "matches = matches[['tourney_id','tourney_name','winner_id','loser_id','surface']]\n",
    "\n",
    "indexes=[]\n",
    "for index,tourney_id,tourney_name,winner_id,loser_id,surface in matches.itertuples():\n",
    "    if (\"Davis Cup\" in tourney_name):\n",
    "        indexes.append(index)        \n",
    "        \n",
    "matches = matches.drop(indexes)  "
   ]
  },
  {
   "cell_type": "code",
   "execution_count": 94,
   "metadata": {},
   "outputs": [],
   "source": [
    "from datetime import date\n",
    "\n",
    "def get_num_of_days_between(start_date_int,end_date_int):\n",
    "    start_date = date(int(start_date_int/10000), int(int(start_date_int%10000)/100), int(start_date_int%100))\n",
    "    end_date = date(int(end_date_int/10000), int(int(end_date_int%10000)/100), int(end_date_int%100))\n",
    "    difference = end_date - start_date\n",
    "    return difference.days\n",
    "\n",
    "def get_player_ranking(id,year):\n",
    "    next_year=(year+1)*10000\n",
    "    year*=10000\n",
    "    ranks = atp_rankings_10s[(atp_rankings_10s['player']==id) & (atp_rankings_10s['ranking_date']>=year) & (atp_rankings_10s['ranking_date']<next_year)]\n",
    "    ranks=ranks.reset_index()\n",
    "    days_sum=0\n",
    "    calc_rank=0\n",
    "    for i in range(len(ranks)-1):\n",
    "        rank = ranks.loc[i,'rank']\n",
    "        start_date = ranks.loc[i,'ranking_date']\n",
    "        end_date = ranks.loc[i+1,'ranking_date']\n",
    "        days = get_num_of_days_between(start_date,end_date)\n",
    "        calc_rank += rank*days\n",
    "        days_sum +=days   \n",
    "    return calc_rank/days_sum if days_sum != 0 else float('NaN')"
   ]
  },
  {
   "cell_type": "code",
   "execution_count": 95,
   "metadata": {},
   "outputs": [
    {
     "name": "stdout",
     "output_type": "stream",
     "text": [
      "Postoji 291 različitih igrača\n"
     ]
    }
   ],
   "source": [
    "winners = set(matches['winner_id'].unique())\n",
    "losers = set(matches['loser_id'].unique())\n",
    "\n",
    "players_ids = winners.union(losers)\n",
    "print(f\"Postoji { len(players_ids) } različitih igrača\") \n",
    "\n",
    "players_with_attr_list = [(player_id,first_name+' '+last_name,country_code,get_player_ranking(player_id,year)) for _,player_id,first_name,last_name,hand,birth_date,country_code in atp_players.itertuples() if player_id in players_ids]\n",
    "players_with_attr = pd.DataFrame(players_with_attr_list,columns =['player_id', 'player_name','country_code','rank'])\n",
    "\n",
    "players = (players_with_attr.set_index('player_id')).to_dict('index')\n",
    "#players = players.set_index('player_id')\n",
    "#players = pd.DataFrame.from_dict(players_with_attr.set_index('player_id').to_dict('index'),orient='index')"
   ]
  },
  {
   "cell_type": "markdown",
   "metadata": {},
   "source": [
    "## Cuvanje sekundarnog skupa podataka"
   ]
  },
  {
   "cell_type": "code",
   "execution_count": 96,
   "metadata": {},
   "outputs": [],
   "source": [
    "matches.to_csv(matches_file_name, index = False, header=True)\n",
    "#pd.DataFrame.from_dict(players,orient='index').to_csv(players_file_name, index = True, header=True)"
   ]
  },
  {
   "cell_type": "markdown",
   "metadata": {},
   "source": [
    "# Modelovanje grafova"
   ]
  },
  {
   "cell_type": "code",
   "execution_count": 97,
   "metadata": {},
   "outputs": [],
   "source": [
    "G = nx.Graph()\n",
    "G.add_nodes_from(players_ids)\n",
    "\n",
    "nx.set_node_attributes(G, players)"
   ]
  },
  {
   "cell_type": "markdown",
   "metadata": {},
   "source": [
    "### Dodavanje tezinskih grana "
   ]
  },
  {
   "cell_type": "code",
   "execution_count": 98,
   "metadata": {},
   "outputs": [
    {
     "name": "stdout",
     "output_type": "stream",
     "text": [
      "Name: \n",
      "Type: Graph\n",
      "Number of nodes: 291\n",
      "Number of edges: 2271\n",
      "Average degree:  15.6082\n"
     ]
    }
   ],
   "source": [
    "edge_data = matches[['winner_id','loser_id']]\n",
    "for _,winner_id,loser_id in edge_data.itertuples():\n",
    "    if (winner_id, loser_id) in G.edges:\n",
    "        G.edges[winner_id, loser_id]['weight'] += 1\n",
    "    else:\n",
    "        G.add_edge(winner_id, loser_id, weight=1)\n",
    "        \n",
    "print(nx.info(G))"
   ]
  },
  {
   "cell_type": "markdown",
   "metadata": {},
   "source": [
    "## Pomocni graf turnira "
   ]
  },
  {
   "cell_type": "code",
   "execution_count": 99,
   "metadata": {},
   "outputs": [],
   "source": [
    "tourney_graph = nx.Graph()\n",
    "\n",
    "tourney_graph.add_nodes_from(players_ids, node_type='player')\n",
    "nx.set_node_attributes(tourney_graph, players)\n",
    "\n",
    "tourney_names = matches['tourney_name'].unique()\n",
    "tourney_graph.add_nodes_from(tourney_names, node_type='tourney')  "
   ]
  },
  {
   "cell_type": "markdown",
   "metadata": {},
   "source": [
    "## Dodavanje tezinskih grana "
   ]
  },
  {
   "cell_type": "code",
   "execution_count": 100,
   "metadata": {},
   "outputs": [
    {
     "name": "stdout",
     "output_type": "stream",
     "text": [
      "Name: \n",
      "Type: Graph\n",
      "Number of nodes: 359\n",
      "Number of edges: 2704\n",
      "Average degree:  15.0641\n"
     ]
    }
   ],
   "source": [
    "edge_data = matches[['winner_id','loser_id','tourney_name']]\n",
    "for _,winner_id,loser_id,tourney_name in edge_data.itertuples():\n",
    "    if (winner_id, tourney_name) in tourney_graph.edges:\n",
    "        tourney_graph.edges[winner_id, tourney_name]['weight'] += 1\n",
    "    else:\n",
    "        tourney_graph.add_edge(winner_id, tourney_name, weight=1)\n",
    "    if (loser_id, tourney_name) in tourney_graph.edges:\n",
    "        tourney_graph.edges[loser_id, tourney_name]['weight'] += 1\n",
    "    else:\n",
    "        tourney_graph.add_edge(loser_id, tourney_name, weight=1)  \n",
    "        \n",
    "print(nx.info(tourney_graph))"
   ]
  },
  {
   "cell_type": "markdown",
   "metadata": {},
   "source": [
    "## Surface atribut"
   ]
  },
  {
   "cell_type": "code",
   "execution_count": 101,
   "metadata": {},
   "outputs": [],
   "source": [
    "tourney_nodes = [node for node, node_type in tourney_graph.nodes(data='node_type') if node_type=='tourney']\n",
    "\n",
    "for tourney in tourney_nodes:\n",
    "    tourney_graph.nodes[tourney]['surface'] = matches[matches['tourney_name']==tourney].iloc[0].surface"
   ]
  },
  {
   "cell_type": "markdown",
   "metadata": {},
   "source": [
    "# Pomocne metode (uz modelovan graf)"
   ]
  },
  {
   "cell_type": "code",
   "execution_count": 102,
   "metadata": {},
   "outputs": [],
   "source": [
    "def get_player_by_name(player_name):\n",
    "    nodes = [node for node,name in G.nodes(data='player_name') if name==player_name]\n",
    "    player = 0\n",
    "    if len(nodes)>0:\n",
    "        player = nodes[0]\n",
    "    return player\n",
    "\n",
    "def get_players_matches(id):\n",
    "    mask = (matches['winner_id']==id) | (matches['loser_id']==id)\n",
    "    return matches[mask]"
   ]
  },
  {
   "cell_type": "code",
   "execution_count": 103,
   "metadata": {},
   "outputs": [],
   "source": [
    "def get_nodes_by_attribute(G,attribute, value):\n",
    "    return [n for n,v in G.nodes(data=True) if v[attribute] == value]"
   ]
  },
  {
   "cell_type": "code",
   "execution_count": 104,
   "metadata": {},
   "outputs": [],
   "source": [
    "def get_players_degrees(G,players):\n",
    "    return [(node,name,G.degree(node)) for (node,name) in tourney_graph.nodes(data='player_name') if node in players]"
   ]
  },
  {
   "cell_type": "code",
   "execution_count": 105,
   "metadata": {},
   "outputs": [],
   "source": [
    "def get_player_attribute(G,player,attribute):\n",
    "    return [v[attribute] for n,v in G.nodes(data=True) if  n== player]"
   ]
  },
  {
   "cell_type": "code",
   "execution_count": 106,
   "metadata": {},
   "outputs": [],
   "source": [
    "def get_player_info(id):\n",
    "    return (id,G.nodes[id]['player_name'],G.nodes[id]['rank'],G.nodes[id]['country_code'])\n",
    "    #return tuple([(node,attr['player_name'],attr['rank'],attr['country_code']) for (node,attr) in G.nodes(data=True) if node==id])\n",
    "\n",
    "def get_players_info(players):\n",
    "    infos = []\n",
    "    for player in players:\n",
    "        infos.append(get_player_info(player))\n",
    "    return infos  "
   ]
  },
  {
   "cell_type": "code",
   "execution_count": 107,
   "metadata": {},
   "outputs": [],
   "source": [
    "def get_players_opponents_info(id):\n",
    "    opponents = nx.node_connected_component(G, id)\n",
    "    return get_players_info(opponents)"
   ]
  },
  {
   "cell_type": "code",
   "execution_count": 108,
   "metadata": {},
   "outputs": [],
   "source": [
    "def plot_deg_frequency(G, weighted=False, xscale = \"log\", yscale = \"log\"):\n",
    "\n",
    "    if weighted:\n",
    "        degrees = G.degree(weight=\"weight\")\n",
    "    else:\n",
    "        degrees = G.degree()\n",
    "    _, deg_list = zip(*degrees)    #unzip\n",
    "    deg_counts = Counter(deg_list) #prebrojava, 1, 2, ..        \n",
    "    print(deg_counts)\n",
    "    degree, frequency = zip(*deg_counts.items())                                                      \n",
    "\n",
    "    plt.figure(1)   \n",
    "\n",
    "    # prep axes   \n",
    "    if weighted:\n",
    "        plt.xlabel('weighted degree')  \n",
    "    else:\n",
    "        plt.xlabel('degree')                                                                                                             \n",
    "    plt.xscale(xscale)                                                                                                                \n",
    "    plt.xlim(1, max(degree))  \n",
    "\n",
    "    plt.ylabel('frequency')                                                                                                          \n",
    "    plt.yscale(yscale)                                                                                                                \n",
    "    plt.ylim(1, max(frequency))                                                                                                             \n",
    "                                                                                                                                                                                                    \n",
    "    plt.scatter(degree, frequency, marker='.')                                                                                                    \n",
    "    plt.show()"
   ]
  },
  {
   "cell_type": "markdown",
   "metadata": {},
   "source": [
    "# Istrazivacka pitanja"
   ]
  },
  {
   "cell_type": "markdown",
   "metadata": {},
   "source": [
    "# 1. Koliki je prosečan broj tenisera (saigrača) po svakom teniseru?"
   ]
  },
  {
   "cell_type": "code",
   "execution_count": 109,
   "metadata": {},
   "outputs": [],
   "source": [
    "def get_average_degree(G):\n",
    "    num_of_nodes = G.number_of_nodes()\n",
    "    degree = sum(d for n, d in G.degree()) / float(num_of_nodes)\n",
    "    return degree\n",
    "\n",
    "def get_average_weighted_degree(G):\n",
    "    num_of_nodes = G.number_of_nodes()\n",
    "    degree = sum(d for n, d in G.degree(weight='weight')) / float(num_of_nodes)\n",
    "    return degree  "
   ]
  },
  {
   "cell_type": "code",
   "execution_count": 110,
   "metadata": {},
   "outputs": [
    {
     "name": "stdout",
     "output_type": "stream",
     "text": [
      "Prosecan broj saigraca svakog tenisera: 15.608247422680412\n"
     ]
    }
   ],
   "source": [
    "print(f\"Prosecan broj saigraca svakog tenisera: {get_average_degree(G)}\")   "
   ]
  },
  {
   "cell_type": "code",
   "execution_count": 111,
   "metadata": {
    "scrolled": true
   },
   "outputs": [
    {
     "name": "stdout",
     "output_type": "stream",
     "text": [
      "Prosecan broj meceva svakog tenisera: 18.233676975945016\n"
     ]
    }
   ],
   "source": [
    "print(f\"Prosecan broj meceva svakog tenisera: {get_average_weighted_degree(G)}\")"
   ]
  },
  {
   "cell_type": "markdown",
   "metadata": {},
   "source": [
    "# 2. Koji teniseri su se susretali sa najvećim brojem drugih tenisera? "
   ]
  },
  {
   "cell_type": "code",
   "execution_count": 112,
   "metadata": {},
   "outputs": [
    {
     "name": "stdout",
     "output_type": "stream",
     "text": [
      "Max stepen: 59\n",
      "Igraci koji su igrali sa najvise drugih igraca: [(104926, 'Fabio Fognini', 59), (126774, 'Stefanos Tsitsipas', 53), (100644, 'Alexander Zverev', 52), (106233, 'Dominic Thiem', 52), (104468, 'Gilles Simon', 50), (104755, 'Richard Gasquet', 49), (111575, 'Karen Khachanov', 49), (133430, 'Denis Shapovalov', 48), (104269, 'Fernando Verdasco', 48), (106421, 'Daniil Medvedev', 48)]\n"
     ]
    }
   ],
   "source": [
    "degrees = [G.degree(node) for node in G.nodes()]\n",
    "max_degree = max(degrees)\n",
    "\n",
    "players_degrees = [(node,name,G.degree(node)) for (node,name) in G.nodes(data='player_name')]\n",
    "\n",
    "high_degree_players = (sorted(players_degrees, key=lambda element: (element[2]),reverse=True))[:10]\n",
    "\n",
    "print(f\"Max stepen: {max_degree}\")\n",
    "print(f\"Igraci koji su igrali sa najvise drugih igraca: {high_degree_players}\")"
   ]
  },
  {
   "cell_type": "code",
   "execution_count": 113,
   "metadata": {},
   "outputs": [
    {
     "data": {
      "text/plain": [
       "[('Fabio Fognini', 59),\n",
       " ('Stefanos Tsitsipas', 53),\n",
       " ('Alexander Zverev', 52),\n",
       " ('Dominic Thiem', 52),\n",
       " ('Gilles Simon', 50),\n",
       " ('Richard Gasquet', 49),\n",
       " ('Karen Khachanov', 49),\n",
       " ('Denis Shapovalov', 48),\n",
       " ('Fernando Verdasco', 48),\n",
       " ('Daniil Medvedev', 48)]"
      ]
     },
     "execution_count": 113,
     "metadata": {},
     "output_type": "execute_result"
    }
   ],
   "source": [
    "[(p[1],(p[2])) for p in high_degree_players]"
   ]
  },
  {
   "cell_type": "markdown",
   "metadata": {},
   "source": [
    "# 3. Koji teniseri su učestvovali na najvećem broju (različitih) turnira?"
   ]
  },
  {
   "cell_type": "code",
   "execution_count": 114,
   "metadata": {},
   "outputs": [
    {
     "name": "stdout",
     "output_type": "stream",
     "text": [
      "Igraci koji su ucestvovali na najvecem broju turnira: [(106000, 'Damir Dzumhur', 31), (104999, 'Mischa Zverev', 30), (105173, 'Adrian Mannarino', 29), (126774, 'Stefanos Tsitsipas', 29), (104898, 'Robin Haase', 28), (105932, 'Nikoloz Basilashvili', 28), (105077, 'Albert Ramos', 28), (104269, 'Fernando Verdasco', 28), (105332, 'Benoit Paire', 28), (133430, 'Denis Shapovalov', 27)]\n"
     ]
    }
   ],
   "source": [
    "player_tourney_degrees = [(node,name,tourney_graph.degree(node)) for (node,name) in tourney_graph.nodes(data='player_name') if node in players]\n",
    "\n",
    "high_tourney_degree_players = (sorted(player_tourney_degrees, key=lambda element: (element[2]),reverse=True))[:10]\n",
    "\n",
    "print(f\"Igraci koji su ucestvovali na najvecem broju turnira: {high_tourney_degree_players}\")"
   ]
  },
  {
   "cell_type": "code",
   "execution_count": 115,
   "metadata": {},
   "outputs": [
    {
     "data": {
      "text/plain": [
       "[('Damir Dzumhur', 31),\n",
       " ('Mischa Zverev', 30),\n",
       " ('Adrian Mannarino', 29),\n",
       " ('Stefanos Tsitsipas', 29),\n",
       " ('Robin Haase', 28),\n",
       " ('Nikoloz Basilashvili', 28),\n",
       " ('Albert Ramos', 28),\n",
       " ('Fernando Verdasco', 28),\n",
       " ('Benoit Paire', 28),\n",
       " ('Denis Shapovalov', 27)]"
      ]
     },
     "execution_count": 115,
     "metadata": {},
     "output_type": "execute_result"
    }
   ],
   "source": [
    "[(p[1],(p[2])) for p in high_tourney_degree_players]"
   ]
  },
  {
   "cell_type": "markdown",
   "metadata": {},
   "source": [
    "# 4. Koji teniseri su dobri kandidati za predstavnike profesionalnih tenisera? \n",
    "## Da li i šta se menja ukoliko se umesto jednog bira skup od nekoliko predstavnika?\n",
    "### Dobar predstavnik ili predstavnici bi trebalo da budu u kontaktu sa što većim skupom tenisera."
   ]
  },
  {
   "cell_type": "code",
   "execution_count": 116,
   "metadata": {},
   "outputs": [
    {
     "name": "stdout",
     "output_type": "stream",
     "text": [
      "Dobri kandidati za predstavnika profesionalnih tenisera su\n"
     ]
    },
    {
     "data": {
      "text/plain": [
       "[((104926, 'Fabio Fognini', 16.98076923076923, 'ITA'), 0.20344827586206896),\n",
       " ((126774, 'Stefanos Tsitsipas', 41.19230769230769, 'GRE'),\n",
       "  0.18275862068965518),\n",
       " ((100644, 'Alexander Zverev', 4.038461538461538, 'GER'), 0.1793103448275862),\n",
       " ((106233, 'Dominic Thiem', 7.230769230769231, 'AUT'), 0.1793103448275862),\n",
       " ((104468, 'Gilles Simon', 51.23076923076923, 'FRA'), 0.1724137931034483),\n",
       " ((104755, 'Richard Gasquet', 29.596153846153847, 'FRA'), 0.16896551724137931),\n",
       " ((111575, 'Karen Khachanov', 32.42307692307692, 'RUS'), 0.16896551724137931),\n",
       " ((133430, 'Denis Shapovalov', 34.38461538461539, 'CAN'), 0.16551724137931034),\n",
       " ((104269, 'Fernando Verdasco', 33.32692307692308, 'ESP'),\n",
       "  0.16551724137931034),\n",
       " ((106421, 'Daniil Medvedev', 44.73076923076923, 'RUS'), 0.16551724137931034)]"
      ]
     },
     "execution_count": 116,
     "metadata": {},
     "output_type": "execute_result"
    }
   ],
   "source": [
    "#Mozda po lokalnoj centralnosti? - Čvor je lokalno centralan ako ima veći broj veza sa svojim okruženjem\n",
    "degree_centralities = [(node, centrality) for node, centrality in nx.degree_centrality(G).items()]\n",
    "\n",
    "max_degree_centralities = sorted(degree_centralities,key=lambda item: item[1], reverse=True)[:10]\n",
    "\n",
    "high_degree_centrality_players = [(get_player_info(player[0]), player[1]) for player in max_degree_centralities]\n",
    "\n",
    "print(f\"Dobri kandidati za predstavnika profesionalnih tenisera su\")\n",
    "high_degree_centrality_players"
   ]
  },
  {
   "cell_type": "code",
   "execution_count": 117,
   "metadata": {},
   "outputs": [
    {
     "name": "stdout",
     "output_type": "stream",
     "text": [
      "Dobri kandidati za predstavnika profesionalnih tenisera su\n"
     ]
    },
    {
     "data": {
      "text/plain": [
       "[((100644, 'Alexander Zverev', 4.038461538461538, 'GER'), 0.14928940006591934),\n",
       " ((106233, 'Dominic Thiem', 7.230769230769231, 'AUT'), 0.14610597765557917),\n",
       " ((104926, 'Fabio Fognini', 16.98076923076923, 'ITA'), 0.14141254392714),\n",
       " ((105223, 'Juan Martin Del Potro', 5.673076923076923, 'ARG'),\n",
       "  0.13975339439871368),\n",
       " ((126774, 'Stefanos Tsitsipas', 41.19230769230769, 'GRE'),\n",
       "  0.13833760253612984),\n",
       " ((104731, 'Kevin Anderson', 7.788461538461538, 'RSA'), 0.1368199790367423),\n",
       " ((106421, 'Daniil Medvedev', 44.73076923076923, 'RUS'), 0.13590654991142284),\n",
       " ((103819, 'Roger Federer', 2.0576923076923075, 'SUI'), 0.1355171840663064),\n",
       " ((104755, 'Richard Gasquet', 29.596153846153847, 'FRA'), 0.13494101632833153),\n",
       " ((105453, 'Kei Nishikori', 20.615384615384617, 'JPN'), 0.13202915869754062)]"
      ]
     },
     "execution_count": 117,
     "metadata": {},
     "output_type": "execute_result"
    }
   ],
   "source": [
    "#Eigenvector centrality - Varijanta centralnosti po stepenu koja uzima u obzir i susedstvo posmatranog čvora\n",
    "#onaj sa najvecom plus njegovi susedi??\n",
    "eigenvector_centralities = [(node, centrality) for node, centrality in nx.eigenvector_centrality(G).items()]\n",
    "\n",
    "#prvih 10\n",
    "max_eigenvector_centralities = sorted(eigenvector_centralities,key=lambda item: item[1], reverse=True)[:10]\n",
    "\n",
    "high_eigenvector_centrality_players = [(get_player_info(player[0]), player[1]) for player in max_eigenvector_centralities]\n",
    "\n",
    "print(f\"Dobri kandidati za predstavnika profesionalnih tenisera su\")\n",
    "high_eigenvector_centrality_players"
   ]
  },
  {
   "cell_type": "markdown",
   "metadata": {},
   "source": [
    "# 5. Kako su rangirani na ATP listi teniseri koji su se susretali sa najvećim brojem drugih tenisera?"
   ]
  },
  {
   "cell_type": "code",
   "execution_count": 118,
   "metadata": {},
   "outputs": [
    {
     "data": {
      "text/plain": [
       "[(100644, 'Alexander Zverev', 52, 4.038461538461538),\n",
       " (106233, 'Dominic Thiem', 52, 7.230769230769231),\n",
       " (104926, 'Fabio Fognini', 59, 16.98076923076923),\n",
       " (104755, 'Richard Gasquet', 49, 29.596153846153847),\n",
       " (111575, 'Karen Khachanov', 49, 32.42307692307692),\n",
       " (104269, 'Fernando Verdasco', 48, 33.32692307692308),\n",
       " (133430, 'Denis Shapovalov', 48, 34.38461538461539),\n",
       " (126774, 'Stefanos Tsitsipas', 53, 41.19230769230769),\n",
       " (106421, 'Daniil Medvedev', 48, 44.73076923076923),\n",
       " (104468, 'Gilles Simon', 50, 51.23076923076923)]"
      ]
     },
     "execution_count": 118,
     "metadata": {},
     "output_type": "execute_result"
    }
   ],
   "source": [
    "high_degree_players_ids = list(list(zip(*high_degree_players))[0])\n",
    "\n",
    "high_degree_players_ranks = [(node,attr['player_name'],G.degree(node),attr['rank']) for (node,attr) in G.nodes(data=True) if node in high_degree_players_ids]\n",
    "high_degree_players_ranks = sorted(high_degree_players_ranks,key=lambda item: item[3])\n",
    "high_degree_players_ranks"
   ]
  },
  {
   "cell_type": "markdown",
   "metadata": {},
   "source": [
    "# 6.  Iz kojih zemalja dolazi najveći broj aktivnih igrača u proteklom periodu?"
   ]
  },
  {
   "cell_type": "code",
   "execution_count": 119,
   "metadata": {},
   "outputs": [],
   "source": [
    "def plot_players_per_country_frequency(G, xscale = \"linear\", yscale = \"linear\"):\n",
    "\n",
    "    countries = [country for node,country in G.nodes(data='country_code')]\n",
    "    countries_counts = Counter(countries) #prebrojava, 1, 2, ..        \n",
    "    print(countries_counts)\n",
    "    lists = sorted(countries_counts.items(),key=lambda item: item[1])\n",
    "    x, y = zip(*lists)                                                      \n",
    "\n",
    "    fig = plt.figure(1) \n",
    "    fig.set_size_inches(20,20)\n",
    "    plt.barh(x,y)\n",
    "    #plt.ylabel('Country')\n",
    "    plt.xlabel('Број играча')\n",
    "    plt.show()"
   ]
  },
  {
   "cell_type": "code",
   "execution_count": 120,
   "metadata": {
    "scrolled": false
   },
   "outputs": [
    {
     "name": "stdout",
     "output_type": "stream",
     "text": [
      "Counter({'USA': 34, 'FRA': 25, 'ESP': 23, 'GER': 17, 'ITA': 17, 'ARG': 15, 'AUS': 14, 'AUT': 8, 'RUS': 7, 'CAN': 7, 'GBR': 6, 'SRB': 6, 'CZE': 6, 'SVK': 6, 'CRO': 6, 'JPN': 6, 'CHN': 5, 'POR': 5, 'IND': 5, 'BRA': 5, 'SUI': 4, 'BEL': 3, 'BUL': 3, 'HUN': 3, 'NED': 3, 'DOM': 2, 'CHI': 2, 'UKR': 2, 'RSA': 2, 'SWE': 2, 'BIH': 2, 'SLO': 2, 'KAZ': 2, 'TUR': 2, 'COL': 2, 'BLR': 2, 'KOR': 2, 'TPE': 2, 'ALG': 1, 'POL': 1, 'ISR': 1, 'LTU': 1, 'CYP': 1, 'ZIM': 1, 'EGY': 1, 'ESA': 1, 'ROU': 1, 'URU': 1, 'UZB': 1, 'MON': 1, 'MAR': 1, 'GEO': 1, 'ECU': 1, 'BAR': 1, 'NZL': 1, 'NOR': 1, 'EST': 1, 'LUX': 1, 'LAT': 1, 'GRE': 1, 'QAT': 1, 'TUN': 1, 'MEX': 1, 'MDA': 1})\n"
     ]
    },
    {
     "data": {
      "image/png": "[encoded data removed]",
      "text/plain": [
       "<Figure size 1440x1440 with 1 Axes>"
      ]
     },
     "metadata": {
      "needs_background": "light"
     },
     "output_type": "display_data"
    }
   ],
   "source": [
    "plot_players_per_country_frequency(G)"
   ]
  },
  {
   "cell_type": "markdown",
   "metadata": {},
   "source": [
    "# 7. Iz kojih zemalja dolaze najuspešniji igrači u smislu osvojenih poena na ATP listi?"
   ]
  },
  {
   "cell_type": "code",
   "execution_count": 121,
   "metadata": {},
   "outputs": [],
   "source": [
    "def get_first_atp_players(num):\n",
    "    player_ranks = [(node,attr['player_name'],attr['rank'],attr['country_code']) for (node,attr) in G.nodes(data=True)]\n",
    "\n",
    "    player_ranks = (list(filter(lambda x: math.isnan(x[2])==False, player_ranks)))\n",
    "    player_ranks = (sorted(player_ranks, key=lambda element: (element[2]),reverse=False))[:num]\n",
    "    return player_ranks\n",
    "    "
   ]
  },
  {
   "cell_type": "code",
   "execution_count": 122,
   "metadata": {},
   "outputs": [],
   "source": [
    "def plot_best_players_per_country_frequency(countries, xscale = \"linear\", yscale = \"linear\"):\n",
    "    countries_counts = Counter(countries) #prebrojava, 1, 2, ..        \n",
    "    print(countries_counts)\n",
    "    lists = sorted(countries_counts.items(),key=lambda item: item[1])\n",
    "    x, y = zip(*lists)                                                    \n",
    "\n",
    "    fig = plt.figure(1) \n",
    "    fig.set_size_inches(20,20)\n",
    "    plt.barh(x,y)\n",
    "    plt.ylabel('Country')\n",
    "    plt.xlabel('num of players')\n",
    "    plt.show()"
   ]
  },
  {
   "cell_type": "code",
   "execution_count": 123,
   "metadata": {},
   "outputs": [
    {
     "name": "stdout",
     "output_type": "stream",
     "text": [
      "Counter({'USA': 10, 'FRA': 10, 'ESP': 9, 'GER': 6, 'ITA': 6, 'ARG': 5, 'AUS': 5, 'RUS': 5, 'SRB': 4, 'CRO': 3, 'JPN': 3, 'CAN': 3, 'SUI': 2, 'GBR': 2, 'BIH': 2, 'CZE': 2, 'SVK': 2, 'AUT': 1, 'BUL': 1, 'RSA': 1, 'BEL': 1, 'KOR': 1, 'GRE': 1, 'NED': 1, 'HUN': 1, 'GEO': 1, 'POR': 1, 'URU': 1, 'CHI': 1, 'SLO': 1, 'TUN': 1, 'LUX': 1, 'KAZ': 1, 'ROU': 1, 'UZB': 1, 'MDA': 1, 'CYP': 1, 'IND': 1})\n"
     ]
    },
    {
     "data": {
      "image/png": "[encoded data removed]",
      "text/plain": [
       "<Figure size 1440x1440 with 1 Axes>"
      ]
     },
     "metadata": {
      "needs_background": "light"
     },
     "output_type": "display_data"
    }
   ],
   "source": [
    "countries = get_first_atp_players(100)\n",
    "_,_,_,countries = zip(*countries)\n",
    "\n",
    "#za USA se dosta vidi razlika u 100 i 1000\n",
    "#ali se pitanje odnosi na najuspesnije\n",
    "plot_best_players_per_country_frequency(countries)"
   ]
  },
  {
   "cell_type": "markdown",
   "metadata": {},
   "source": [
    "# 8. Kako su u okviru skupa podataka okarakterisani igrači iz Srbije?"
   ]
  },
  {
   "cell_type": "code",
   "execution_count": 124,
   "metadata": {},
   "outputs": [
    {
     "name": "stdout",
     "output_type": "stream",
     "text": [
      "Po ranku srpski igraci su: [('Dusan Lajovic', 68.0), ('Viktor Troicki', 113.01923076923077), ('Filip Krajinovic', 40.96153846153846), ('Novak Djokovic', 10.173076923076923), ('Miomir Kecmanovic', 179.3846153846154), ('Laslo Djere', 92.61538461538461)]\n",
      "\n",
      "Po broju meceva srpski igraci su: [('Dusan Lajovic', 46), ('Viktor Troicki', 19), ('Filip Krajinovic', 31), ('Novak Djokovic', 65), ('Miomir Kecmanovic', 2), ('Laslo Djere', 27)]\n",
      "\n",
      "Po broju saigraca srpski igraci su: [('Dusan Lajovic', 41), ('Viktor Troicki', 19), ('Filip Krajinovic', 25), ('Novak Djokovic', 42), ('Miomir Kecmanovic', 2), ('Laslo Djere', 25)]\n",
      "\n"
     ]
    }
   ],
   "source": [
    "serbian_players = [player for player,country in G.nodes(data='country_code') if country=='SRB']\n",
    "\n",
    "serbian_players_ranks = [(get_player_info(player)[1],rank) for player,rank in G.nodes(data='rank') if player in serbian_players]\n",
    "print(f\"Po ranku srpski igraci su: {serbian_players_ranks}\\n\")\n",
    "\n",
    "serbian_players_matches = [(get_player_info(player)[1],degree) for player,degree in G.degree(weight='weight') if player in serbian_players]\n",
    "print(f\"Po broju meceva srpski igraci su: {serbian_players_matches}\\n\")\n",
    "\n",
    "serbian_players_opponents = [(get_player_info(player)[1],degree) for player,degree in G.degree() if player in serbian_players]\n",
    "print(f\"Po broju saigraca srpski igraci su: {serbian_players_opponents}\\n\")\n",
    "\n",
    "\n",
    "#Mozda u odnos na druge zemlje?"
   ]
  },
  {
   "cell_type": "markdown",
   "metadata": {},
   "source": [
    "# 9. Koje zajednice (komune) se mogu uočiti prilikom analize mreže? Da li postoji neko objašnjenje za detektovane komune?"
   ]
  },
  {
   "cell_type": "code",
   "execution_count": 125,
   "metadata": {},
   "outputs": [],
   "source": [
    "#Clauset-Newman-Moore pohlepni algoritam\n",
    "communities = comm.greedy_modularity_communities(G, weight='weight')\n",
    "communities = [list(community) for community in communities]\n",
    "\n",
    "# communities_info = {}\n",
    "# i=0\n",
    "# for community in communities:\n",
    "#     i+=1\n",
    "#     communities_info[i] = get_players_info(community)\n",
    "\n",
    "communities_info = {}\n",
    "for i in range(0,len(communities)):\n",
    "    communities_info[i+1] = get_players_info(communities[i])\n",
    "    \n",
    "# communities_info"
   ]
  },
  {
   "cell_type": "markdown",
   "metadata": {},
   "source": [
    "# 10. Sprovesti analizu klasterisanja i asortativnu analizu, pa uporediti grupisanje na osnovu zemlje iz koje igrači dolaze, na osnovu broja mečeva koje igraju i na osnovu rejtinga."
   ]
  },
  {
   "cell_type": "markdown",
   "metadata": {},
   "source": [
    "# Analiza klasterisanja"
   ]
  },
  {
   "cell_type": "code",
   "execution_count": 126,
   "metadata": {},
   "outputs": [
    {
     "name": "stdout",
     "output_type": "stream",
     "text": [
      "Max lokalni cc: 0.20000000000000004\n",
      "Prosečan cc: 0.17372693059959773\n",
      "Lokalni stepeni klasterisanja koji nisu nula:\n"
     ]
    },
    {
     "data": {
      "text/plain": [
       "[((104467, 'Lamine Ouahab', 528.7692307692307, 'ALG'), 0.20000000000000004, 2),\n",
       " ((104672, 'Vincent Millot', 306.86538461538464, 'FRA'),\n",
       "  0.20000000000000004,\n",
       "  2),\n",
       " ((200175, 'Miomir Kecmanovic', 179.3846153846154, 'SRB'),\n",
       "  0.20000000000000004,\n",
       "  2),\n",
       " ((126523, 'Bernabe Zapata Miralles', 280.38461538461536, 'ESP'),\n",
       "  0.20000000000000004,\n",
       "  2),\n",
       " ((106105, 'Guilherme Clezar', 221.73076923076923, 'BRA'),\n",
       "  0.20000000000000004,\n",
       "  2),\n",
       " ((106361, 'Adam Pavlasek', 200.40384615384616, 'CZE'),\n",
       "  0.20000000000000004,\n",
       "  2),\n",
       " ((106412, 'Lucas Gomez', 760.2307692307693, 'MEX'), 0.20000000000000004, 2),\n",
       " ((132482, 'Liam Caruana', 512.7884615384615, 'USA'), 0.192658771656154, 4),\n",
       " ((133297, 'Yosuke Watanuki', 292.40384615384613, 'JPN'),\n",
       "  0.13333333333333336,\n",
       "  3),\n",
       " ((136440, 'Dominik Koepfer', 222.71153846153845, 'GER'),\n",
       "  0.13333333333333336,\n",
       "  3),\n",
       " ((106005, 'Constant Lestienne', 210.25, 'FRA'), 0.13333333333333336, 3),\n",
       " ((106296, 'Gregoire Barrere', 256.2307692307692, 'FRA'),\n",
       "  0.13333333333333336,\n",
       "  4),\n",
       " ((124187, 'Reilly Opelka', 163.67307692307693, 'USA'),\n",
       "  0.11732806999299157,\n",
       "  4),\n",
       " ((104925, 'Novak Djokovic', 10.173076923076923, 'SRB'),\n",
       "  0.09311209880569453,\n",
       "  65),\n",
       " ((103898, 'Julien Benneteau', 68.78, 'FRA'), 0.09200913921596811, 19),\n",
       " ((105223, 'Juan Martin Del Potro', 5.673076923076923, 'ARG'),\n",
       "  0.0890128282679867,\n",
       "  61),\n",
       " ((104607, 'Tomas Berdych', 42.34615384615385, 'CZE'),\n",
       "  0.08886139829994824,\n",
       "  23),\n",
       " ((104745, 'Rafael Nadal', 1.3076923076923077, 'ESP'),\n",
       "  0.08707952270902254,\n",
       "  47),\n",
       " ((104731, 'Kevin Anderson', 7.788461538461538, 'RSA'),\n",
       "  0.08581283410275162,\n",
       "  67),\n",
       " ((103819, 'Roger Federer', 2.0576923076923075, 'SUI'),\n",
       "  0.08298843253323979,\n",
       "  59),\n",
       " ((106432, 'Borna Coric', 28.46153846153846, 'CRO'), 0.07981599725922185, 54),\n",
       " ((105227, 'Marin Cilic', 5.326923076923077, 'CRO'), 0.07945640333084, 59),\n",
       " ((100644, 'Alexander Zverev', 4.038461538461538, 'GER'),\n",
       "  0.07876705932511013,\n",
       "  73),\n",
       " ((105453, 'Kei Nishikori', 20.615384615384617, 'JPN'),\n",
       "  0.07743685405656603,\n",
       "  64),\n",
       " ((105676, 'David Goffin', 11.326923076923077, 'BEL'),\n",
       "  0.07690952205775806,\n",
       "  43),\n",
       " ((105777, 'Grigor Dimitrov', 7.653846153846154, 'BUL'),\n",
       "  0.07596272237277188,\n",
       "  43),\n",
       " ((104871, 'Jeremy Chardy', 63.38461538461539, 'FRA'),\n",
       "  0.07514273759787138,\n",
       "  45),\n",
       " ((106233, 'Dominic Thiem', 7.230769230769231, 'AUT'),\n",
       "  0.06975726122943826,\n",
       "  71),\n",
       " ((106421, 'Daniil Medvedev', 44.73076923076923, 'RUS'),\n",
       "  0.06812287293803258,\n",
       "  64),\n",
       " ((104545, 'John Isner', 11.615384615384615, 'USA'), 0.0680845788589138, 54),\n",
       " ((106378, 'Kyle Edmund', 20.942307692307693, 'GBR'), 0.06767306599693569, 58),\n",
       " ((104259, 'Philipp Kohlschreiber', 32.21153846153846, 'GER'),\n",
       "  0.06735528938954426,\n",
       "  46),\n",
       " ((124116, 'Sebastian Ofner', 164.8846153846154, 'AUT'),\n",
       "  0.06666666666666668,\n",
       "  3),\n",
       " ((109054, 'Daniel Masur', 334.6923076923077, 'GER'), 0.06666666666666668, 3),\n",
       " ((126535, 'Carlos Taberner', 231.34615384615384, 'ESP'),\n",
       "  0.06666666666666668,\n",
       "  3),\n",
       " ((106099, 'Salvatore Caruso', 189.94230769230768, 'ITA'),\n",
       "  0.06666666666666668,\n",
       "  4),\n",
       " ((106214, 'Oscar Otte', 163.8846153846154, 'GER'), 0.06666666666666668, 3),\n",
       " ((106249, 'Joao Domingues', 218.76923076923077, 'POR'),\n",
       "  0.06666666666666668,\n",
       "  3),\n",
       " ((106283, 'Mitchell Krueger', 233.05769230769232, 'USA'),\n",
       "  0.06666666666666668,\n",
       "  4),\n",
       " ((120424, 'Yannick Maden', 130.17307692307693, 'GER'),\n",
       "  0.06647226497485723,\n",
       "  13),\n",
       " ((106415, 'Yoshihito Nishioka', 203.23076923076923, 'JPN'),\n",
       "  0.06617944605245071,\n",
       "  20),\n",
       " ((106045, 'Denis Kudla', 105.73076923076923, 'USA'), 0.06558889018154278, 25),\n",
       " ((200282, 'Alex De Minaur', 83.53846153846153, 'AUS'),\n",
       "  0.06482737013254335,\n",
       "  49),\n",
       " ((111575, 'Karen Khachanov', 32.42307692307692, 'RUS'),\n",
       "  0.06453211420868339,\n",
       "  66),\n",
       " ((105332, 'Benoit Paire', 50.53846153846154, 'FRA'), 0.06409027307467732, 54),\n",
       " ((105583, 'Dusan Lajovic', 68.0, 'SRB'), 0.06400990494503396, 46),\n",
       " ((111511, 'Noah Rubin', 171.53846153846155, 'USA'), 0.06399912277660971, 10),\n",
       " ((104629, 'Adrian Menendez Maceiras', 130.34615384615384, 'ESP'),\n",
       "  0.06373017532912827,\n",
       "  6),\n",
       " ((133430, 'Denis Shapovalov', 34.38461538461539, 'CAN'),\n",
       "  0.06309592364337106,\n",
       "  60),\n",
       " ((126774, 'Stefanos Tsitsipas', 41.19230769230769, 'GRE'),\n",
       "  0.06278429145664274,\n",
       "  73),\n",
       " ((110602, 'Dennis Novak', 173.26923076923077, 'AUT'), 0.06215836157287345, 8),\n",
       " ((111797, 'Nicolas Jarry', 61.23076923076923, 'CHI'),\n",
       "  0.06211287083187482,\n",
       "  46),\n",
       " ((104919, 'Leonardo Mayer', 47.94230769230769, 'ARG'),\n",
       "  0.061549842304001894,\n",
       "  47),\n",
       " ((126207, 'Francis Tiafoe', 55.25, 'USA'), 0.06102413399309664, 52),\n",
       " ((104755, 'Richard Gasquet', 29.596153846153847, 'FRA'),\n",
       "  0.06094582013665314,\n",
       "  57),\n",
       " ((105575, 'Ricardas Berankis', 106.5, 'LTU'), 0.06068713449498572, 22),\n",
       " ((106078, 'Egor Gerasimov', 204.40384615384616, 'BLR'),\n",
       "  0.06026456133052996,\n",
       "  6),\n",
       " ((111460, 'Quentin Halys', 132.92307692307693, 'FRA'),\n",
       "  0.06000000000000001,\n",
       "  5),\n",
       " ((105819, 'Guido Andreozzi', 132.42307692307693, 'ARG'),\n",
       "  0.05988757305380345,\n",
       "  9),\n",
       " ((104792, 'Gael Monfils', 38.07692307692308, 'FRA'),\n",
       "  0.059865591732649666,\n",
       "  50),\n",
       " ((105936, 'Filip Krajinovic', 40.96153846153846, 'SRB'),\n",
       "  0.059544884431845906,\n",
       "  31),\n",
       " ((105357, 'John Millman', 65.8076923076923, 'AUS'), 0.059275491574068695, 38),\n",
       " ((105341, 'Thomas Fabbiano', 102.5, 'ITA'), 0.05923902786391849, 20),\n",
       " ((105373, 'Martin Klizan', 99.90384615384616, 'SVK'),\n",
       "  0.059175938242032135,\n",
       "  27),\n",
       " ((105023, 'Sam Querrey', 28.807692307692307, 'USA'), 0.05894089156947036, 43),\n",
       " ((105916, 'Marton Fucsovics', 52.05769230769231, 'HUN'),\n",
       "  0.05889998068381542,\n",
       "  48),\n",
       " ((105807, 'Pablo Carreno Busta', 15.423076923076923, 'ESP'),\n",
       "  0.05855187866461296,\n",
       "  52),\n",
       " ((104269, 'Fernando Verdasco', 33.32692307692308, 'ESP'),\n",
       "  0.058197634406013686,\n",
       "  61),\n",
       " ((104312, 'Andreas Seppi', 53.09615384615385, 'ITA'),\n",
       "  0.058047413245491404,\n",
       "  45),\n",
       " ((106065, 'Marco Cecchinato', 53.61538461538461, 'ITA'),\n",
       "  0.05752944197212425,\n",
       "  46),\n",
       " ((105806, 'Mirza Basic', 87.82692307692308, 'BIH'), 0.05717970538372309, 30),\n",
       " ((106043, 'Diego Sebastian Schwartzman', 16.21153846153846, 'ARG'),\n",
       "  0.057161035245345555,\n",
       "  55),\n",
       " ((104534, 'Dudi Sela', 151.59615384615384, 'ISR'), 0.0570767206407561, 13),\n",
       " ((105074, 'Ruben Bemelmans', 115.61538461538461, 'BEL'),\n",
       "  0.057054431601592126,\n",
       "  19),\n",
       " ((105064, 'Thomaz Bellucci', 222.65384615384616, 'BRA'),\n",
       "  0.05679894733193165,\n",
       "  6),\n",
       " ((104252, 'Florian Mayer', 154.28846153846155, 'GER'),\n",
       "  0.0565910790733631,\n",
       "  17),\n",
       " ((111577, 'Jared Donaldson', 73.46153846153847, 'USA'),\n",
       "  0.055454024500507675,\n",
       "  33),\n",
       " ((104198, 'Guillermo Garcia Lopez', 77.11538461538461, 'ESP'),\n",
       "  0.05468651319004123,\n",
       "  39),\n",
       " ((105051, 'Matthew Ebden', 61.78846153846154, 'AUS'),\n",
       "  0.054499952198748536,\n",
       "  41),\n",
       " ((105376, 'Peter Gojowczyk', 52.94230769230769, 'GER'),\n",
       "  0.054405572773261295,\n",
       "  48),\n",
       " ((105216, 'Yuichi Sugita', 79.09615384615384, 'JPN'),\n",
       "  0.054387512444538516,\n",
       "  30),\n",
       " ((111202, 'Hyeon Chung', 26.28846153846154, 'KOR'), 0.05415285632072853, 47),\n",
       " ((126094, 'Andrey Rublev', 45.26923076923077, 'RUS'),\n",
       "  0.05413600704197415,\n",
       "  42),\n",
       " ((104655, 'Pablo Cuevas', 60.84615384615385, 'URU'), 0.05381628329306971, 27),\n",
       " ((106000, 'Damir Dzumhur', 33.11538461538461, 'BIH'),\n",
       "  0.05371483258415238,\n",
       "  54),\n",
       " ((104897, 'Matthias Bachinger', 156.92307692307693, 'GER'),\n",
       "  0.053713157855641055,\n",
       "  9),\n",
       " ((105379, 'Aljaz Bedene', 64.09615384615384, 'SLO'), 0.053544924215203, 36),\n",
       " ((105208, 'Ernests Gulbis', 152.09615384615384, 'LAT'),\n",
       "  0.05332241081224511,\n",
       "  15),\n",
       " ((105173, 'Adrian Mannarino', 30.48076923076923, 'FRA'),\n",
       "  0.05299059768573148,\n",
       "  54),\n",
       " ((104890, 'Andreas Haider Maurer', 498.2307692307692, 'AUT'),\n",
       "  0.05288801166549859,\n",
       "  9),\n",
       " ((105539, 'Evgeny Donskoy', 84.3076923076923, 'RUS'),\n",
       "  0.052544200809845835,\n",
       "  35),\n",
       " ((105932, 'Nikoloz Basilashvili', 55.07692307692308, 'GEO'),\n",
       "  0.052409845719050135,\n",
       "  55),\n",
       " ((104547, 'Horacio Zeballos', 120.5576923076923, 'ARG'),\n",
       "  0.05233389578714112,\n",
       "  24),\n",
       " ((105385, 'Donald Young', 179.84615384615384, 'USA'),\n",
       "  0.05212793181267205,\n",
       "  15),\n",
       " ((105062, 'Mikhail Kukushkin', 78.48076923076923, 'KAZ'),\n",
       "  0.052063055424691855,\n",
       "  40),\n",
       " ((105577, 'Vasek Pospisil', 84.23076923076923, 'CAN'),\n",
       "  0.05200115563624509,\n",
       "  22),\n",
       " ((104022, 'Mikhail Youzhny', 98.63157894736842, 'RUS'),\n",
       "  0.051946148218661316,\n",
       "  25),\n",
       " ((103893, 'Paolo Lorenzi', 83.65384615384616, 'ITA'), 0.0519399114279637, 21),\n",
       " ((111456, 'Mackenzie Mcdonald', 109.71153846153847, 'USA'),\n",
       "  0.05170613522991067,\n",
       "  22),\n",
       " ((105138, 'Roberto Bautista Agut', 19.73076923076923, 'ESP'),\n",
       "  0.05143261232791985,\n",
       "  51),\n",
       " ((105430, 'Radu Albot', 95.0, 'MDA'), 0.0512469116593424, 35),\n",
       " ((103970, 'David Ferrer', 74.23076923076923, 'ESP'), 0.05109796933525303, 25),\n",
       " ((105614, 'Bradley Klahn', 137.6153846153846, 'USA'),\n",
       "  0.05108122664367162,\n",
       "  13),\n",
       " ((144719, 'Jaume Munar', 126.28846153846153, 'ESP'), 0.05023978132127821, 24),\n",
       " ((105643, 'Federico Delbonis', 80.5, 'ARG'), 0.05016001270773656, 29),\n",
       " ((105732, 'Pierre Hugues Herbert', 72.90384615384616, 'FRA'),\n",
       "  0.05002312058662723,\n",
       "  45),\n",
       " ((104542, 'Jo Wilfried Tsonga', 84.40384615384616, 'FRA'),\n",
       "  0.049826074982553765,\n",
       "  11),\n",
       " ((106121, 'Taro Daniel', 87.78846153846153, 'JPN'), 0.04945571137830399, 33),\n",
       " ((105657, 'Marius Copil', 83.4423076923077, 'ROU'), 0.048484921107472184, 35),\n",
       " ((106401, 'Nick Kyrgios', 24.71153846153846, 'AUS'), 0.04843523896240367, 37),\n",
       " ((104620, 'Simone Bolelli', 151.90384615384616, 'ITA'),\n",
       "  0.04834539233445712,\n",
       "  9),\n",
       " ((105526, 'Jan Lennard Struff', 57.84615384615385, 'GER'),\n",
       "  0.048042914860008265,\n",
       "  47),\n",
       " ((104999, 'Mischa Zverev', 55.96153846153846, 'GER'),\n",
       "  0.047433226817360535,\n",
       "  48),\n",
       " ((126610, 'Matteo Berrettini', 83.34615384615384, 'ITA'),\n",
       "  0.04743158693173121,\n",
       "  38),\n",
       " ((128034, 'Hubert Hurkacz', 145.80769230769232, 'POL'),\n",
       "  0.0472703348452992,\n",
       "  14),\n",
       " ((105683, 'Milos Raonic', 25.21153846153846, 'CAN'), 0.04677217295153084, 49),\n",
       " ((103917, 'Nicolas Mahut', 135.01923076923077, 'FRA'),\n",
       "  0.0467231095384411,\n",
       "  13),\n",
       " ((104468, 'Gilles Simon', 51.23076923076923, 'FRA'),\n",
       "  0.045770476839098385,\n",
       "  57),\n",
       " ((104297, 'Rogerio Dutra Silva', 133.28846153846155, 'BRA'),\n",
       "  0.04570333229181051,\n",
       "  16),\n",
       " ((105449, 'Steve Johnson', 41.73076923076923, 'USA'), 0.0454514276538571, 49),\n",
       " ((106298, 'Lucas Pouille', 19.365384615384617, 'FRA'),\n",
       "  0.045213703942014564,\n",
       "  42),\n",
       " ((104180, 'Gilles Muller', 77.8076923076923, 'LUX'), 0.04499568050092711, 28),\n",
       " ((106148, 'Roberto Carballes Baena', 83.23076923076923, 'ESP'),\n",
       "  0.04475142965734737,\n",
       "  31),\n",
       " ((103852, 'Feliciano Lopez', 51.17307692307692, 'ESP'),\n",
       "  0.04474784629366547,\n",
       "  43),\n",
       " ((105671, 'Gastao Elias', 154.01923076923077, 'POR'), 0.04471372178496338, 8),\n",
       " ((104291, 'Malek Jaziri', 71.09615384615384, 'TUN'), 0.04464030265819202, 42),\n",
       " ((104898, 'Robin Haase', 44.84615384615385, 'NED'), 0.044414928480836634, 52),\n",
       " ((104926, 'Fabio Fognini', 16.98076923076923, 'ITA'),\n",
       "  0.04419769622145928,\n",
       "  66),\n",
       " ((104527, 'Stanislas Wawrinka', 76.57692307692308, 'SUI'),\n",
       "  0.04404367242011809,\n",
       "  34),\n",
       " ((105077, 'Albert Ramos', 41.36538461538461, 'ESP'), 0.04281412446209841, 46),\n",
       " ((134770, 'Casper Ruud', 146.03846153846155, 'NOR'), 0.04272746513729259, 15),\n",
       " ((104678, 'Viktor Troicki', 113.01923076923077, 'SRB'),\n",
       "  0.04236492715788543,\n",
       "  19),\n",
       " ((105311, 'Joao Sousa', 56.34615384615385, 'POR'), 0.04204424789499901, 51),\n",
       " ((200615, 'Alexei Popyrin', 334.1923076923077, 'AUS'),\n",
       "  0.041997368329829116,\n",
       "  5),\n",
       " ((111581, 'Michael Mmoh', 133.07692307692307, 'USA'),\n",
       "  0.041756858029347345,\n",
       "  12),\n",
       " ((104918, 'Andy Murray', 195.28846153846155, 'GBR'),\n",
       "  0.041725117648766435,\n",
       "  13),\n",
       " ((124014, 'Ernesto Escobedo', 173.71153846153845, 'USA'),\n",
       "  0.041608180255663305,\n",
       "  11),\n",
       " ((104797, 'Denis Istomin', 84.48076923076923, 'UZB'),\n",
       "  0.04158847157564098,\n",
       "  30),\n",
       " ((105815, 'Tennys Sandgren', 60.71153846153846, 'USA'),\n",
       "  0.041270785457197944,\n",
       "  36),\n",
       " ((106329, 'Thiago Monteiro', 121.59615384615384, 'BRA'),\n",
       "  0.04090363305411576,\n",
       "  16),\n",
       " ((106058, 'Jack Sock', 28.307692307692307, 'USA'), 0.040885192236969924, 30),\n",
       " ((104660, 'Sergiy Stakhovsky', 128.44230769230768, 'UKR'),\n",
       "  0.04057067666566547,\n",
       "  7),\n",
       " ((105992, 'Ryan Harrison', 55.21153846153846, 'USA'),\n",
       "  0.04038748055806886,\n",
       "  42),\n",
       " ((105238, 'Alexandr Dolgopolov', 115.90384615384616, 'UKR'),\n",
       "  0.04033289472163819,\n",
       "  10),\n",
       " ((111513, 'Laslo Djere', 92.61538461538461, 'SRB'), 0.04020092074610067, 27),\n",
       " ((122330, 'Alexander Bublik', 164.07692307692307, 'KAZ'),\n",
       "  0.04000000000000001,\n",
       "  5),\n",
       " ((105015, 'Franco Skugor', 359.96153846153845, 'CRO'),\n",
       "  0.04000000000000001,\n",
       "  6),\n",
       " ((106120, 'Ricardo Ojeda Lara', 234.28846153846155, 'ESP'),\n",
       "  0.04000000000000001,\n",
       "  6),\n",
       " ((105432, 'Prajnesh Gunneswaran', 185.67307692307693, 'IND'),\n",
       "  0.04000000000000001,\n",
       "  5),\n",
       " ((106210, 'Jiri Vesely', 80.8076923076923, 'CZE'), 0.03976271332064022, 31),\n",
       " ((126203, 'Taylor Harry Fritz', 67.4423076923077, 'USA'),\n",
       "  0.039573858960373964,\n",
       "  43),\n",
       " ((109739, 'Maximilian Marterer', 66.65384615384616, 'GER'),\n",
       "  0.039309702142478156,\n",
       "  41),\n",
       " ((105550, 'Guido Pella', 64.32692307692308, 'ARG'), 0.03922752041821505, 45),\n",
       " ((104665, 'Pablo Andujar', 431.6730769230769, 'ESP'),\n",
       "  0.038923024058630115,\n",
       "  14),\n",
       " ((103607, 'Victor Estrella', 210.80769230769232, 'DOM'),\n",
       "  0.038888888888888896,\n",
       "  10),\n",
       " ((111815, 'Cameron Norrie', 91.26923076923077, 'GBR'),\n",
       "  0.03854451689700249,\n",
       "  33),\n",
       " ((200000, 'Felix Auger Aliassime', 147.73076923076923, 'CAN'),\n",
       "  0.03796627191614104,\n",
       "  16),\n",
       " ((106026, 'Yuki Bhambri', 103.17307692307692, 'IND'),\n",
       "  0.037896828588934936,\n",
       "  14),\n",
       " ((125802, 'Ilya Ivashka', 124.8076923076923, 'BLR'),\n",
       "  0.037384640397396265,\n",
       "  20),\n",
       " ((103333, 'Ivo Karlovic', 101.53846153846153, 'CRO'),\n",
       "  0.03729182184550691,\n",
       "  27),\n",
       " ((105166, 'Peter Polansky', 125.42307692307692, 'CAN'),\n",
       "  0.03679528531820172,\n",
       "  14),\n",
       " ((104882, 'Blaz Kavcic', 179.53846153846155, 'SLO'), 0.036710760221755, 10),\n",
       " ((105041, 'Lukas Lacko', 92.61538461538461, 'SVK'), 0.036572754365895736, 27),\n",
       " ((106044, 'Nicolas Kicker', 117.75, 'ARG'), 0.035678966058193415, 19),\n",
       " ((132283, 'Lorenzo Sonego', 134.07692307692307, 'ITA'),\n",
       "  0.035555555555555556,\n",
       "  11),\n",
       " ((105477, 'Marco Trungelliti', 180.5, 'ARG'), 0.03416572430445904, 8),\n",
       " ((105902, 'James Duckworth', 699.75, 'AUS'), 0.034141165354890146, 8),\n",
       " ((106368, 'Ramkumar Ramanathan', 130.40384615384616, 'IND'),\n",
       "  0.033672440181435906,\n",
       "  11),\n",
       " ((104460, 'Dustin Brown', 191.8653846153846, 'GER'), 0.03333333333333334, 4),\n",
       " ((104586, 'Lukas Rosol', 215.19230769230768, 'CZE'), 0.03333333333333334, 4),\n",
       " ((105634, 'Viktor Galovic', 201.25, 'ITA'), 0.03333333333333334, 4),\n",
       " ((106072, 'Alexey Vatutin', 163.07692307692307, 'RUS'),\n",
       "  0.03333333333333334,\n",
       "  4),\n",
       " ((126652, 'Jay Clarke', 218.78846153846155, 'GBR'), 0.03333333333333334, 4),\n",
       " ((105155, 'Pedro Sousa', 125.51923076923077, 'POR'), 0.03333333333333334, 4),\n",
       " ((104571, 'Marcos Baghdatis', 101.5, 'CYP'), 0.031982356325218876, 29),\n",
       " ((104719, 'Marcel Granollers', 117.4423076923077, 'ESP'),\n",
       "  0.0304280074992491,\n",
       "  8),\n",
       " ((106075, 'Jozef Kovalik', 120.59615384615384, 'SVK'),\n",
       "  0.02923521527119816,\n",
       "  12),\n",
       " ((106423, 'Thanasi Kokkinakis', 177.82692307692307, 'AUS'),\n",
       "  0.029221783610527075,\n",
       "  9),\n",
       " ((105065, 'Tim Smyczek', 125.0, 'USA'), 0.026911545585562406, 18),\n",
       " ((105487, 'Facundo Bagnis', 172.80769230769232, 'ARG'),\n",
       "  0.026666666666666672,\n",
       "  6),\n",
       " ((144895, 'Corentin Moutet', 134.90384615384616, 'FRA'),\n",
       "  0.024800173376343212,\n",
       "  14),\n",
       " ((111442, 'Jordan Thompson', 95.01923076923077, 'AUS'),\n",
       "  0.023377426888421666,\n",
       "  11),\n",
       " ((111200, 'Elias Ymer', 126.0, 'SWE'), 0.022222222222222227, 10),\n",
       " ((105132, 'Jurgen Zopp', 133.96153846153845, 'EST'),\n",
       "  0.022222222222222227,\n",
       "  11),\n",
       " ((105870, 'Yannick Hanfmann', 128.73076923076923, 'GER'),\n",
       "  0.021523057618046414,\n",
       "  7),\n",
       " ((106109, 'Alex Bolt', 179.53846153846155, 'AUS'), 0.021428571428571432, 8),\n",
       " ((144707, 'Mikael Ymer', 336.78846153846155, 'SWE'), 0.020000000000000004, 5),\n",
       " ((105882, 'Stefano Travaglia', 134.26923076923077, 'ITA'),\n",
       "  0.01777777777777778,\n",
       "  10),\n",
       " ((105589, 'Gerald Melzer', 143.5, 'AUT'), 0.01666666666666667, 9),\n",
       " ((106216, 'Bjorn Fratangelo', 130.3653846153846, 'USA'),\n",
       "  0.014285714285714289,\n",
       "  8),\n",
       " ((104122, 'Carlos Berlocq', 141.94230769230768, 'ARG'),\n",
       "  0.013333333333333336,\n",
       "  6),\n",
       " ((106071, 'Bernard Tomic', 147.48076923076923, 'AUS'),\n",
       "  0.010433201749824789,\n",
       "  16),\n",
       " ((105967, 'Henri Laaksonen', 140.71153846153845, 'SUI'),\n",
       "  0.005555555555555557,\n",
       "  9)]"
      ]
     },
     "execution_count": 126,
     "metadata": {},
     "output_type": "execute_result"
    }
   ],
   "source": [
    "#Lokalni koeficijent klasterizacije\n",
    "#računa se kao gustina mreže koju čine posmatrani čvor, njegovi susedi i njihove međusobne veze\n",
    "\n",
    "player_id, clustering_coef = zip(*nx.clustering(G, weight = \"weight\").items())\n",
    "\n",
    "not_zero_cc_players = [(get_player_info(player),cc,degree[1])  for player, cc, degree in zip(player_id, clustering_coef, G.degree(weight='weight')) if cc > 0]\n",
    "not_zero_cc_players = (sorted(not_zero_cc_players, key=lambda element: (element[1]),reverse=True))\n",
    "\n",
    "max_local_clustering_coef = max(clustering_coef)\n",
    "\n",
    "average_clustering_coef = nx.average_clustering(G)\n",
    "\n",
    "print(f\"Max lokalni cc: {max_local_clustering_coef}\")\n",
    "print(f\"Prosečan cc: {average_clustering_coef}\")\n",
    "print(\"Lokalni stepeni klasterisanja koji nisu nula:\")\n",
    "not_zero_cc_players"
   ]
  },
  {
   "cell_type": "markdown",
   "metadata": {},
   "source": [
    "## Asortativnost "
   ]
  },
  {
   "cell_type": "code",
   "execution_count": 127,
   "metadata": {},
   "outputs": [
    {
     "name": "stdout",
     "output_type": "stream",
     "text": [
      "Koeficijent asortativnosti na osnovu netežinskog stepena čvora: 0.07197468792309131\n",
      "Koeficijent asortativnosti na osnovu težinskog stepena cvora (broja meceva): 0.10573291351025647\n",
      "Koeficijent asortativnosti na osnovu ranka čvora: -0.007191025849709368\n"
     ]
    }
   ],
   "source": [
    "# asortativnost na osnovu netežinskog stepena čvora\n",
    "graph_ass = nx.degree_assortativity_coefficient(G)\n",
    "print(f\"Koeficijent asortativnosti na osnovu netežinskog stepena čvora: {graph_ass}\")\n",
    "\n",
    "# asortativnost na osnovu težinskog stepena čvora\n",
    "graph_weighted_ass = nx.degree_assortativity_coefficient(G, weight='weight')\n",
    "print(f\"Koeficijent asortativnosti na osnovu težinskog stepena cvora (broja meceva): {graph_weighted_ass}\")\n",
    "\n",
    "#Umereno asortativna mreza? - vezivanje cvorova koji su slicni\n",
    "\n",
    "# asortativnost na osnovu ranka\n",
    "graph_rank_ass = nx.attribute_assortativity_coefficient(G, 'rank')\n",
    "print(f\"Koeficijent asortativnosti na osnovu ranka čvora: {graph_rank_ass}\")\n",
    "\n",
    "#U grupe??"
   ]
  },
  {
   "cell_type": "code",
   "execution_count": 128,
   "metadata": {},
   "outputs": [],
   "source": [
    "max_rank = max([rank for (node,rank) in G.nodes(data='rank')])\n",
    "\n",
    "def getRankGroup(rank):\n",
    "    if rank<100:\n",
    "        return 'group100'\n",
    "    if rank<250:\n",
    "        return 'group250'\n",
    "    if rank<500:\n",
    "        return 'group500'\n",
    "    if rank<2000:\n",
    "        return 'group2000'\n",
    "    return 'theLastGroup'\n",
    "\n",
    "def addRankGroupAttributes():\n",
    "    for player in players:\n",
    "        G.nodes[player]['rank_group']=getRankGroup(G.nodes[player]['rank'])"
   ]
  },
  {
   "cell_type": "code",
   "execution_count": 129,
   "metadata": {},
   "outputs": [
    {
     "name": "stdout",
     "output_type": "stream",
     "text": [
      "Koeficijent asortativnosti na osnovu kategorije ranka čvora: 0.07537049559247427\n"
     ]
    }
   ],
   "source": [
    "addRankGroupAttributes()\n",
    "\n",
    "graph_rank_group_ass = nx.attribute_assortativity_coefficient(G, 'rank_group')\n",
    "print(f\"Koeficijent asortativnosti na osnovu kategorije ranka čvora: {graph_rank_group_ass}\")"
   ]
  },
  {
   "cell_type": "code",
   "execution_count": 130,
   "metadata": {},
   "outputs": [
    {
     "name": "stdout",
     "output_type": "stream",
     "text": [
      "Koeficijent asortativnosti na osnovu drzave: 0.01729479120178515\n"
     ]
    }
   ],
   "source": [
    "# asortativnost na osnovu drzave\n",
    "graph_rank_ass = nx.attribute_assortativity_coefficient(G, 'country_code')\n",
    "print(f\"Koeficijent asortativnosti na osnovu drzave: {graph_rank_ass}\")"
   ]
  },
  {
   "cell_type": "markdown",
   "metadata": {},
   "source": [
    "# 11. U kojoj meri teniseri imaju tendenciju da se susreću sa istim teniserima? Da li na to utiče njihovo rangiranje na ATP listi?\n"
   ]
  },
  {
   "cell_type": "code",
   "execution_count": 131,
   "metadata": {},
   "outputs": [],
   "source": [
    "def plot_num_of_opponents_per_rank(G, xscale = \"linear\", yscale = \"linear\"):\n",
    "     \n",
    "    x=[]\n",
    "    y=[]\n",
    "    for node,rank in G.nodes(data='rank'):\n",
    "        x.append(G.degree(weight='weight')[node]/G.degree[node])\n",
    "        y.append(rank)\n",
    "\n",
    "    plt.xscale(xscale)                                                                                                                \n",
    "    plt.xlim(1, max(x))  \n",
    "\n",
    "    plt.ylabel('rank')  \n",
    "    plt.xlabel('broj meceva/broj protivnika') \n",
    "    plt.yscale(yscale)                                                                                                                \n",
    "    plt.ylim(1, max(y))  \n",
    "                                                                                                                                                                                                    \n",
    "    plt.scatter(x, y, marker='.')                                                                                                    \n",
    "    plt.show()"
   ]
  },
  {
   "cell_type": "code",
   "execution_count": 132,
   "metadata": {
    "scrolled": true
   },
   "outputs": [
    {
     "data": {
      "image/png": "[encoded data removed]",
      "text/plain": [
       "<Figure size 432x288 with 1 Axes>"
      ]
     },
     "metadata": {
      "needs_background": "light"
     },
     "output_type": "display_data"
    }
   ],
   "source": [
    "plot_num_of_opponents_per_rank(G,'linear','log')"
   ]
  },
  {
   "cell_type": "markdown",
   "metadata": {},
   "source": [
    "# 12. Koji teniseri predstavljaju jezgro mreže?\n"
   ]
  },
  {
   "cell_type": "code",
   "execution_count": 133,
   "metadata": {},
   "outputs": [
    {
     "name": "stdout",
     "output_type": "stream",
     "text": [
      "Name: \n",
      "Type: Graph\n",
      "Number of nodes: 78\n",
      "Number of edges: 1077\n",
      "Average degree:  27.6154\n"
     ]
    },
    {
     "data": {
      "text/plain": [
       "0.35864135864135865"
      ]
     },
     "execution_count": 133,
     "metadata": {},
     "output_type": "execute_result"
    }
   ],
   "source": [
    "from networkx.algorithms import core\n",
    "\n",
    "core_graph = core.k_core(G)\n",
    "\n",
    "print(nx.info(core_graph))\n",
    "\n",
    "#da li je 78 od 219 jezgro?\n",
    "core_nodes = [(node,name) for node,name in core_graph.nodes(data='player_name')]\n",
    "\n",
    "#gustina znatno veca!\n",
    "nx.density(core_graph)"
   ]
  },
  {
   "cell_type": "markdown",
   "metadata": {},
   "source": [
    "# 13. Ko su teniseri koji povezuju različite grupe u okviru mreže?"
   ]
  },
  {
   "cell_type": "code",
   "execution_count": 134,
   "metadata": {},
   "outputs": [
    {
     "name": "stdout",
     "output_type": "stream",
     "text": [
      "Teniseri koji povezuju različite grupe u okviru mreže\n"
     ]
    },
    {
     "data": {
      "text/plain": [
       "[((104926, 'Fabio Fognini', 16.98076923076923, 'ITA'), 0.04675665554873781),\n",
       " ((104468, 'Gilles Simon', 51.23076923076923, 'FRA'), 0.040990635528978865),\n",
       " ((105173, 'Adrian Mannarino', 30.48076923076923, 'FRA'), 0.03811773413188154),\n",
       " ((105311, 'Joao Sousa', 56.34615384615385, 'POR'), 0.03626443281602215),\n",
       " ((126774, 'Stefanos Tsitsipas', 41.19230769230769, 'GRE'),\n",
       "  0.02915493550630686),\n",
       " ((105683, 'Milos Raonic', 25.21153846153846, 'CAN'), 0.02889251581424229),\n",
       " ((105138, 'Roberto Bautista Agut', 19.73076923076923, 'ESP'),\n",
       "  0.028524637534127227),\n",
       " ((111815, 'Cameron Norrie', 91.26923076923077, 'GBR'), 0.027878819888952997),\n",
       " ((105932, 'Nikoloz Basilashvili', 55.07692307692308, 'GEO'),\n",
       "  0.0273524579581226),\n",
       " ((104291, 'Malek Jaziri', 71.09615384615384, 'TUN'), 0.026671294821369686)]"
      ]
     },
     "execution_count": 134,
     "metadata": {},
     "output_type": "execute_result"
    }
   ],
   "source": [
    "betweenness_centralities = [(node, centrality) for node, centrality in nx.betweenness_centrality(G).items()]\n",
    "\n",
    "max_betweenness_centralities = sorted(betweenness_centralities,key=lambda item: item[1], reverse=True)[:10]\n",
    "\n",
    "high_betweenness_centralities_centrality_players = [(get_player_info(player[0]), player[1]) for player in max_betweenness_centralities]\n",
    "\n",
    "print(f\"Teniseri koji povezuju različite grupe u okviru mreže\")\n",
    "high_betweenness_centralities_centrality_players"
   ]
  },
  {
   "cell_type": "markdown",
   "metadata": {},
   "source": [
    "# 14. Kolika je gustina svake od modelovanih mreža?"
   ]
  },
  {
   "cell_type": "code",
   "execution_count": 135,
   "metadata": {},
   "outputs": [
    {
     "data": {
      "text/plain": [
       "0.05382154283682901"
      ]
     },
     "execution_count": 135,
     "metadata": {},
     "output_type": "execute_result"
    }
   ],
   "source": [
    "nx.density(G)"
   ]
  },
  {
   "cell_type": "markdown",
   "metadata": {},
   "source": [
    "# 15. U kojoj meri su mreže povezane i centralizovane?"
   ]
  },
  {
   "cell_type": "code",
   "execution_count": 136,
   "metadata": {},
   "outputs": [
    {
     "data": {
      "text/plain": [
       "0.15014268727705113"
      ]
     },
     "execution_count": 136,
     "metadata": {},
     "output_type": "execute_result"
    }
   ],
   "source": [
    "_,degrees = zip(*G.degree())\n",
    "\n",
    "N=len(degrees)\n",
    "max_degree = max(degrees)\n",
    "\n",
    "#sum(max(x)-x)/(length(x)-1)\n",
    "centralization = float((N*max_degree - sum(degrees)))/(N-1)**2\n",
    "\n",
    "centralization"
   ]
  },
  {
   "cell_type": "code",
   "execution_count": 137,
   "metadata": {},
   "outputs": [],
   "source": [
    "def plot_players_per_centralities_frequency(G, xscale = \"linear\", yscale = \"linear\"):\n",
    "\n",
    "    degree_centralities = [centrality for node, centrality in nx.degree_centrality(G).items()]\n",
    "    centralities_counts = Counter(degree_centralities) #prebrojava, 1, 2, ..        \n",
    "    print(centralities_counts)\n",
    "    #lists = sorted(centralities_counts.items(),key=lambda item: item[1])\n",
    "    x,frequency = zip(*centralities_counts.items())                                                      \n",
    "\n",
    "    fig = plt.figure(1) \n",
    "    plt.xlabel('degree centrality')  \n",
    "    plt.xscale(xscale)                                                                                                                \n",
    "    plt.xlim(0, max(x))  \n",
    "\n",
    "    plt.ylabel('frequency')                                                                                                          \n",
    "    plt.yscale(yscale)                                                                                                                \n",
    "    plt.ylim(1, max(frequency))                                                                                                             \n",
    "                                                                                                                                                                                                    \n",
    "    plt.scatter(x, frequency, marker='.')  \n",
    "    plt.show()   "
   ]
  },
  {
   "cell_type": "code",
   "execution_count": 138,
   "metadata": {},
   "outputs": [
    {
     "name": "stdout",
     "output_type": "stream",
     "text": [
      "Counter({0.0034482758620689655: 63, 0.006896551724137931: 28, 0.013793103448275862: 14, 0.010344827586206896: 13, 0.017241379310344827: 11, 0.03103448275862069: 9, 0.027586206896551724: 7, 0.020689655172413793: 7, 0.06551724137931034: 7, 0.11724137931034483: 7, 0.04482758620689655: 6, 0.034482758620689655: 6, 0.14482758620689656: 6, 0.03793103448275862: 5, 0.08620689655172414: 5, 0.15517241379310345: 5, 0.1413793103448276: 4, 0.12068965517241378: 4, 0.13448275862068965: 4, 0.11379310344827587: 4, 0.09310344827586206: 4, 0.13103448275862067: 4, 0.12758620689655173: 4, 0.02413793103448276: 3, 0.041379310344827586: 3, 0.06896551724137931: 3, 0.1: 3, 0.12413793103448276: 3, 0.15172413793103448: 3, 0.04827586206896552: 3, 0.1586206896551724: 3, 0.16551724137931034: 3, 0.05517241379310345: 3, 0.13793103448275862: 3, 0.05862068965517241: 3, 0.05172413793103448: 3, 0.1103448275862069: 2, 0.0793103448275862: 2, 0.1793103448275862: 2, 0.16896551724137931: 2, 0.09655172413793103: 2, 0.1482758620689655: 2, 0.07586206896551724: 2, 0.10689655172413792: 2, 0.0896551724137931: 2, 0.1724137931034483: 1, 0.10344827586206896: 1, 0.07241379310344828: 1, 0.20344827586206896: 1, 0.18275862068965518: 1, 0.16206896551724137: 1, 0.08275862068965517: 1})\n"
     ]
    },
    {
     "data": {
      "image/png": "[encoded data removed]",
      "text/plain": [
       "<Figure size 432x288 with 1 Axes>"
      ]
     },
     "metadata": {
      "needs_background": "light"
     },
     "output_type": "display_data"
    }
   ],
   "source": [
    "#ako ima nekoliko koji se izdvajaju sa velikom centralnoscu - centralizovan\n",
    "#nas nije\n",
    "plot_players_per_centralities_frequency(G)"
   ]
  },
  {
   "cell_type": "code",
   "execution_count": 139,
   "metadata": {},
   "outputs": [
    {
     "name": "stdout",
     "output_type": "stream",
     "text": [
      "1\n",
      "1\n"
     ]
    }
   ],
   "source": [
    "# returns number of nodes to be removed \n",
    "# so that Graph becomes disconnected \n",
    "print(nx.node_connectivity(G)) \n",
    "  \n",
    "# returns number of edges to be removed \n",
    "# so that Graph becomes disconnected \n",
    "print(nx.edge_connectivity(G))\n",
    "\n",
    "#treba mnogo vremena!!!\n",
    "#nx.average_node_connectivity(G)"
   ]
  },
  {
   "cell_type": "markdown",
   "metadata": {},
   "source": [
    "# 16. Koje su prosečne distance, a koliki dijametar u okviru modelovanih mreža?"
   ]
  },
  {
   "cell_type": "code",
   "execution_count": 140,
   "metadata": {},
   "outputs": [
    {
     "name": "stdout",
     "output_type": "stream",
     "text": [
      "Prosecna distanca: 2.6714776632302404\n",
      "Dijametar: 6\n"
     ]
    }
   ],
   "source": [
    "#ovoga vise nema kad smo izbacili Davis Cup!\n",
    "# for g in [G.subgraph(c) for c in nx.connected_components(G)]: \n",
    "#     if len(g.nodes())<=4:\n",
    "#         small_components=get_players_info(g.nodes())\n",
    "#     if len(g.nodes())==19:\n",
    "#         one_bigger_component=getPlayersInfo(g.nodes())\n",
    "        \n",
    "if nx.is_connected(G):\n",
    "    print(f'Prosecna distanca: {(nx.average_shortest_path_length(G))}')\n",
    "    print(f'Dijametar: {nx.diameter(G)}')\n",
    "    \n",
    "#za precnik mreze 12 nije mali svet\n",
    "#za duzinu puta ~5 lici na fen. malog sveta"
   ]
  },
  {
   "cell_type": "markdown",
   "metadata": {},
   "source": [
    "# 17. Kakva je distribucija čvorova po stepenu i da li prati neku zakonomernost? Kako je stepen čvora korelisan sa rejtingom tenisera?"
   ]
  },
  {
   "cell_type": "code",
   "execution_count": 141,
   "metadata": {},
   "outputs": [
    {
     "name": "stdout",
     "output_type": "stream",
     "text": [
      "Counter({1: 63, 2: 28, 4: 14, 3: 13, 5: 11, 9: 9, 8: 7, 6: 7, 19: 7, 34: 7, 13: 6, 10: 6, 42: 6, 11: 5, 25: 5, 45: 5, 41: 4, 35: 4, 39: 4, 33: 4, 27: 4, 38: 4, 37: 4, 7: 3, 12: 3, 20: 3, 29: 3, 36: 3, 44: 3, 14: 3, 46: 3, 48: 3, 16: 3, 40: 3, 17: 3, 15: 3, 32: 2, 23: 2, 52: 2, 49: 2, 28: 2, 43: 2, 22: 2, 31: 2, 26: 2, 50: 1, 30: 1, 21: 1, 59: 1, 53: 1, 47: 1, 24: 1})\n"
     ]
    },
    {
     "data": {
      "image/png": "[encoded data removed]",
      "text/plain": [
       "<Figure size 432x288 with 1 Axes>"
      ]
     },
     "metadata": {
      "needs_background": "light"
     },
     "output_type": "display_data"
    }
   ],
   "source": [
    "plot_deg_frequency(G, weighted=False)\n",
    "#da ima veci broj cvorova?"
   ]
  },
  {
   "cell_type": "code",
   "execution_count": 142,
   "metadata": {},
   "outputs": [],
   "source": [
    "def plot_deg_distribution(G, weighted=False, xscale = \"log\", yscale = \"log\"):\n",
    "\n",
    "    if weighted:\n",
    "        degrees = G.degree(weight=\"weight\")\n",
    "    else:\n",
    "        degrees = G.degree()\n",
    "    _, deg_list = zip(*degrees)    #unzip\n",
    "    deg_counts = Counter(deg_list) #prebrojava, 1, 2, ..        \n",
    "    print(deg_counts)\n",
    "    degree, frequency = zip(*deg_counts.items())                                                      \n",
    "\n",
    "    fig = plt.figure(1)\n",
    "    plt.ylabel('degree')\n",
    "    plt.ylabel('Broj cvorova')\n",
    "    ax = fig.add_axes([0,0,1,1])\n",
    "    ax.bar(degree,frequency)\n",
    "    plt.show()"
   ]
  },
  {
   "cell_type": "code",
   "execution_count": 143,
   "metadata": {},
   "outputs": [
    {
     "name": "stdout",
     "output_type": "stream",
     "text": [
      "Counter({1: 63, 2: 28, 4: 14, 3: 13, 5: 11, 9: 9, 8: 7, 6: 7, 19: 7, 34: 7, 13: 6, 10: 6, 42: 6, 11: 5, 25: 5, 45: 5, 41: 4, 35: 4, 39: 4, 33: 4, 27: 4, 38: 4, 37: 4, 7: 3, 12: 3, 20: 3, 29: 3, 36: 3, 44: 3, 14: 3, 46: 3, 48: 3, 16: 3, 40: 3, 17: 3, 15: 3, 32: 2, 23: 2, 52: 2, 49: 2, 28: 2, 43: 2, 22: 2, 31: 2, 26: 2, 50: 1, 30: 1, 21: 1, 59: 1, 53: 1, 47: 1, 24: 1})\n"
     ]
    },
    {
     "data": {
      "image/png": "[encoded data removed]",
      "text/plain": [
       "<Figure size 432x288 with 2 Axes>"
      ]
     },
     "metadata": {
      "needs_background": "light"
     },
     "output_type": "display_data"
    }
   ],
   "source": [
    "plot_deg_distribution(G)\n",
    "#plot_deg_distribution(G, weighted=True)\n",
    "#nije power-low"
   ]
  },
  {
   "cell_type": "code",
   "execution_count": 144,
   "metadata": {},
   "outputs": [],
   "source": [
    "def plot_rank_degree(G, weight=True, xscale = \"log\", yscale = \"log\"):\n",
    "\n",
    "    if (weight):\n",
    "        rank_degree = [(rank,G.degree(weight='weight')[node]) for node,rank in G.nodes(data='rank')]\n",
    "    else:\n",
    "        rank_degree = [(rank,G.degree()[node]) for node,rank in G.nodes(data='rank')]\n",
    "    rank, degree = zip(*rank_degree)                                                      \n",
    "\n",
    "    plt.figure(1)   \n",
    "\n",
    "    # prep axes   \n",
    "    plt.xlabel('rank')                                                                                                             \n",
    "    plt.xscale(xscale)                                                                                                                \n",
    "    plt.xlim(1, max(rank))  \n",
    "\n",
    "    plt.ylabel('degree')                                                                                                          \n",
    "    plt.yscale(yscale)                                                                                                                \n",
    "    plt.ylim(1, max(degree))                                                                                                             \n",
    "                                                                                                                                                                                                    \n",
    "    plt.scatter(rank, degree, marker='.')                                                                                                    \n",
    "    plt.show()"
   ]
  },
  {
   "cell_type": "code",
   "execution_count": 145,
   "metadata": {
    "scrolled": true
   },
   "outputs": [
    {
     "data": {
      "image/png": "[encoded data removed]",
      "text/plain": [
       "<Figure size 432x288 with 1 Axes>"
      ]
     },
     "metadata": {
      "needs_background": "light"
     },
     "output_type": "display_data"
    }
   ],
   "source": [
    "plot_rank_degree(G)"
   ]
  },
  {
   "cell_type": "markdown",
   "metadata": {},
   "source": [
    "# 18. Da li u mreži postoje habovi i koji su? "
   ]
  },
  {
   "cell_type": "code",
   "execution_count": 146,
   "metadata": {},
   "outputs": [
    {
     "data": {
      "text/plain": [
       "[((100644, 'Alexander Zverev', 4.038461538461538, 'GER'), 0.01688198134547859),\n",
       " ((104925, 'Novak Djokovic', 10.173076923076923, 'SRB'), 0.016479388053584846),\n",
       " ((104731, 'Kevin Anderson', 7.788461538461538, 'RSA'), 0.01638826927703048),\n",
       " ((126774, 'Stefanos Tsitsipas', 41.19230769230769, 'GRE'),\n",
       "  0.016161277657248112),\n",
       " ((106233, 'Dominic Thiem', 7.230769230769231, 'AUT'), 0.01612370077502221),\n",
       " ((105453, 'Kei Nishikori', 20.615384615384617, 'JPN'), 0.01567226741694381),\n",
       " ((105223, 'Juan Martin Del Potro', 5.673076923076923, 'ARG'),\n",
       "  0.014293717388618721),\n",
       " ((106421, 'Daniil Medvedev', 44.73076923076923, 'RUS'), 0.014135071772241109),\n",
       " ((111575, 'Karen Khachanov', 32.42307692307692, 'RUS'), 0.013937750086970352),\n",
       " ((103819, 'Roger Federer', 2.0576923076923075, 'SUI'), 0.013812574420222946)]"
      ]
     },
     "execution_count": 146,
     "metadata": {},
     "output_type": "execute_result"
    }
   ],
   "source": [
    "hubs,authorities = nx.hits(G)\n",
    "\n",
    "high_hubs_players = [(get_player_info(node), h) for node,h in sorted(hubs.items(), key=lambda element: (element[1]),reverse=True)][:10]\n",
    "\n",
    "high_hubs_players\n",
    "\n",
    "#moze i eigen_vector"
   ]
  },
  {
   "cell_type": "markdown",
   "metadata": {},
   "source": [
    "# 19. Da li mreža tenisera iskazuje osobine malog sveta?\n",
    "A small world network is characterized by a small average shortest path length, and a large clustering coefficient.\n",
    "\n",
    "Small-worldness is commonly measured with the coefficient sigma or omega.\n",
    "\n",
    "Both coefficients compare the average clustering coefficient and shortest path length of a given graph against the same quantities for an equivalent random or lattice graph."
   ]
  },
  {
   "cell_type": "code",
   "execution_count": 147,
   "metadata": {},
   "outputs": [],
   "source": [
    "# #sigma>1\n",
    "#sigma = nx.sigma(G)\n",
    "\n",
    "# #~0\n",
    "# omega = nx.omega(G)"
   ]
  },
  {
   "cell_type": "markdown",
   "metadata": {},
   "source": [
    "# 20. Kakve su karakteristike ego mreža članova Velike trojke? U kojoj meri se te karakteristike razlikuju?"
   ]
  },
  {
   "cell_type": "code",
   "execution_count": 148,
   "metadata": {},
   "outputs": [],
   "source": [
    "def get_average_ranks(G):\n",
    "    ranks = [rank for node,rank in G.nodes(data='rank')]\n",
    "    return sum(ranks)/len(ranks)"
   ]
  },
  {
   "cell_type": "code",
   "execution_count": 149,
   "metadata": {},
   "outputs": [
    {
     "name": "stdout",
     "output_type": "stream",
     "text": [
      "Novakova ego mreza : Name: \n",
      "Type: Graph\n",
      "Number of nodes: 43\n",
      "Number of edges: 320\n",
      "Average degree:  14.8837\n",
      "Prosecan tezinski stepen : 20.6046511627907\n",
      "Gustina mreze : 0.35437430786268\n",
      "Prosecan rank tenisera mreze : 49.48345259391771\n",
      "Degree centrality : [1.0]\n",
      "Eigenvector centrality : [0.33240066330643975]\n",
      "\n",
      "\n",
      "Nadalova ego mreza : Name: \n",
      "Type: Graph\n",
      "Number of nodes: 35\n",
      "Number of edges: 214\n",
      "Average degree:  12.2286\n",
      "Prosecan tezinski stepen : 16.34285714285714\n",
      "Gustina mreze : 0.3596638655462185\n",
      "Prosecan rank tenisera mreze : 54.753846153846155\n",
      "Degree centrality : [1.0]\n",
      "Eigenvector centrality : [0.3499083477074309]\n",
      "\n",
      "\n",
      "Federerova ego mreza : Name: \n",
      "Type: Graph\n",
      "Number of nodes: 45\n",
      "Number of edges: 349\n",
      "Average degree:  15.5111\n",
      "Prosecan tezinski stepen : 20.31111111111111\n",
      "Gustina mreze : 0.3525252525252525\n",
      "Prosecan rank tenisera mreze : 49.62222222222222\n",
      "Degree centrality : [1.0]\n",
      "Eigenvector centrality : [0.3320769184035492]\n"
     ]
    }
   ],
   "source": [
    "novak_id = get_player_by_name(\"Novak Djokovic\")\n",
    "rafa_id = get_player_by_name(\"Rafael Nadal\")\n",
    "federer_id = get_player_by_name(\"Roger Federer\")\n",
    "\n",
    "novak_ego_graph = nx.ego_graph(G,novak_id)\n",
    "print(f\"Novakova ego mreza : {nx.info(novak_ego_graph)}\")\n",
    "print(f\"Prosecan tezinski stepen : {get_average_weighted_degree(novak_ego_graph)}\")\n",
    "print(f\"Gustina mreze : {nx.density(novak_ego_graph)}\")\n",
    "print(f\"Prosecan rank tenisera mreze : {get_average_ranks(novak_ego_graph)}\")\n",
    "novak_degree_centrality = [centrality for node, centrality in nx.degree_centrality(novak_ego_graph).items() if node==novak_id]\n",
    "novak_eigenvector_centrality = [centrality for node, centrality in nx.eigenvector_centrality(novak_ego_graph).items() if node==novak_id]\n",
    "print(f\"Degree centrality : {novak_degree_centrality}\")\n",
    "print(f\"Eigenvector centrality : {novak_eigenvector_centrality}\")\n",
    "print(\"\\n\")\n",
    "\n",
    "rafa_ego_graph = nx.ego_graph(G,rafa_id)\n",
    "print(f\"Nadalova ego mreza : {nx.info(rafa_ego_graph)}\")\n",
    "print(f\"Prosecan tezinski stepen : {get_average_weighted_degree(rafa_ego_graph)}\")\n",
    "print(f\"Gustina mreze : {nx.density(rafa_ego_graph)}\")\n",
    "print(f\"Prosecan rank tenisera mreze : {get_average_ranks(rafa_ego_graph)}\")\n",
    "rafa_degree_centrality = [centrality for node, centrality in nx.degree_centrality(rafa_ego_graph).items() if node==rafa_id]\n",
    "rafa_eigenvector_centrality = [centrality for node, centrality in nx.eigenvector_centrality(rafa_ego_graph).items() if node==rafa_id]\n",
    "print(f\"Degree centrality : {rafa_degree_centrality}\")\n",
    "print(f\"Eigenvector centrality : {rafa_eigenvector_centrality}\")\n",
    "print(\"\\n\")\n",
    "\n",
    "federer_ego_graph = nx.ego_graph(G,federer_id)\n",
    "print(f\"Federerova ego mreza : {nx.info(federer_ego_graph)}\")\n",
    "print(f\"Prosecan tezinski stepen : {get_average_weighted_degree(federer_ego_graph)}\")\n",
    "print(f\"Gustina mreze : {nx.density(federer_ego_graph)}\")\n",
    "print(f\"Prosecan rank tenisera mreze : {get_average_ranks(federer_ego_graph)}\")\n",
    "federer_degree_centrality = [centrality for node, centrality in nx.degree_centrality(federer_ego_graph).items() if node==federer_id]\n",
    "federer_eigenvector_centrality = [centrality for node, centrality in nx.eigenvector_centrality(federer_ego_graph).items() if node==federer_id]\n",
    "print(f\"Degree centrality : {federer_degree_centrality}\")\n",
    "print(f\"Eigenvector centrality : {federer_eigenvector_centrality}\")"
   ]
  },
  {
   "cell_type": "code",
   "execution_count": 150,
   "metadata": {},
   "outputs": [
    {
     "name": "stdout",
     "output_type": "stream",
     "text": [
      "Novak i Rafa: 16\n",
      " [(104925, 'Novak Djokovic', 10.173076923076923, 'SRB'), (100644, 'Alexander Zverev', 4.038461538461538, 'GER'), (105223, 'Juan Martin Del Potro', 5.673076923076923, 'ARG'), (104745, 'Rafael Nadal', 1.3076923076923077, 'ESP'), (105227, 'Marin Cilic', 5.326923076923077, 'CRO'), (105932, 'Nikoloz Basilashvili', 55.07692307692308, 'GEO'), (105453, 'Kei Nishikori', 20.615384615384617, 'JPN'), (106000, 'Damir Dzumhur', 33.11538461538461, 'BIH'), (105777, 'Grigor Dimitrov', 7.653846153846154, 'BUL'), (104755, 'Richard Gasquet', 29.596153846153847, 'FRA'), (105332, 'Benoit Paire', 50.53846153846154, 'FRA'), (126774, 'Stefanos Tsitsipas', 41.19230769230769, 'GRE'), (111575, 'Karen Khachanov', 32.42307692307692, 'RUS'), (104792, 'Gael Monfils', 38.07692307692308, 'FRA'), (106233, 'Dominic Thiem', 7.230769230769231, 'AUT'), (105373, 'Martin Klizan', 99.90384615384616, 'SVK')]\n",
      "\n",
      "\n",
      "Novak i Federer: 20\n",
      " [(105223, 'Juan Martin Del Potro', 5.673076923076923, 'ARG'), (105227, 'Marin Cilic', 5.326923076923077, 'CRO'), (103819, 'Roger Federer', 2.0576923076923075, 'SUI'), (105357, 'John Millman', 65.8076923076923, 'AUS'), (104731, 'Kevin Anderson', 7.788461538461538, 'RSA'), (100644, 'Alexander Zverev', 4.038461538461538, 'GER'), (104871, 'Jeremy Chardy', 63.38461538461539, 'FRA'), (105777, 'Grigor Dimitrov', 7.653846153846154, 'BUL'), (105138, 'Roberto Bautista Agut', 19.73076923076923, 'ESP'), (104755, 'Richard Gasquet', 29.596153846153847, 'FRA'), (105916, 'Marton Fucsovics', 52.05769230769231, 'HUN'), (106432, 'Borna Coric', 28.46153846153846, 'CRO'), (105683, 'Milos Raonic', 25.21153846153846, 'CAN'), (105173, 'Adrian Mannarino', 30.48076923076923, 'FRA'), (104925, 'Novak Djokovic', 10.173076923076923, 'SRB'), (111202, 'Hyeon Chung', 26.28846153846154, 'KOR'), (105453, 'Kei Nishikori', 20.615384615384617, 'JPN'), (105583, 'Dusan Lajovic', 68.0, 'SRB'), (105332, 'Benoit Paire', 50.53846153846154, 'FRA'), (106233, 'Dominic Thiem', 7.230769230769231, 'AUT')]\n",
      "\n",
      "\n",
      "Federer i Rafa: 15\n",
      " [(105379, 'Aljaz Bedene', 64.09615384615384, 'SLO'), (100644, 'Alexander Zverev', 4.038461538461538, 'GER'), (105223, 'Juan Martin Del Potro', 5.673076923076923, 'ARG'), (105227, 'Marin Cilic', 5.326923076923077, 'CRO'), (105676, 'David Goffin', 11.326923076923077, 'BEL'), (105453, 'Kei Nishikori', 20.615384615384617, 'JPN'), (105550, 'Guido Pella', 64.32692307692308, 'ARG'), (104527, 'Stanislas Wawrinka', 76.57692307692308, 'SUI'), (105777, 'Grigor Dimitrov', 7.653846153846154, 'BUL'), (104755, 'Richard Gasquet', 29.596153846153847, 'FRA'), (105332, 'Benoit Paire', 50.53846153846154, 'FRA'), (104919, 'Leonardo Mayer', 47.94230769230769, 'ARG'), (106233, 'Dominic Thiem', 7.230769230769231, 'AUT'), (104925, 'Novak Djokovic', 10.173076923076923, 'SRB'), (104926, 'Fabio Fognini', 16.98076923076923, 'ITA')]\n"
     ]
    }
   ],
   "source": [
    "novak_nodes = set(novak_ego_graph.nodes())\n",
    "rafa_nodes = set(rafa_ego_graph.nodes())\n",
    "federer_nodes = set(federer_ego_graph.nodes())\n",
    "\n",
    "novak_rafa_node = novak_nodes.intersection(rafa_nodes)\n",
    "novak_federer_node = novak_nodes.intersection(federer_nodes)\n",
    "rafa_federer_node = rafa_nodes.intersection(federer_nodes)\n",
    "\n",
    "print(f\"Novak i Rafa: {len(novak_rafa_node)}\")\n",
    "print(f\" {get_players_info(novak_rafa_node)}\")\n",
    "print(\"\\n\")\n",
    "print(f\"Novak i Federer: {len(novak_federer_node)}\")\n",
    "print(f\" {get_players_info(novak_federer_node)}\")\n",
    "print(\"\\n\")\n",
    "print(f\"Federer i Rafa: {len(rafa_federer_node)}\")\n",
    "print(f\" {get_players_info(rafa_federer_node)}\")"
   ]
  },
  {
   "cell_type": "markdown",
   "metadata": {},
   "source": [
    "# 21. Kakva je pozicija ego čvora u svakoj od ego mreža? Kako su oni strukturno ugrađeni u mrežu?"
   ]
  },
  {
   "cell_type": "code",
   "execution_count": 151,
   "metadata": {},
   "outputs": [
    {
     "name": "stdout",
     "output_type": "stream",
     "text": [
      "Procenat Novakovih veza = 13.125\n",
      "Procenat Nadalovih veza = 15.88785046728972\n",
      "Procenat Federerovih veza = 13.75\n"
     ]
    }
   ],
   "source": [
    "novak_edges = [edge for edge in novak_ego_graph.edges(nbunch=novak_id)]\n",
    "edges = novak_ego_graph.edges()\n",
    "\n",
    "print(f\"Procenat Novakovih veza = {len(novak_edges)*100/len(edges)}\")\n",
    "\n",
    "rafa_edges = [edge for edge in rafa_ego_graph.edges(nbunch=rafa_id)]\n",
    "edges = rafa_ego_graph.edges()\n",
    "\n",
    "print(f\"Procenat Nadalovih veza = {len(rafa_edges)*100/len(edges)}\")\n",
    "\n",
    "federer_edges = [edge for edge in federer_ego_graph.edges(nbunch=federer_id)]\n",
    "edges = novak_ego_graph.edges()\n",
    "\n",
    "print(f\"Procenat Federerovih veza = {len(federer_edges)*100/len(edges)}\")"
   ]
  },
  {
   "cell_type": "markdown",
   "metadata": {},
   "source": [
    "# 22. Kako su posmatrane ego mreže ugrađene u mrežu tenisera?"
   ]
  },
  {
   "cell_type": "code",
   "execution_count": 152,
   "metadata": {},
   "outputs": [
    {
     "name": "stdout",
     "output_type": "stream",
     "text": [
      "Procenat Novakovih veza u ego i obicnoj mrezi = 14.090708938793483\n",
      "Procenat Novakovih suparnika u obicnoj mrezi = 14.776632302405499\n"
     ]
    }
   ],
   "source": [
    "novak_ego_edges = [edge for edge in novak_ego_graph.edges()]\n",
    "edges = [edge for edge in G.edges()]\n",
    "\n",
    "print(f\"Procenat Novakovih veza u ego i obicnoj mrezi = {len(novak_ego_edges)*100/len(edges)}\")\n",
    "print(f\"Procenat Novakovih suparnika u obicnoj mrezi = {len(novak_nodes)*100/len(G.nodes())}\")"
   ]
  },
  {
   "cell_type": "code",
   "execution_count": 153,
   "metadata": {},
   "outputs": [
    {
     "name": "stdout",
     "output_type": "stream",
     "text": [
      "Procenat Nadalovih veza u ego i obicnoj mrezi = 9.423161602818142\n",
      "Procenat Nadalovih suparnika u obicnoj mrezi = 12.027491408934708\n"
     ]
    }
   ],
   "source": [
    "rafa_ego_edges = [edge for edge in rafa_ego_graph.edges()]\n",
    "edges = [edge for edge in G.edges()]\n",
    "\n",
    "print(f\"Procenat Nadalovih veza u ego i obicnoj mrezi = {len(rafa_ego_edges)*100/len(edges)}\")\n",
    "print(f\"Procenat Nadalovih suparnika u obicnoj mrezi = {len(rafa_nodes)*100/len(G.nodes())}\")"
   ]
  },
  {
   "cell_type": "code",
   "execution_count": 154,
   "metadata": {},
   "outputs": [
    {
     "name": "stdout",
     "output_type": "stream",
     "text": [
      "Procenat Federerovih veza u ego i obicnoj mrezi = 15.367679436371642\n",
      "Procenat Federerovih suparnika u obicnoj mrezi = 15.463917525773196\n"
     ]
    }
   ],
   "source": [
    "federer_ego_edges = [edge for edge in federer_ego_graph.edges()]\n",
    "edges = [edge for edge in G.edges()]\n",
    "\n",
    "print(f\"Procenat Federerovih veza u ego i obicnoj mrezi = {len(federer_ego_edges)*100/len(edges)}\")\n",
    "print(f\"Procenat Federerovih suparnika u obicnoj mrezi = {len(federer_nodes)*100/len(G.nodes())}\")"
   ]
  },
  {
   "cell_type": "markdown",
   "metadata": {},
   "source": [
    "# 23. Analizirati mrežu dobijenu unifikacijom ego mreža članova Velike trojke.\n",
    "## Koji procenat čvorova mreže svih tenisera učestvuje u njoj?\n",
    "## Sprovesti klasterisanje ovako dobijene mreže na tri klastera i na osnovu dobijenih rezultata dati interpretaciju kriterijuma pripadnosti klasterima.\n"
   ]
  },
  {
   "cell_type": "code",
   "execution_count": 155,
   "metadata": {},
   "outputs": [
    {
     "name": "stdout",
     "output_type": "stream",
     "text": [
      "Unificirana mreza : Name: \n",
      "Type: Graph\n",
      "Number of nodes: 81\n",
      "Number of edges: 673\n",
      "Average degree:  16.6173\n",
      "Prosecan tezinski stepen : 21.555555555555557\n",
      "Gustina mreze : 0.20771604938271604\n",
      "Prosecan rank tenisera mreze : 62.02302943969611\n"
     ]
    }
   ],
   "source": [
    "all_edges = set(novak_ego_edges).union(set(rafa_ego_edges)).union(set(federer_ego_edges))\n",
    "\n",
    "u = G.edge_subgraph(all_edges)\n",
    "print(f\"Unificirana mreza : {nx.info(u)}\")\n",
    "print(f\"Prosecan tezinski stepen : {get_average_weighted_degree(u)}\")\n",
    "print(f\"Gustina mreze : {nx.density(u)}\")\n",
    "print(f\"Prosecan rank tenisera mreze : {get_average_ranks(u)}\")"
   ]
  },
  {
   "cell_type": "code",
   "execution_count": 156,
   "metadata": {},
   "outputs": [
    {
     "name": "stdout",
     "output_type": "stream",
     "text": [
      "Procenat cvorova u unificirano mrezi = 27.835051546391753\n"
     ]
    }
   ],
   "source": [
    "print(f\"Procenat cvorova u unificirano mrezi = {len(u.nodes())*100/len(G.nodes())}\")"
   ]
  },
  {
   "cell_type": "code",
   "execution_count": 157,
   "metadata": {},
   "outputs": [],
   "source": [
    "data = u.nodes()\n",
    "edge_mat = nx.to_numpy_matrix(u,nodelist=data,weight='weight')\n",
    "\n",
    "kmeans = cluster.KMeans(n_clusters=3, n_init=200)\n",
    "\n",
    "kmeans = kmeans.fit(edge_mat)\n",
    "\n",
    "#initialize dict\n",
    "clusters = {}\n",
    "for index in range(0,3): \n",
    "    nodes = []    \n",
    "    clusters[index] = nodes\n",
    "    \n",
    "for cluster_info in zip(data,kmeans.labels_):\n",
    "    clusters[cluster_info[1]].append(cluster_info[0])\n",
    "#clusters"
   ]
  },
  {
   "cell_type": "code",
   "execution_count": 158,
   "metadata": {},
   "outputs": [
    {
     "data": {
      "text/plain": [
       "array([[0, 1],\n",
       "       [0, 3],\n",
       "       [0, 3],\n",
       "       [0, 2],\n",
       "       [0, 1],\n",
       "       [0, 1],\n",
       "       [0, 2],\n",
       "       [0, 1],\n",
       "       [0, 3],\n",
       "       [0, 1],\n",
       "       [0, 2],\n",
       "       [0, 3],\n",
       "       [0, 3],\n",
       "       [0, 1],\n",
       "       [0, 2],\n",
       "       [0, 1],\n",
       "       [0, 1],\n",
       "       [0, 1],\n",
       "       [0, 1],\n",
       "       [0, 1],\n",
       "       [0, 2],\n",
       "       [0, 2],\n",
       "       [0, 1],\n",
       "       [0, 1],\n",
       "       [0, 1],\n",
       "       [0, 1],\n",
       "       [0, 1],\n",
       "       [0, 1],\n",
       "       [0, 2],\n",
       "       [0, 1],\n",
       "       [0, 1],\n",
       "       [0, 1],\n",
       "       [0, 1],\n",
       "       [0, 2],\n",
       "       [0, 1],\n",
       "       [0, 1],\n",
       "       [0, 1],\n",
       "       [0, 1],\n",
       "       [0, 2],\n",
       "       [0, 1],\n",
       "       [0, 3],\n",
       "       [0, 1],\n",
       "       [0, 1],\n",
       "       [0, 1],\n",
       "       [0, 1],\n",
       "       [0, 2],\n",
       "       [0, 2],\n",
       "       [0, 2],\n",
       "       [0, 1],\n",
       "       [0, 1],\n",
       "       [0, 1],\n",
       "       [0, 2],\n",
       "       [0, 1],\n",
       "       [0, 2],\n",
       "       [0, 1],\n",
       "       [0, 1],\n",
       "       [0, 1],\n",
       "       [0, 1],\n",
       "       [0, 1],\n",
       "       [0, 2],\n",
       "       [0, 1],\n",
       "       [0, 1],\n",
       "       [0, 1],\n",
       "       [0, 1],\n",
       "       [0, 2],\n",
       "       [0, 2],\n",
       "       [0, 1],\n",
       "       [0, 2],\n",
       "       [0, 2],\n",
       "       [0, 1],\n",
       "       [0, 1],\n",
       "       [0, 2],\n",
       "       [0, 2],\n",
       "       [0, 2],\n",
       "       [0, 2],\n",
       "       [0, 3],\n",
       "       [0, 2],\n",
       "       [0, 1],\n",
       "       [0, 1],\n",
       "       [0, 3],\n",
       "       [0, 3]])"
      ]
     },
     "execution_count": 158,
     "metadata": {},
     "output_type": "execute_result"
    }
   ],
   "source": [
    "N = len(u.nodes())\n",
    "\n",
    "num_of_ego_graphs = {}\n",
    "for node in u.nodes():\n",
    "    n = 1 if node in novak_ego_graph else 0\n",
    "    r = 1 if node in rafa_ego_graph else 0\n",
    "    f = 1 if node in federer_ego_graph else 0\n",
    "    #num_of_ego_graphs[node] = pow(n+r+f,10)\n",
    "    num_of_ego_graphs[node] = n+r+f\n",
    "    #num_of_ego_graphs[node] = pow(n+r+f,5)\n",
    "\n",
    "#edge_matrix =  np.array([[0 for i in range(N)]] * N )\n",
    "edge_matrix =  np.array([[0 for i in range(2)]] * N )\n",
    "node_index = 0\n",
    "for node in u.nodes():\n",
    "    for neighbor in u.neighbors(node):\n",
    "        neighbor_index = list(u.nodes()).index(neighbor)\n",
    "        edge_matrix[node_index,1] = num_of_ego_graphs[node]\n",
    "        #edge_matrix[node_index,neighbor_index] = abs(num_of_ego_graphs[node] - num_of_ego_graphs[neighbor])\n",
    "        #edge_matrix[node_index,neighbor_index] = 3-abs(num_of_ego_graphs[node] - num_of_ego_graphs[neighbor])\n",
    "        #edge_matrix[node_index,node_index] = num_of_ego_graphs[node]\n",
    "    node_index+=1\n",
    "        \n",
    "edge_matrix"
   ]
  },
  {
   "cell_type": "code",
   "execution_count": 159,
   "metadata": {},
   "outputs": [
    {
     "data": {
      "text/plain": [
       "{0: [105223, 105227, 100644, 105777, 104755, 105332, 104925, 105453, 106233],\n",
       " 1: [104198,\n",
       "  104468,\n",
       "  105238,\n",
       "  103970,\n",
       "  104999,\n",
       "  105526,\n",
       "  133430,\n",
       "  106043,\n",
       "  106045,\n",
       "  104259,\n",
       "  104269,\n",
       "  105806,\n",
       "  106065,\n",
       "  105041,\n",
       "  144719,\n",
       "  104534,\n",
       "  105815,\n",
       "  200282,\n",
       "  105051,\n",
       "  105311,\n",
       "  104545,\n",
       "  104547,\n",
       "  105062,\n",
       "  105577,\n",
       "  104297,\n",
       "  105074,\n",
       "  105077,\n",
       "  104312,\n",
       "  106121,\n",
       "  106378,\n",
       "  104607,\n",
       "  105376,\n",
       "  106401,\n",
       "  106148,\n",
       "  105385,\n",
       "  109739,\n",
       "  104620,\n",
       "  105643,\n",
       "  106415,\n",
       "  106421,\n",
       "  103607,\n",
       "  106423,\n",
       "  105657,\n",
       "  104898,\n",
       "  105166,\n",
       "  105936,\n",
       "  106210,\n",
       "  105449],\n",
       " 2: [106000,\n",
       "  104731,\n",
       "  104745,\n",
       "  126774,\n",
       "  105550,\n",
       "  104527,\n",
       "  104792,\n",
       "  111202,\n",
       "  105583,\n",
       "  103819,\n",
       "  105357,\n",
       "  105373,\n",
       "  105379,\n",
       "  104871,\n",
       "  105138,\n",
       "  105916,\n",
       "  106432,\n",
       "  105676,\n",
       "  105932,\n",
       "  105683,\n",
       "  105173,\n",
       "  104919,\n",
       "  111575,\n",
       "  104926]}"
      ]
     },
     "execution_count": 159,
     "metadata": {},
     "output_type": "execute_result"
    }
   ],
   "source": [
    "kmeans = cluster.KMeans(n_clusters=3, n_init=200)\n",
    "\n",
    "kmeans = kmeans.fit(edge_matrix)\n",
    "\n",
    "#initialize dict\n",
    "big_three_clusters = {}\n",
    "for index in range(0,3): \n",
    "    nodes = []    \n",
    "    big_three_clusters[index] = nodes\n",
    "    \n",
    "for cluster_info in zip(data,kmeans.labels_):\n",
    "    big_three_clusters[cluster_info[1]].append(cluster_info[0])\n",
    "big_three_clusters"
   ]
  },
  {
   "cell_type": "code",
   "execution_count": 160,
   "metadata": {},
   "outputs": [],
   "source": [
    "def get_players_cluster(id):\n",
    "    for cluster_index in range(0,3):\n",
    "        if id in clusters[cluster_index]:\n",
    "            return cluster_index"
   ]
  },
  {
   "cell_type": "code",
   "execution_count": 161,
   "metadata": {},
   "outputs": [
    {
     "data": {
      "text/plain": [
       "1"
      ]
     },
     "execution_count": 161,
     "metadata": {},
     "output_type": "execute_result"
    }
   ],
   "source": [
    "get_players_cluster(novak_id)"
   ]
  },
  {
   "cell_type": "code",
   "execution_count": 162,
   "metadata": {},
   "outputs": [
    {
     "data": {
      "text/plain": [
       "1"
      ]
     },
     "execution_count": 162,
     "metadata": {},
     "output_type": "execute_result"
    }
   ],
   "source": [
    "get_players_cluster(rafa_id)"
   ]
  },
  {
   "cell_type": "code",
   "execution_count": 163,
   "metadata": {},
   "outputs": [
    {
     "data": {
      "text/plain": [
       "0"
      ]
     },
     "execution_count": 163,
     "metadata": {},
     "output_type": "execute_result"
    }
   ],
   "source": [
    "get_players_cluster(federer_id)"
   ]
  },
  {
   "cell_type": "markdown",
   "metadata": {},
   "source": [
    "# 24. Kakva je distribucija broja tenisera u odnosu na broj mečeva koji su odigrali?"
   ]
  },
  {
   "cell_type": "code",
   "execution_count": 164,
   "metadata": {},
   "outputs": [
    {
     "name": "stdout",
     "output_type": "stream",
     "text": [
      "Counter({1: 63, 2: 26, 4: 14, 3: 14, 5: 11, 6: 8, 8: 7, 9: 7, 11: 6, 10: 6, 14: 5, 13: 5, 54: 5, 46: 5, 43: 5, 27: 5, 47: 4, 45: 4, 42: 4, 19: 4, 16: 4, 30: 4, 35: 3, 22: 3, 33: 3, 49: 3, 52: 3, 48: 3, 31: 3, 25: 3, 15: 3, 20: 3, 57: 2, 24: 2, 29: 2, 41: 2, 7: 2, 73: 2, 36: 2, 59: 2, 55: 2, 66: 2, 12: 2, 38: 2, 51: 2, 61: 2, 64: 2, 34: 1, 23: 1, 67: 1, 60: 1, 50: 1, 21: 1, 65: 1, 40: 1, 18: 1, 28: 1, 71: 1, 39: 1, 17: 1, 58: 1, 37: 1})\n"
     ]
    },
    {
     "data": {
      "image/png": "[encoded data removed]",
      "text/plain": [
       "<Figure size 432x288 with 1 Axes>"
      ]
     },
     "metadata": {
      "needs_background": "light"
     },
     "output_type": "display_data"
    }
   ],
   "source": [
    "plot_deg_frequency(G, weighted = True)"
   ]
  },
  {
   "cell_type": "markdown",
   "metadata": {},
   "source": [
    "# 25. Kakva je distribucija broja turnira u odnosu na podlogu i godinu održavanja?"
   ]
  },
  {
   "cell_type": "code",
   "execution_count": 165,
   "metadata": {},
   "outputs": [],
   "source": [
    "def plot_tourney_per_surface_frequency(G, xscale = \"linear\", yscale = \"linear\"):\n",
    "\n",
    "    surfaces = [surface for node,surface in G.nodes(data='surface')]\n",
    "    surfaces_counts = Counter(surfaces) #prebrojava, 1, 2, ..        \n",
    "    surfaces_counts = (sorted(surfaces_counts.items(), key=lambda element: (element[1]),reverse=True))\n",
    "    print(surfaces_counts)\n",
    "    surface, num_of_tourneys = zip(*surfaces_counts)                                                      \n",
    "\n",
    "    fig = plt.figure(1)   \n",
    "    plt.ylabel('Број турнира')\n",
    "    ax = fig.add_axes([0,0,1,1])\n",
    "    ax.bar(surface,num_of_tourneys)\n",
    "    plt.show()"
   ]
  },
  {
   "cell_type": "code",
   "execution_count": 166,
   "metadata": {},
   "outputs": [
    {
     "name": "stdout",
     "output_type": "stream",
     "text": [
      "[('Hard', 38), ('Clay', 22), ('Grass', 8)]\n"
     ]
    },
    {
     "data": {
      "image/png": "[encoded data removed]",
      "text/plain": [
       "<Figure size 432x288 with 2 Axes>"
      ]
     },
     "metadata": {
      "needs_background": "light"
     },
     "output_type": "display_data"
    }
   ],
   "source": [
    "tourney_sub_graph = tourney_graph.subgraph(tourney_nodes)\n",
    "\n",
    "plot_tourney_per_surface_frequency(tourney_sub_graph)"
   ]
  },
  {
   "cell_type": "markdown",
   "metadata": {},
   "source": [
    "# 26. Kakva je distribucija broja mečeva u odnosu na podlogu i godinu održavanja?"
   ]
  },
  {
   "cell_type": "code",
   "execution_count": 167,
   "metadata": {},
   "outputs": [],
   "source": [
    "def plot_matches_per_surface_frequency(G, xscale = \"linear\", yscale = \"linear\"):\n",
    "\n",
    "    data = [(surface,int((tourney_graph.degree(node,weight=\"weight\"))/2)) for node,surface in tourney_graph.nodes(data='surface') if  node in tourney_names]\n",
    "\n",
    "    dictionary = dict()\n",
    "    for (surface, val) in data: \n",
    "        dictionary[surface] = dictionary.get(surface, 0) + val  # return the value for that key or return default 0 (and create key)\n",
    "    surface=list(dictionary.keys())\n",
    "    num_of_matches=list(dictionary.values())\n",
    "    print(dictionary)\n",
    "\n",
    "    fig = plt.figure(1)   \n",
    "  \n",
    "    ax = fig.add_axes([0,0,1,1])\n",
    "    ax.bar(surface,num_of_matches)\n",
    "    plt.show()"
   ]
  },
  {
   "cell_type": "code",
   "execution_count": 168,
   "metadata": {},
   "outputs": [
    {
     "name": "stdout",
     "output_type": "stream",
     "text": [
      "{'Hard': 1519, 'Clay': 810, 'Grass': 324}\n"
     ]
    },
    {
     "data": {
      "image/png": "[encoded data removed]",
      "text/plain": [
       "<Figure size 432x288 with 1 Axes>"
      ]
     },
     "metadata": {
      "needs_background": "light"
     },
     "output_type": "display_data"
    }
   ],
   "source": [
    "plot_matches_per_surface_frequency(tourney_graph)\n",
    "\n",
    "#u proseku na svakom turniru po 40 meceva"
   ]
  },
  {
   "cell_type": "markdown",
   "metadata": {},
   "source": [
    "# Cuvanje grafa"
   ]
  },
  {
   "cell_type": "code",
   "execution_count": 169,
   "metadata": {},
   "outputs": [],
   "source": [
    "nx.write_gexf(G,output_gz_path)"
   ]
  },
  {
   "cell_type": "markdown",
   "metadata": {},
   "source": [
    "# Vizuelizacija"
   ]
  },
  {
   "cell_type": "code",
   "execution_count": 170,
   "metadata": {},
   "outputs": [],
   "source": [
    "def get_gephi_rank_group(rank):\n",
    "    if rank<10:\n",
    "        return 'group10'\n",
    "    if rank<20:\n",
    "        return 'group20'\n",
    "    if rank<50:\n",
    "        return 'group50'\n",
    "    if rank<100:\n",
    "        return 'group100'\n",
    "    if rank<250:\n",
    "        return 'group250'\n",
    "    if rank<500:\n",
    "        return 'group500'\n",
    "    if rank<2000:\n",
    "        return 'group2000'\n",
    "    return 'group2000'\n",
    "\n",
    "def add_gephi_rank_group_attribute(G):\n",
    "    for player in G.nodes:\n",
    "        G.nodes[player]['rank_group']=get_gephi_rank_group(G.nodes[player]['rank'])\n",
    "        \n",
    "def reverse_rank(G):\n",
    "    for player in G.nodes:\n",
    "        rank = G.nodes[player]['rank']\n",
    "        G.nodes[player]['rank']=-rank if not np.isnan(rank) else -float(2000)\n",
    "\n",
    "def set_ego_node_attribute(G,ego_nodes,ego_type):  \n",
    "    for player in G.nodes:\n",
    "        G.nodes[player]['node_type']=ego_type if player in ego_nodes else 'not_ego_node'\n",
    "        \n",
    "def set_ego_edge_attribute(G,ego_edges,ego_type):         \n",
    "    for (source,target) in G.edges:\n",
    "        G.edges[source,target]['edge_type']=ego_type if (((source,target) in ego_edges) | ((target,source) in ego_edges)) else 'not_ego_edge'          \n",
    "        \n",
    "def set_ego_attribute(G,ego_nodes,ego_edges,ego_type):  \n",
    "    set_ego_node_attribute(G,ego_nodes,ego_type)\n",
    "    set_ego_edge_attribute(G,ego_edges,ego_type)\n",
    "\n",
    "def set_community_attribute(G):\n",
    "    for key, values in communities_info.items():\n",
    "        for value in values:\n",
    "            G.nodes[value[0]]['community'] = key\n",
    "\n",
    "def set_cluster_attribute(G):\n",
    "    for key, values in clusters.items():\n",
    "        for value in values:\n",
    "            G.nodes[value]['cluster'] = key\n",
    "    # hocu da mi se u gephi-ju prikazuje label samo za ovu trojicu pa cu to ovako da uradim\n",
    "    for player in G.nodes():\n",
    "        G.nodes[player]['help_label'] = G.nodes[player]['player_name'] if G.nodes[player]['player_name'] in ['Novak Djokovic', 'Rafael Nadal', 'Roger Federer'] else ''\n",
    "        \n",
    "def set_big_three_clusters_attribute(G):\n",
    "    for key, values in big_three_clusters.items():\n",
    "        for value in values:\n",
    "            G.nodes[value]['big_three_clusters'] = key\n",
    "    # hocu da mi se u gephi-ju prikazuje label samo za ovu trojicu pa cu to ovako da uradim\n",
    "    for player in G.nodes():\n",
    "        G.nodes[player]['help_label'] = G.nodes[player]['player_name'] if G.nodes[player]['player_name'] in ['Novak Djokovic', 'Rafael Nadal', 'Roger Federer'] else ''\n",
    "        "
   ]
  },
  {
   "cell_type": "code",
   "execution_count": 171,
   "metadata": {},
   "outputs": [],
   "source": [
    "def relable(G):\n",
    "    values = [name for node,name in G.nodes(data='player_name')]\n",
    "    mapping  = dict(zip(G, values))\n",
    "\n",
    "    return  nx.relabel_nodes(G, mapping)   \n",
    "\n",
    "def arrange_graph(G):\n",
    "    H = copy.deepcopy(G)\n",
    "\n",
    "    add_gephi_rank_group_attribute(H)\n",
    "    \n",
    "    reverse_rank(H)    \n",
    "    return relable(H)\n",
    "\n",
    "def arrange_ego_in_graph(G,nodes,edges,node_type):\n",
    "    H = copy.deepcopy(G)\n",
    "    \n",
    "    set_ego_attribute(H,nodes,edges,node_type)\n",
    "    reverse_rank(H) \n",
    "    return relable(H)\n",
    "\n",
    "def arrange_ego_graph(G,edges,node_type):\n",
    "    H = copy.deepcopy(G)\n",
    "    \n",
    "    set_ego_edge_attribute(H,edges,node_type)\n",
    "    reverse_rank(H) \n",
    "    return relable(H)\n",
    "\n",
    "def arrange_communities(G):\n",
    "    H = copy.deepcopy(G)\n",
    "    \n",
    "    set_community_attribute(H)\n",
    "    add_gephi_rank_group_attribute(H)\n",
    "    reverse_rank(H)\n",
    "    return relable(H)\n",
    "\n",
    "def arrange_clusters(G):\n",
    "    H = copy.deepcopy(G)\n",
    "    \n",
    "    set_cluster_attribute(H)\n",
    "    add_gephi_rank_group_attribute(H)\n",
    "    reverse_rank(H)\n",
    "    return relable(H)\n",
    "\n",
    "def arrange_big_three_clusters(G):\n",
    "    H = copy.deepcopy(G)\n",
    "    \n",
    "    set_big_three_clusters_attribute(H)\n",
    "    add_gephi_rank_group_attribute(H)\n",
    "    reverse_rank(H)\n",
    "    return relable(H)"
   ]
  },
  {
   "cell_type": "code",
   "execution_count": 173,
   "metadata": {},
   "outputs": [],
   "source": [
    "nx.write_gml(arrange_graph(G), output_gml_path)\n",
    "\n",
    "nx.write_gml(arrange_ego_in_graph(G,novak_nodes,novak_ego_edges,'novak'), \"novak_ego_in_2018.gml\")\n",
    "nx.write_gml(arrange_ego_in_graph(G,rafa_nodes,rafa_ego_edges,'rafa'), \"rafa_ego_in_2018.gml\")\n",
    "nx.write_gml(arrange_ego_in_graph(G,federer_nodes,federer_ego_edges,'federer'), \"federer_ego_in_2018.gml\")\n",
    "\n",
    "nx.write_gml(arrange_ego_graph(novak_ego_graph,novak_edges,'novak'), \"novak_ego_graph_2018.gml\")\n",
    "nx.write_gml(arrange_ego_graph(rafa_ego_graph,rafa_edges,'rafa'), \"rafa_ego_graph_2018.gml\")\n",
    "nx.write_gml(arrange_ego_graph(federer_ego_graph,federer_edges,'federer'), \"federer_ego_graph_2018.gml\")\n",
    "\n",
    "nx.write_gml(arrange_communities(G), \"communities_2018.gml\")\n",
    "nx.write_gml(arrange_clusters(u), \"clusters_unified_graph_2018.gml\")\n",
    "\n",
    "#asyn_fluid_clusters\n",
    "#nx.write_gml(arrange_asyn_fluid_clusters(u), \"asyn_fluid_clusters_unified_graph_2018.gml\")\n",
    "\n",
    "nx.write_gml(arrange_big_three_clusters(u), \"big_three_clusters_unified_graph_2018.gml\")"
   ]
  },
  {
   "cell_type": "code",
   "execution_count": null,
   "metadata": {},
   "outputs": [],
   "source": []
  }
 ],
 "metadata": {
  "kernelspec": {
   "display_name": "Python 3",
   "language": "python",
   "name": "python3"
  },
  "language_info": {
   "codemirror_mode": {
    "name": "ipython",
    "version": 3
   },
   "file_extension": ".py",
   "mimetype": "text/x-python",
   "name": "python",
   "nbconvert_exporter": "python",
   "pygments_lexer": "ipython3",
   "version": "3.8.5"
  }
 },
 "nbformat": 4,
 "nbformat_minor": 4
}
