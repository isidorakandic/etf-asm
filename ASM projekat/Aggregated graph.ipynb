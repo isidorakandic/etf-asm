{
 "cells": [
  {
   "cell_type": "code",
   "execution_count": 4,
   "metadata": {},
   "outputs": [],
   "source": [
    "import pandas as pd\n",
    "\n",
    "graph2018_path = \"graph2018.gz\"\n",
    "graph2019_path = \"graph2019.gz\"\n",
    "graph2020_path = \"graph2020.gz\"\n",
    "\n",
    "output_gz_path = \"aggregated_graph.gz\"\n",
    "output_gml_path = \"aggregated_graph.gml\""
   ]
  },
  {
   "cell_type": "code",
   "execution_count": 5,
   "metadata": {},
   "outputs": [],
   "source": [
    "import networkx as nx\n",
    "\n",
    "import collections\n",
    "from collections import Counter\n",
    "\n",
    "import matplotlib\n",
    "from matplotlib import pyplot as plt\n",
    "\n",
    "import math\n",
    "\n",
    "from networkx.algorithms import community as comm\n",
    "import itertools\n",
    "\n",
    "from operator import itemgetter\n",
    "\n",
    "import string\n",
    "\n",
    "import numpy as np\n",
    "\n",
    "from sklearn import cluster\n",
    "\n",
    "import copy"
   ]
  },
  {
   "cell_type": "markdown",
   "metadata": {},
   "source": [
    "# Ucitavanje mreza"
   ]
  },
  {
   "cell_type": "code",
   "execution_count": 6,
   "metadata": {},
   "outputs": [
    {
     "name": "stdout",
     "output_type": "stream",
     "text": [
      "Name: \n",
      "Type: Graph\n",
      "Number of nodes: 291\n",
      "Number of edges: 2271\n",
      "Average degree:  15.6082\n",
      "Name: \n",
      "Type: Graph\n",
      "Number of nodes: 281\n",
      "Number of edges: 2215\n",
      "Average degree:  15.7651\n",
      "Name: \n",
      "Type: Graph\n",
      "Number of nodes: 244\n",
      "Number of edges: 1216\n",
      "Average degree:   9.9672\n"
     ]
    }
   ],
   "source": [
    "G_2018 = nx.read_gexf(graph2018_path)\n",
    "G_2019 = nx.read_gexf(graph2019_path)\n",
    "G_2020 = nx.read_gexf(graph2020_path)\n",
    "\n",
    "print(nx.info(G_2018))\n",
    "print(nx.info(G_2019))\n",
    "print(nx.info(G_2020))"
   ]
  },
  {
   "cell_type": "markdown",
   "metadata": {},
   "source": [
    "# Agregiranje mreza"
   ]
  },
  {
   "cell_type": "code",
   "execution_count": 7,
   "metadata": {},
   "outputs": [
    {
     "name": "stdout",
     "output_type": "stream",
     "text": [
      "Name: \n",
      "Type: Graph\n",
      "Number of nodes: 390\n",
      "Number of edges: 0\n",
      "Average degree:   0.0000\n"
     ]
    }
   ],
   "source": [
    "G = nx.Graph()\n",
    "\n",
    "def add_nodes(G_year):\n",
    "    for node,data in G_year.nodes(data=True):\n",
    "        if (node not in G.nodes()):\n",
    "            G.add_node(node,player_name=data['player_name'], country_code=data['country_code'])\n",
    "            \n",
    "add_nodes(G_2018)   \n",
    "add_nodes(G_2019)   \n",
    "add_nodes(G_2020)  \n",
    "\n",
    "print(nx.info(G))"
   ]
  },
  {
   "cell_type": "markdown",
   "metadata": {},
   "source": [
    "## Racunanje ranka"
   ]
  },
  {
   "cell_type": "code",
   "execution_count": 8,
   "metadata": {},
   "outputs": [],
   "source": [
    "def get_rank_attribute(id):\n",
    "    rank_2018 = rank_2019 = rank_2020 = 0\n",
    "    if id in G_2018.nodes:\n",
    "        rank_2018 = G_2018.nodes[id]['rank'] if not np.isnan(G_2018.nodes[id]['rank']) else 0\n",
    "    if id in G_2019.nodes:\n",
    "        rank_2019 = G_2019.nodes[id]['rank'] if not np.isnan(G_2019.nodes[id]['rank']) else 0\n",
    "    if id in G_2020.nodes:\n",
    "        rank_2020 = G_2020.nodes[id]['rank'] if not np.isnan(G_2020.nodes[id]['rank']) else 0\n",
    "        \n",
    "    num_of_zeros = [rank_2018,rank_2019,rank_2020].count(0)\n",
    "    if num_of_zeros==3:\n",
    "        return float('NaN')\n",
    "    if num_of_zeros>0:\n",
    "        return (rank_2018+rank_2019+rank_2020)/(3-num_of_zeros)\n",
    "    return rank_2018*0.33+rank_2019*0.39+rank_2020*0.28\n",
    "    #return rank_2018*0.28+rank_2019*0.33+rank_2020*0.39"
   ]
  },
  {
   "cell_type": "code",
   "execution_count": 9,
   "metadata": {},
   "outputs": [
    {
     "data": {
      "text/plain": [
       "100"
      ]
     },
     "execution_count": 9,
     "metadata": {},
     "output_type": "execute_result"
    }
   ],
   "source": [
    "33+39+28"
   ]
  },
  {
   "cell_type": "code",
   "execution_count": 10,
   "metadata": {},
   "outputs": [],
   "source": [
    "for node in G.nodes():\n",
    "    G.nodes[node]['rank']=get_rank_attribute(node)"
   ]
  },
  {
   "cell_type": "markdown",
   "metadata": {},
   "source": [
    "## Dodavanje grana"
   ]
  },
  {
   "cell_type": "code",
   "execution_count": 11,
   "metadata": {},
   "outputs": [
    {
     "name": "stdout",
     "output_type": "stream",
     "text": [
      "Name: \n",
      "Type: Graph\n",
      "Number of nodes: 390\n",
      "Number of edges: 4878\n",
      "Average degree:  25.0154\n"
     ]
    }
   ],
   "source": [
    "def add_edges(G_year):\n",
    "    for source,target,w in G_year.edges(data='weight'):\n",
    "        if (source, target) not in G.edges():\n",
    "            G.add_edge(source, target,weight=int(w))\n",
    "        else:\n",
    "            G.edges[source,target]['weight'] += int(w)\n",
    "            \n",
    "add_edges(G_2018)   \n",
    "add_edges(G_2019)   \n",
    "add_edges(G_2020)  \n",
    "\n",
    "print(nx.info(G))"
   ]
  },
  {
   "cell_type": "markdown",
   "metadata": {},
   "source": [
    "# Pomocne metode (uz modelovan graf)"
   ]
  },
  {
   "cell_type": "code",
   "execution_count": 12,
   "metadata": {},
   "outputs": [],
   "source": [
    "def get_player_by_name(player_name):\n",
    "    nodes = [node for node,name in G.nodes(data='player_name') if name==player_name]\n",
    "    player = 0\n",
    "    if len(nodes)>0:\n",
    "        player = nodes[0]\n",
    "    return player\n",
    "\n",
    "def get_players_matches(id):\n",
    "    mask = (cleaned_matches['winner_id']==id) | (cleaned_matches['loser_id']==id)\n",
    "    return matches[mask]"
   ]
  },
  {
   "cell_type": "code",
   "execution_count": 13,
   "metadata": {},
   "outputs": [],
   "source": [
    "def get_nodes_by_attribute(G,attribute, value):\n",
    "    return [n for n,v in G.nodes(data=True) if v[attribute] == value]"
   ]
  },
  {
   "cell_type": "code",
   "execution_count": 14,
   "metadata": {},
   "outputs": [],
   "source": [
    "def get_players_degrees(G,players):\n",
    "    return [(node,name,G.degree(node)) for (node,name) in tourney_graph.nodes(data='player_name') if node in players]"
   ]
  },
  {
   "cell_type": "code",
   "execution_count": 15,
   "metadata": {},
   "outputs": [],
   "source": [
    "def get_player_attribute(G,player,attribute):\n",
    "    return [v[attribute] for n,v in G.nodes(data=True) if  n== player]"
   ]
  },
  {
   "cell_type": "code",
   "execution_count": 16,
   "metadata": {},
   "outputs": [],
   "source": [
    "def get_player_info(id):\n",
    "    return (id,G.nodes[id]['player_name'],G.nodes[id]['rank'],G.nodes[id]['country_code'])\n",
    "    #return tuple([(node,attr['player_name'],attr['rank'],attr['country_code']) for (node,attr) in G.nodes(data=True) if node==id])\n",
    "\n",
    "def get_players_info(players):\n",
    "    infos = []\n",
    "    for player in players:\n",
    "        infos.append(get_player_info(player))\n",
    "    return infos  "
   ]
  },
  {
   "cell_type": "code",
   "execution_count": 17,
   "metadata": {},
   "outputs": [],
   "source": [
    "def get_players_opponents_info(id):\n",
    "    opponents = nx.node_connected_component(G, id)\n",
    "    return get_players_info(opponents)"
   ]
  },
  {
   "cell_type": "code",
   "execution_count": 18,
   "metadata": {},
   "outputs": [],
   "source": [
    "def plot_deg_frequency(G, weighted=False, xscale = \"log\", yscale = \"log\"):\n",
    "\n",
    "    if weighted:\n",
    "        degrees = G.degree(weight=\"weight\")\n",
    "    else:\n",
    "        degrees = G.degree()\n",
    "    _, deg_list = zip(*degrees)    #unzip\n",
    "    deg_counts = Counter(deg_list) #prebrojava, 1, 2, ..        \n",
    "    print(deg_counts)\n",
    "    degree, frequency = zip(*deg_counts.items())                                                      \n",
    "\n",
    "    plt.figure(1)   \n",
    "\n",
    "    # prep axes   \n",
    "    if weighted:\n",
    "        plt.xlabel('weighted degree')  \n",
    "    else:\n",
    "        plt.xlabel('degree')                                                                                                             \n",
    "    plt.xscale(xscale)                                                                                                                \n",
    "    plt.xlim(1, max(degree))  \n",
    "\n",
    "    plt.ylabel('frequency')                                                                                                          \n",
    "    plt.yscale(yscale)                                                                                                                \n",
    "    plt.ylim(1, max(frequency))                                                                                                             \n",
    "                                                                                                                                                                                                    \n",
    "    plt.scatter(degree, frequency, marker='.')                                                                                                    \n",
    "    plt.show()"
   ]
  },
  {
   "cell_type": "markdown",
   "metadata": {},
   "source": [
    "# Istrazivacka pitanja"
   ]
  },
  {
   "cell_type": "markdown",
   "metadata": {},
   "source": [
    "# 1. Koliki je prosečan broj tenisera (saigrača) po svakom teniseru?"
   ]
  },
  {
   "cell_type": "code",
   "execution_count": 19,
   "metadata": {},
   "outputs": [],
   "source": [
    "def get_average_degree(G):\n",
    "    num_of_nodes = G.number_of_nodes()\n",
    "    degree = sum(d for n, d in G.degree()) / float(num_of_nodes)\n",
    "    return degree\n",
    "\n",
    "def get_average_weighted_degree(G):\n",
    "    num_of_nodes = G.number_of_nodes()\n",
    "    degree = sum(d for n, d in G.degree(weight='weight')) / float(num_of_nodes)\n",
    "    return degree  "
   ]
  },
  {
   "cell_type": "code",
   "execution_count": 20,
   "metadata": {},
   "outputs": [
    {
     "name": "stdout",
     "output_type": "stream",
     "text": [
      "Prosecan broj saigraca svakog tenisera: 25.015384615384615\n"
     ]
    }
   ],
   "source": [
    "print(f\"Prosecan broj saigraca svakog tenisera: {get_average_degree(G)}\")   "
   ]
  },
  {
   "cell_type": "code",
   "execution_count": 21,
   "metadata": {
    "scrolled": true
   },
   "outputs": [
    {
     "name": "stdout",
     "output_type": "stream",
     "text": [
      "Prosecan broj meceva svakog tenisera: 33.84615384615385\n"
     ]
    }
   ],
   "source": [
    "print(f\"Prosecan broj meceva svakog tenisera: {get_average_weighted_degree(G)}\")"
   ]
  },
  {
   "cell_type": "markdown",
   "metadata": {},
   "source": [
    "# 2. Koji teniseri su se susretali sa najvećim brojem drugih tenisera? "
   ]
  },
  {
   "cell_type": "code",
   "execution_count": 22,
   "metadata": {
    "scrolled": true
   },
   "outputs": [
    {
     "name": "stdout",
     "output_type": "stream",
     "text": [
      "Max stepen: 99\n",
      "Igraci koji su igrali sa najvise drugih igraca: [('111575', 'Karen Khachanov', 99), ('126774', 'Stefanos Tsitsipas', 97), ('106421', 'Daniil Medvedev', 95), ('100644', 'Alexander Zverev', 93), ('104792', 'Gael Monfils', 93), ('104926', 'Fabio Fognini', 93), ('104468', 'Gilles Simon', 91), ('105138', 'Roberto Bautista Agut', 91), ('133430', 'Denis Shapovalov', 89), ('106233', 'Dominic Thiem', 89)]\n"
     ]
    }
   ],
   "source": [
    "degrees = [G.degree(node) for node in G.nodes()]\n",
    "max_degree = max(degrees)\n",
    "\n",
    "players_degrees = [(node,name,G.degree(node)) for (node,name) in G.nodes(data='player_name')]\n",
    "\n",
    "high_degree_players = (sorted(players_degrees, key=lambda element: (element[2]),reverse=True))[:10]\n",
    "\n",
    "print(f\"Max stepen: {max_degree}\")\n",
    "print(f\"Igraci koji su igrali sa najvise drugih igraca: {high_degree_players}\")"
   ]
  },
  {
   "cell_type": "code",
   "execution_count": 23,
   "metadata": {},
   "outputs": [
    {
     "data": {
      "text/plain": [
       "[('Karen Khachanov', 99),\n",
       " ('Stefanos Tsitsipas', 97),\n",
       " ('Daniil Medvedev', 95),\n",
       " ('Alexander Zverev', 93),\n",
       " ('Gael Monfils', 93),\n",
       " ('Fabio Fognini', 93),\n",
       " ('Gilles Simon', 91),\n",
       " ('Roberto Bautista Agut', 91),\n",
       " ('Denis Shapovalov', 89),\n",
       " ('Dominic Thiem', 89)]"
      ]
     },
     "execution_count": 23,
     "metadata": {},
     "output_type": "execute_result"
    }
   ],
   "source": [
    "[(p[1],(p[2])) for p in high_degree_players]"
   ]
  },
  {
   "cell_type": "code",
   "execution_count": null,
   "metadata": {},
   "outputs": [],
   "source": []
  },
  {
   "cell_type": "markdown",
   "metadata": {},
   "source": [
    "# 3. Koji teniseri su učestvovali na najvećem broju (različitih) turnira?"
   ]
  },
  {
   "cell_type": "code",
   "execution_count": 24,
   "metadata": {},
   "outputs": [],
   "source": [
    "# player_tourney_degrees = [(node,name,tourney_graph.degree(node)) for (node,name) in tourney_graph.nodes(data='player_name') if node in players]\n",
    "\n",
    "# high_tourney_degree_players = (sorted(player_tourney_degrees, key=lambda element: (element[2]),reverse=True))[:10]\n",
    "\n",
    "# print(f\"Igraci koji su ucestvovali na najvecem broju turnira: {high_tourney_degree_players}\")\n",
    "\n",
    "# maybe one day"
   ]
  },
  {
   "cell_type": "markdown",
   "metadata": {},
   "source": [
    "# 4. Koji teniseri su dobri kandidati za predstavnike profesionalnih tenisera? \n",
    "## Da li i šta se menja ukoliko se umesto jednog bira skup od nekoliko predstavnika?\n",
    "### Dobar predstavnik ili predstavnici bi trebalo da budu u kontaktu sa što većim skupom tenisera."
   ]
  },
  {
   "cell_type": "code",
   "execution_count": 25,
   "metadata": {},
   "outputs": [
    {
     "name": "stdout",
     "output_type": "stream",
     "text": [
      "Dobri kandidati za predstavnika profesionalnih tenisera su\n"
     ]
    },
    {
     "data": {
      "text/plain": [
       "[(('111575', 'Karen Khachanov', 19.687709502262443, 'RUS'),\n",
       "  0.25449871465295626),\n",
       " (('126774', 'Stefanos Tsitsipas', 18.37666153846154, 'GRE'),\n",
       "  0.2493573264781491),\n",
       " (('106421', 'Daniil Medvedev', 20.165200904977375, 'RUS'),\n",
       "  0.24421593830334187),\n",
       " (('100644', 'Alexander Zverev', 5.227398190045249, 'GER'),\n",
       "  0.23907455012853468),\n",
       " (('104792', 'Gael Monfils', 21.95124343891403, 'FRA'), 0.23907455012853468),\n",
       " (('104926', 'Fabio Fognini', 14.026312669683257, 'ITA'), 0.23907455012853468),\n",
       " (('104468', 'Gilles Simon', 47.06257737556562, 'FRA'), 0.2339331619537275),\n",
       " (('105138', 'Roberto Bautista Agut', 16.078095022624435, 'ESP'),\n",
       "  0.2339331619537275),\n",
       " (('133430', 'Denis Shapovalov', 25.242005429864253, 'CAN'),\n",
       "  0.2287917737789203),\n",
       " (('106233', 'Dominic Thiem', 5.275989140271493, 'AUT'), 0.2287917737789203)]"
      ]
     },
     "execution_count": 25,
     "metadata": {},
     "output_type": "execute_result"
    }
   ],
   "source": [
    "#Mozda po lokalnoj centralnosti? - Čvor je lokalno centralan ako ima veći broj veza sa svojim okruženjem\n",
    "degree_centralities = [(node, centrality) for node, centrality in nx.degree_centrality(G).items()]\n",
    "\n",
    "max_degree_centralities = sorted(degree_centralities,key=lambda item: item[1], reverse=True)[:10]\n",
    "\n",
    "high_degree_centrality_players = [(get_player_info(player[0]), player[1]) for player in max_degree_centralities]\n",
    "\n",
    "print(f\"Dobri kandidati za predstavnika profesionalnih tenisera su\")\n",
    "high_degree_centrality_players"
   ]
  },
  {
   "cell_type": "code",
   "execution_count": 26,
   "metadata": {
    "scrolled": true
   },
   "outputs": [
    {
     "name": "stdout",
     "output_type": "stream",
     "text": [
      "Dobri kandidati za predstavnika profesionalnih tenisera su\n"
     ]
    },
    {
     "data": {
      "text/plain": [
       "[(('126774', 'Stefanos Tsitsipas', 18.37666153846154, 'GRE'),\n",
       "  0.1328432273112991),\n",
       " (('106421', 'Daniil Medvedev', 20.165200904977375, 'RUS'),\n",
       "  0.1296448043784178),\n",
       " (('111575', 'Karen Khachanov', 19.687709502262443, 'RUS'),\n",
       "  0.12847912610001258),\n",
       " (('100644', 'Alexander Zverev', 5.227398190045249, 'GER'),\n",
       "  0.12717431421391914),\n",
       " (('104792', 'Gael Monfils', 21.95124343891403, 'FRA'), 0.12491588246124004),\n",
       " (('126094', 'Andrey Rublev', 44.18625791855204, 'RUS'), 0.1223094349850856),\n",
       " (('133430', 'Denis Shapovalov', 25.242005429864253, 'CAN'),\n",
       "  0.12199975653727738),\n",
       " (('106233', 'Dominic Thiem', 5.275989140271493, 'AUT'), 0.12091935274554111),\n",
       " (('105138', 'Roberto Bautista Agut', 16.078095022624435, 'ESP'),\n",
       "  0.11883913151706156),\n",
       " (('105583', 'Dusan Lajovic', 42.92922352941177, 'SRB'), 0.11836310382412078)]"
      ]
     },
     "execution_count": 26,
     "metadata": {},
     "output_type": "execute_result"
    }
   ],
   "source": [
    "#Eigenvector centrality - Varijanta centralnosti po stepenu koja uzima u obzir i susedstvo posmatranog čvora\n",
    "#onaj sa najvecom plus njegovi susedi??\n",
    "eigenvector_centralities = [(node, centrality) for node, centrality in nx.eigenvector_centrality(G).items()]\n",
    "\n",
    "#prvih 10\n",
    "max_eigenvector_centralities = sorted(eigenvector_centralities,key=lambda item: item[1], reverse=True)[:10]\n",
    "\n",
    "high_eigenvector_centrality_players = [(get_player_info(player[0]), player[1]) for player in max_eigenvector_centralities]\n",
    "\n",
    "print(f\"Dobri kandidati za predstavnika profesionalnih tenisera su\")\n",
    "high_eigenvector_centrality_players"
   ]
  },
  {
   "cell_type": "markdown",
   "metadata": {},
   "source": [
    "# 5. Kako su rangirani na ATP listi teniseri koji su se susretali sa najvećim brojem drugih tenisera?"
   ]
  },
  {
   "cell_type": "code",
   "execution_count": 27,
   "metadata": {},
   "outputs": [
    {
     "data": {
      "text/plain": [
       "[('100644', 'Alexander Zverev', 93, 5.227398190045249),\n",
       " ('106233', 'Dominic Thiem', 89, 5.275989140271493),\n",
       " ('104926', 'Fabio Fognini', 93, 14.026312669683257),\n",
       " ('105138', 'Roberto Bautista Agut', 91, 16.078095022624435),\n",
       " ('126774', 'Stefanos Tsitsipas', 97, 18.37666153846154),\n",
       " ('111575', 'Karen Khachanov', 99, 19.687709502262443),\n",
       " ('106421', 'Daniil Medvedev', 95, 20.165200904977375),\n",
       " ('104792', 'Gael Monfils', 93, 21.95124343891403),\n",
       " ('133430', 'Denis Shapovalov', 89, 25.242005429864253),\n",
       " ('104468', 'Gilles Simon', 91, 47.06257737556562)]"
      ]
     },
     "execution_count": 27,
     "metadata": {},
     "output_type": "execute_result"
    }
   ],
   "source": [
    "high_degree_players_ids = list(list(zip(*high_degree_players))[0])\n",
    "\n",
    "high_degree_players_ranks = [(node,attr['player_name'],G.degree(node),attr['rank']) for (node,attr) in G.nodes(data=True) if node in high_degree_players_ids]\n",
    "high_degree_players_ranks = sorted(high_degree_players_ranks,key=lambda item: item[3])\n",
    "high_degree_players_ranks"
   ]
  },
  {
   "cell_type": "markdown",
   "metadata": {},
   "source": [
    "# 6.  Iz kojih zemalja dolazi najveći broj aktivnih igrača u proteklom periodu?"
   ]
  },
  {
   "cell_type": "code",
   "execution_count": 28,
   "metadata": {},
   "outputs": [],
   "source": [
    "def plot_players_per_country_frequency(G, xscale = \"linear\", yscale = \"linear\"):\n",
    "\n",
    "    countries = [country for node,country in G.nodes(data='country_code')]\n",
    "    countries_counts = Counter(countries) #prebrojava, 1, 2, ..        \n",
    "    print(countries_counts)\n",
    "    lists = sorted(countries_counts.items(),key=lambda item: item[1])\n",
    "    x, y = zip(*lists)                                                      \n",
    "\n",
    "    fig = plt.figure(1) \n",
    "    fig.set_size_inches(20,20)\n",
    "    plt.barh(x,y)\n",
    "    #plt.ylabel('Country')\n",
    "    plt.xlabel('Број играча')\n",
    "    plt.show()"
   ]
  },
  {
   "cell_type": "code",
   "execution_count": 29,
   "metadata": {
    "scrolled": false
   },
   "outputs": [
    {
     "name": "stdout",
     "output_type": "stream",
     "text": [
      "Counter({'USA': 41, 'FRA': 33, 'ITA': 27, 'ESP': 26, 'GER': 23, 'ARG': 19, 'AUS': 17, 'RUS': 15, 'SRB': 10, 'GBR': 9, 'CAN': 9, 'AUT': 8, 'CZE': 8, 'JPN': 8, 'BRA': 7, 'CHN': 6, 'SVK': 6, 'CRO': 6, 'BEL': 6, 'IND': 6, 'SUI': 5, 'POR': 5, 'CHI': 4, 'UKR': 4, 'BUL': 4, 'HUN': 4, 'TUR': 4, 'POL': 3, 'URU': 3, 'SLO': 3, 'NED': 3, 'KAZ': 3, 'KOR': 3, 'TPE': 3, 'DOM': 2, 'ISR': 2, 'CYP': 2, 'RSA': 2, 'SWE': 2, 'BIH': 2, 'GEO': 2, 'ECU': 2, 'NZL': 2, 'COL': 2, 'BLR': 2, 'NOR': 2, 'QAT': 2, 'MEX': 2, 'MDA': 2, 'ALG': 1, 'LTU': 1, 'ZIM': 1, 'EGY': 1, 'ESA': 1, 'ROU': 1, 'UZB': 1, 'MON': 1, 'MAR': 1, 'BAR': 1, 'EST': 1, 'LUX': 1, 'LAT': 1, 'GRE': 1, 'TUN': 1, 'BOL': 1, 'DEN': 1, 'FIN': 1, 'PER': 1})\n"
     ]
    },
    {
     "data": {
      "image/png": "[encoded data removed]",
      "text/plain": [
       "<Figure size 1440x1440 with 1 Axes>"
      ]
     },
     "metadata": {
      "needs_background": "light"
     },
     "output_type": "display_data"
    }
   ],
   "source": [
    "plot_players_per_country_frequency(G)"
   ]
  },
  {
   "cell_type": "markdown",
   "metadata": {},
   "source": [
    "# 7. Iz kojih zemalja dolaze najuspešniji igrači u smislu osvojenih poena na ATP listi?"
   ]
  },
  {
   "cell_type": "code",
   "execution_count": 30,
   "metadata": {},
   "outputs": [],
   "source": [
    "def get_first_atp_players(num):\n",
    "    player_ranks = [(node,attr['player_name'],attr['rank'],attr['country_code']) for (node,attr) in G.nodes(data=True)]\n",
    "\n",
    "    player_ranks = (list(filter(lambda x: math.isnan(x[2])==False, player_ranks)))\n",
    "    player_ranks = (sorted(player_ranks, key=lambda element: (element[2]),reverse=False))[:num]\n",
    "    return player_ranks\n",
    "    "
   ]
  },
  {
   "cell_type": "code",
   "execution_count": 31,
   "metadata": {},
   "outputs": [],
   "source": [
    "def plot_best_players_per_country_frequency(countries, xscale = \"linear\", yscale = \"linear\"):\n",
    "    countries_counts = Counter(countries) #prebrojava, 1, 2, ..        \n",
    "    print(countries_counts)\n",
    "    lists = sorted(countries_counts.items(),key=lambda item: item[1])\n",
    "    x, y = zip(*lists)                                                    \n",
    "\n",
    "    fig = plt.figure(1) \n",
    "    fig.set_size_inches(20,20)\n",
    "    plt.barh(x,y)\n",
    "    #plt.ylabel('Country')\n",
    "    plt.xlabel('Број играча')\n",
    "    plt.show()"
   ]
  },
  {
   "cell_type": "code",
   "execution_count": 32,
   "metadata": {},
   "outputs": [
    {
     "name": "stdout",
     "output_type": "stream",
     "text": [
      "Counter({'FRA': 11, 'ESP': 9, 'USA': 8, 'ITA': 6, 'SRB': 5, 'ARG': 5, 'RUS': 5, 'AUS': 5, 'GER': 4, 'JPN': 3, 'CRO': 3, 'CAN': 3, 'SUI': 2, 'GBR': 2, 'CZE': 2, 'KAZ': 2, 'AUT': 1, 'BEL': 1, 'GRE': 1, 'BUL': 1, 'GEO': 1, 'RSA': 1, 'HUN': 1, 'URU': 1, 'POR': 1, 'SLO': 1, 'BIH': 1, 'MDA': 1, 'KOR': 1, 'POL': 1, 'LUX': 1, 'CHI': 1, 'LTU': 1, 'NOR': 1, 'ROU': 1, 'BOL': 1, 'FIN': 1, 'NED': 1, 'IND': 1, 'BRA': 1, 'SVK': 1})\n"
     ]
    },
    {
     "data": {
      "image/png": "[encoded data removed]",
      "text/plain": [
       "<Figure size 1440x1440 with 1 Axes>"
      ]
     },
     "metadata": {
      "needs_background": "light"
     },
     "output_type": "display_data"
    }
   ],
   "source": [
    "countries = get_first_atp_players(100)\n",
    "_,_,_,countries = zip(*countries)\n",
    "\n",
    "#za USA se dosta vidi razlika u 100 i 1000\n",
    "#ali se pitanje odnosi na najuspesnije\n",
    "plot_best_players_per_country_frequency(countries)"
   ]
  },
  {
   "cell_type": "markdown",
   "metadata": {},
   "source": [
    "# 8. Kako su u okviru skupa podataka okarakterisani igrači iz Srbije?"
   ]
  },
  {
   "cell_type": "code",
   "execution_count": 33,
   "metadata": {},
   "outputs": [
    {
     "name": "stdout",
     "output_type": "stream",
     "text": [
      "Po ranku srpski igraci su: [('Dusan Lajovic', 42.92922352941177), ('Viktor Troicki', 163.85206380090497), ('Filip Krajinovic', 47.83839004524887), ('Novak Djokovic', 4.11069185520362), ('Miomir Kecmanovic', 102.99675837104073), ('Laslo Djere', 66.49712398190046), ('Nikola Milojevic', 153.46941176470588), ('Pedja Krstin', 212.8235294117647), ('Janko Tipsarevic', 306.6458333333333), ('Danilo Petrovic', 155.2)]\n",
      "\n",
      "Po broju meceva srpski igraci su: [('Dusan Lajovic', 122), ('Viktor Troicki', 31), ('Filip Krajinovic', 103), ('Novak Djokovic', 177), ('Miomir Kecmanovic', 73), ('Laslo Djere', 92), ('Nikola Milojevic', 6), ('Pedja Krstin', 1), ('Janko Tipsarevic', 18), ('Danilo Petrovic', 4)]\n",
      "\n",
      "Po broju saigraca srpski igraci su: [('Dusan Lajovic', 87), ('Viktor Troicki', 30), ('Filip Krajinovic', 71), ('Novak Djokovic', 80), ('Miomir Kecmanovic', 55), ('Laslo Djere', 64), ('Nikola Milojevic', 6), ('Pedja Krstin', 1), ('Janko Tipsarevic', 17), ('Danilo Petrovic', 4)]\n",
      "\n"
     ]
    }
   ],
   "source": [
    "serbian_players = [player for player,country in G.nodes(data='country_code') if country=='SRB']\n",
    "\n",
    "serbian_players_ranks = [(get_player_info(player)[1],rank) for player,rank in G.nodes(data='rank') if player in serbian_players]\n",
    "print(f\"Po ranku srpski igraci su: {serbian_players_ranks}\\n\")\n",
    "\n",
    "serbian_players_matches = [(get_player_info(player)[1],degree) for player,degree in G.degree(weight='weight') if player in serbian_players]\n",
    "print(f\"Po broju meceva srpski igraci su: {serbian_players_matches}\\n\")\n",
    "\n",
    "serbian_players_opponents = [(get_player_info(player)[1],degree) for player,degree in G.degree() if player in serbian_players]\n",
    "print(f\"Po broju saigraca srpski igraci su: {serbian_players_opponents}\\n\")\n",
    "\n",
    "\n",
    "#Mozda u odnos na druge zemlje?"
   ]
  },
  {
   "cell_type": "markdown",
   "metadata": {},
   "source": [
    "# 9. Koje zajednice (komune) se mogu uočiti prilikom analize mreže? Da li postoji neko objašnjenje za detektovane komune?"
   ]
  },
  {
   "cell_type": "code",
   "execution_count": 34,
   "metadata": {},
   "outputs": [
    {
     "data": {
      "text/plain": [
       "{1: [('106216', 'Bjorn Fratangelo', 137.01602564102564, 'USA'),\n",
       "  ('103333', 'Ivo Karlovic', 103.16028054298644, 'CRO'),\n",
       "  ('106401', 'Nick Kyrgios', 33.69977239819005, 'AUS'),\n",
       "  ('105053', 'Santiago Giraldo', 267.56315987933635, 'COL'),\n",
       "  ('111815', 'Cameron Norrie', 72.57646968325793, 'GBR'),\n",
       "  ('127339', 'Borna Gojo', 569.25, 'CRO'),\n",
       "  ('111202', 'Hyeon Chung', 73.79128959276018, 'KOR'),\n",
       "  ('125802', 'Ilya Ivashka', 126.08350316742082, 'BLR'),\n",
       "  ('105649', 'Cedrik Marcel Stebe', 311.53280045248874, 'GER'),\n",
       "  ('126652', 'Jay Clarke', 200.4334464555053, 'GBR'),\n",
       "  ('104804', 'Amir Weintraub', nan, 'ISR'),\n",
       "  ('105311', 'Joao Sousa', 59.67759547511313, 'POR'),\n",
       "  ('105806', 'Mirza Basic', 148.06052036199094, 'BIH'),\n",
       "  ('104890', 'Andreas Haider Maurer', 498.2307692307692, 'AUT'),\n",
       "  ('105992', 'Ryan Harrison', 213.94961945701357, 'USA'),\n",
       "  ('105063', 'Andrea Arnaboldi', 226.35765460030166, 'ITA'),\n",
       "  ('111153', 'Christopher Eubanks', 215.75646561085972, 'USA'),\n",
       "  ('104327', 'Steve Darcis', 234.22549019607843, 'BEL'),\n",
       "  ('104547', 'Horacio Zeballos', 120.5576923076923, 'ARG'),\n",
       "  ('111200', 'Elias Ymer', 125.23529411764706, 'SWE'),\n",
       "  ('105015', 'Franco Skugor', 431.1376319758673, 'CRO'),\n",
       "  ('124014', 'Ernesto Escobedo', 205.44941945701356, 'USA'),\n",
       "  ('105614', 'Bradley Klahn', 120.0877592760181, 'USA'),\n",
       "  ('104947', 'Marsel Ilhan', 382.0576923076923, 'TUR'),\n",
       "  ('104297', 'Rogerio Dutra Silva', 165.663838612368, 'BRA'),\n",
       "  ('106045', 'Denis Kudla', 102.38748325791856, 'USA'),\n",
       "  ('105341', 'Thomas Fabbiano', 112.59450588235295, 'ITA'),\n",
       "  ('106005', 'Constant Lestienne', 201.546568627451, 'FRA'),\n",
       "  ('105634', 'Viktor Galovic', 211.79166666666669, 'ITA'),\n",
       "  ('126237', 'Gian Marco Moroni', 252.6078431372549, 'ITA'),\n",
       "  ('200436', 'Zsombor Piros', 443.65384615384613, 'HUN'),\n",
       "  ('105933', 'Roberto Quiroz', 233.82692307692307, 'ECU'),\n",
       "  ('105238', 'Alexandr Dolgopolov', 115.90384615384616, 'UKR'),\n",
       "  ('106058', 'Jack Sock', 173.6747610529006, 'USA'),\n",
       "  ('106071', 'Bernard Tomic', 150.20952443438915, 'AUS'),\n",
       "  ('126120', 'Nino Serdarusic', 266.4941199095023, 'CRO'),\n",
       "  ('104571', 'Marcos Baghdatis', 124.71078431372548, 'CYP'),\n",
       "  ('104180', 'Gilles Muller', 77.8076923076923, 'LUX'),\n",
       "  ('111581', 'Michael Mmoh', 161.5759963800905, 'USA'),\n",
       "  ('111576', 'Sumit Nagal', 221.17140859728508, 'IND'),\n",
       "  ('104252', 'Florian Mayer', 154.28846153846155, 'GER'),\n",
       "  ('105441', 'John Patrick Smith', 256.67615384615385, 'AUS'),\n",
       "  ('105626', 'Takanyi Garanganga', 488.75, 'ZIM'),\n",
       "  ('202130', 'Emil Reinberg', 951.8627450980392, 'USA'),\n",
       "  ('106099', 'Salvatore Caruso', 139.1346556561086, 'ITA'),\n",
       "  ('105074', 'Ruben Bemelmans', 149.7684766214178, 'BEL'),\n",
       "  ('105216', 'Yuichi Sugita', 114.19963665158372, 'JPN'),\n",
       "  ('105065', 'Tim Smyczek', 192.40196078431373, 'USA'),\n",
       "  ('208108', 'Brian Shi', nan, 'USA'),\n",
       "  ('103970', 'David Ferrer', 116.67788461538461, 'ESP'),\n",
       "  ('105870', 'Yannick Hanfmann', 149.71430678733032, 'GER'),\n",
       "  ('103990', 'Tommy Robredo', 203.95286576168928, 'ESP'),\n",
       "  ('106075', 'Jozef Kovalik', 141.3776248868778, 'SVK'),\n",
       "  ('104660', 'Sergiy Stakhovsky', 143.78076153846155, 'UKR'),\n",
       "  ('111574', 'Jc Aragone', 292.1672322775264, 'USA'),\n",
       "  ('106026', 'Yuki Bhambri', 103.17307692307692, 'IND'),\n",
       "  ('105359', 'Jason Jung', 133.13250452488688, 'TPE'),\n",
       "  ('105477', 'Marco Trungelliti', 188.4598705882353, 'ARG'),\n",
       "  ('104898', 'Robin Haase', 102.46057194570136, 'NED'),\n",
       "  ('106368', 'Ramkumar Ramanathan', 157.86409276018102, 'IND'),\n",
       "  ('103917', 'Nicolas Mahut', 165.52922322775265, 'FRA'),\n",
       "  ('104291', 'Malek Jaziri', 135.87561312217196, 'TUN'),\n",
       "  ('104386', 'Janko Tipsarevic', 306.6458333333333, 'SRB'),\n",
       "  ('104460', 'Dustin Brown', 190.97190799396682, 'GER'),\n",
       "  ('104534', 'Dudi Sela', 166.37650829562594, 'ISR'),\n",
       "  ('105041', 'Lukas Lacko', 131.47435897435898, 'SVK'),\n",
       "  ('106220', 'Dimitar Kuzmanov', 323.5360669683258, 'BUL'),\n",
       "  ('105757', 'Sandro Ehrat', 427.6078431372549, 'SUI'),\n",
       "  ('200484', 'Rudolf Molleker', 263.447209653092, 'GER'),\n",
       "  ('104999', 'Mischa Zverev', 161.51109592760181, 'GER'),\n",
       "  ('105051', 'Matthew Ebden', 86.79619155354449, 'AUS'),\n",
       "  ('104882', 'Blaz Kavcic', 179.53846153846155, 'SLO'),\n",
       "  ('105385', 'Donald Young', 196.0603318250377, 'USA'),\n",
       "  ('120424', 'Yannick Maden', 130.74090361990952, 'GER'),\n",
       "  ('126612', 'Alexander Cozbinov', 765.64, 'MDA'),\n",
       "  ('200059', 'Yibing Wu', 335.9807692307692, 'CHN'),\n",
       "  ('104678', 'Viktor Troicki', 163.85206380090497, 'SRB'),\n",
       "  ('111511', 'Noah Rubin', 191.3840452488688, 'USA'),\n",
       "  ('105819', 'Guido Andreozzi', 117.90761689291102, 'ARG'),\n",
       "  ('105539', 'Evgeny Donskoy', 106.58478552036199, 'RUS'),\n",
       "  ('109739', 'Maximilian Marterer', 177.65268687782805, 'GER'),\n",
       "  ('105376', 'Peter Gojowczyk', 90.79882036199095, 'GER'),\n",
       "  ('106412', 'Lucas Gomez', 708.6644042232278, 'MEX'),\n",
       "  ('133297', 'Yosuke Watanuki', 257.31957013574663, 'JPN'),\n",
       "  ('105132', 'Jurgen Zopp', 133.96153846153845, 'EST'),\n",
       "  ('105487', 'Facundo Bagnis', 151.24235022624435, 'ARG'),\n",
       "  ('104719', 'Marcel Granollers', 112.20154600301659, 'ESP'),\n",
       "  ('104022', 'Mikhail Youzhny', 98.63157894736842, 'RUS'),\n",
       "  ('105497', 'Jose Hernandez', 278.4807692307692, 'DOM'),\n",
       "  ('144645', 'Zdenek Kolar', 225.75, 'CZE'),\n",
       "  ('144985', 'Ergi Kirkin', 544.5882352941177, 'TUR'),\n",
       "  ('105432', 'Prajnesh Gunneswaran', 135.39839773755656, 'IND')],\n",
       " 2: [('106210', 'Jiri Vesely', 89.73983257918553, 'CZE'),\n",
       "  ('105561', 'Alessandro Giannessi', 169.65573152337856, 'ITA'),\n",
       "  ('207608', 'Timofey Skatov', 509.78, 'RUS'),\n",
       "  ('106249', 'Joao Domingues', 191.74805791855204, 'POR'),\n",
       "  ('105943', 'Federico Gaio', 195.90377511312218, 'ITA'),\n",
       "  ('123755', 'Daniel Elahi Galan Riveros', 200.0130475113122, 'COL'),\n",
       "  ('104593', 'Daniel Gimeno Traver', 226.90384615384616, 'ESP'),\n",
       "  ('124154', 'Sasi Kumar Mukund', 283.24, 'IND'),\n",
       "  ('106198', 'Hugo Dellien', 91.99196078431373, 'BOL'),\n",
       "  ('105332', 'Benoit Paire', 38.41933936651584, 'FRA'),\n",
       "  ('105641', 'Blaz Rola', 171.27450980392157, 'SLO'),\n",
       "  ('111790', 'Brayden Schnur', 164.65121764705884, 'CAN'),\n",
       "  ('111795', 'Filippo Baldi', 234.8203242835596, 'ITA'),\n",
       "  ('106110', 'Filip Horansky', 223.77346153846156, 'SVK'),\n",
       "  ('104655', 'Pablo Cuevas', 59.31894841628959, 'URU'),\n",
       "  ('106324', 'Vaclav Safranek', 266.9230769230769, 'CZE'),\n",
       "  ('106120', 'Ricardo Ojeda Lara', 234.28846153846155, 'ESP'),\n",
       "  ('106426', 'Christian Garin', 85.47048416289593, 'CHI'),\n",
       "  ('104665', 'Pablo Andujar', 187.31966832579187, 'ESP'),\n",
       "  ('200624', 'Sebastian Korda', 475.54269230769233, 'USA'),\n",
       "  ('126952', 'Soon Woo Kwon', 148.35763257918555, 'KOR'),\n",
       "  ('105413', 'Andrej Martin', 142.89149004524887, 'SVK'),\n",
       "  ('144750', 'Lloyd George Muirhead Harris', 131.2094085972851, 'RSA'),\n",
       "  ('207518', 'Lorenzo Musetti', 251.48, 'ITA'),\n",
       "  ('105948', 'Federico Coria', 213.40769230769232, 'ARG'),\n",
       "  ('106032', 'Facundo Arguello', 212.8235294117647, 'ARG'),\n",
       "  ('104792', 'Gael Monfils', 21.95124343891403, 'FRA'),\n",
       "  ('106228', 'Juan Ignacio Londero', 111.37689004524889, 'ARG'),\n",
       "  ('105671', 'Gastao Elias', 154.01923076923077, 'POR'),\n",
       "  ('106393', 'Frederico Ferreira Silva', 314.96153846153845, 'POR'),\n",
       "  ('126205', 'Tommy Paul', 142.13879095022625, 'USA'),\n",
       "  ('105208', 'Ernests Gulbis', 147.0711190045249, 'LAT'),\n",
       "  ('105882', 'Stefano Travaglia', 109.08814027149322, 'ITA'),\n",
       "  ('105166', 'Peter Polansky', 138.09389140271492, 'CAN'),\n",
       "  ('136440', 'Dominik Koepfer', 150.23497239819005, 'GER'),\n",
       "  ('128034', 'Hubert Hurkacz', 75.82416199095023, 'POL'),\n",
       "  ('126156', 'Antonie Hoang', 127.16529411764706, 'FRA'),\n",
       "  ('104919', 'Leonardo Mayer', 77.46373800904978, 'ARG'),\n",
       "  ('104586', 'Lukas Rosol', 178.9502380090498, 'CZE'),\n",
       "  ('117353', 'Duck Hee Lee', 235.0, 'KOR'),\n",
       "  ('126663', 'Juan Pablo Ficovich', 207.96, 'ARG'),\n",
       "  ('105583', 'Dusan Lajovic', 42.92922352941177, 'SRB'),\n",
       "  ('117360', 'Marc Polmans', 145.1264705882353, 'AUS'),\n",
       "  ('106329', 'Thiago Monteiro', 104.94421312217196, 'BRA'),\n",
       "  ('200611', 'Elliot Benchetrit', 261.1286076923077, 'FRA'),\n",
       "  ('110602', 'Dennis Novak', 131.34825791855204, 'AUT'),\n",
       "  ('144707', 'Mikael Ymer', 184.36099230769233, 'SWE'),\n",
       "  ('106283', 'Mitchell Krueger', 202.31548552036202, 'USA'),\n",
       "  ('105967', 'Henri Laaksonen', 128.59506651583712, 'SUI'),\n",
       "  ('124186', 'Alexandre Muller', 289.1372549019608, 'FRA'),\n",
       "  ('106203', 'Pedro Sakamoto', 370.6666666666667, 'BRA'),\n",
       "  ('105155', 'Pedro Sousa', 118.96628733031676, 'POR'),\n",
       "  ('106121', 'Taro Daniel', 99.7444040723982, 'JPN'),\n",
       "  ('124079', 'Pedro Martinez Portero', 158.98852941176472, 'ESP'),\n",
       "  ('106034', 'Yasutaka Uchiyama', 125.05039215686276, 'JPN'),\n",
       "  ('106325', 'Jabor Al Mutawa', nan, 'QAT'),\n",
       "  ('200325', 'Emil Ruusuvuori', 98.28, 'FIN'),\n",
       "  ('124187', 'Reilly Opelka', 86.21971538461538, 'USA'),\n",
       "  ('126214', 'Alejandro Tabilo', 174.46, 'CHI'),\n",
       "  ('126127', 'Benjamin Bonzi', 243.49653846153845, 'FRA'),\n",
       "  ('106078', 'Egor Gerasimov', 140.04279864253394, 'BLR'),\n",
       "  ('106398', 'Pedro Cachin', 297.98505475113126, 'ARG'),\n",
       "  ('126504', 'Andrea Pellegrino', 325.8, 'ITA'),\n",
       "  ('134770', 'Casper Ruud', 86.81650407239819, 'NOR'),\n",
       "  ('144719', 'Jaume Munar', 102.17968642533937, 'ESP'),\n",
       "  ('207680', 'Facundo Diaz Acosta', 420.14, 'ARG'),\n",
       "  ('126149', 'Gianluca Mager', 121.85686274509804, 'ITA'),\n",
       "  ('104229', 'Yen Hsun Lu', 981.304347826087, 'TPE'),\n",
       "  ('106148', 'Roberto Carballes Baena', 87.71690678733032, 'ESP'),\n",
       "  ('111459', 'Arjun Kadhe', 501.8441642533937, 'IND'),\n",
       "  ('104122', 'Carlos Berlocq', 190.14762443438912, 'ARG'),\n",
       "  ('127157', 'Daniel Altmaier', 332.7762745098039, 'GER'),\n",
       "  ('105226', 'Attila Balazs', 161.82381583710406, 'HUN'),\n",
       "  ('122669', 'Juan Pablo Varillas Patino Samudio', 141.08, 'PER'),\n",
       "  ('106302', 'Andrew Harris', 204.5, 'AUS'),\n",
       "  ('205734', 'Thiago Seyboth Wild', 345.19353936651584, 'BRA'),\n",
       "  ('200368', 'Jack Mingjie Lin', 1240.125, 'CAN'),\n",
       "  ('105406', 'Roberto Marcora', 165.28, 'ITA'),\n",
       "  ('111190', 'Zhizhen Zhang', 337.797322775264, 'CHN'),\n",
       "  ('111513', 'Laslo Djere', 66.49712398190046, 'SRB'),\n",
       "  ('200265', 'Ulises Blanch', 249.62, 'USA'),\n",
       "  ('126610', 'Matteo Berrettini', 41.39004253393666, 'ITA'),\n",
       "  ('104620', 'Simone Bolelli', 189.02055052790348, 'ITA'),\n",
       "  ('200221', 'Alejandro Davidovich Fokina', 113.57372549019607, 'ESP'),\n",
       "  ('105952', 'Renzo Olivo', 257.4673076923077, 'ARG')],\n",
       " 3: [('104897', 'Matthias Bachinger', 152.04977375565613, 'GER'),\n",
       "  ('105062', 'Mikhail Kukushkin', 70.61771266968326, 'KAZ'),\n",
       "  ('104932', 'Kenny De Schepper', 186.3846153846154, 'FRA'),\n",
       "  ('208004', 'Harold Mayot', 459.52, 'FRA'),\n",
       "  ('105777', 'Grigor Dimitrov', 22.150169230769233, 'BUL'),\n",
       "  ('104731', 'Kevin Anderson', 44.19198054298643, 'RSA'),\n",
       "  ('104871', 'Jeremy Chardy', 59.5815113122172, 'FRA'),\n",
       "  ('105633', 'Mohamed Safwat', 187.87371809954752, 'EGY'),\n",
       "  ('106296', 'Gregoire Barrere', 154.74681266968327, 'FRA'),\n",
       "  ('126535', 'Carlos Taberner', 201.02307692307693, 'ESP'),\n",
       "  ('202400', 'Alastair Gray', 1111.5, 'GBR'),\n",
       "  ('105515', 'Jordi Samper Montana', 387.5, 'ESP'),\n",
       "  ('144642', 'Marcelo Tomas Barrios Vera', 288.18, 'CHI'),\n",
       "  ('200218', 'Mate Valkusz', 395.27450980392155, 'HUN'),\n",
       "  ('206173', 'Jannik Sinner', 152.78, 'ITA'),\n",
       "  ('200514', 'Jurij Rodionov', 270.01714434389146, 'AUT'),\n",
       "  ('105613', 'Norbert Gombos', 158.6812972850679, 'SVK'),\n",
       "  ('111794', 'Kamil Majchrzak', 111.41980392156862, 'POL'),\n",
       "  ('105732', 'Pierre Hugues Herbert', 64.22033981900452, 'FRA'),\n",
       "  ('104970', 'Matteo Viola', 259.39950980392155, 'ITA'),\n",
       "  ('104468', 'Gilles Simon', 47.06257737556562, 'FRA'),\n",
       "  ('103781', 'Jurgen Melzer', 545.5576923076923, 'AUT'),\n",
       "  ('106167', 'Joris De Loore', 351.78846153846155, 'BEL'),\n",
       "  ('126845', 'Max Purcell', 236.5403846153846, 'AUS'),\n",
       "  ('105676', 'David Goffin', 14.301225791855204, 'BEL'),\n",
       "  ('106137', 'Tristan Lamasine', 258.8627450980392, 'FRA'),\n",
       "  ('106031', 'Raymond Sarmiento', 577.0, 'USA')],\n",
       " 4: [('104797', 'Denis Istomin', 124.84331266968326, 'UZB'),\n",
       "  ('202385', 'Jenson Brooksby', 883.0218702865761, 'USA'),\n",
       "  ('200574', 'Alexander Donski', 1560.7450980392157, 'CAN'),\n",
       "  ('200095', 'Nicola Kuhn', 248.93250377073906, 'ESP'),\n",
       "  ('122570', 'Mubarak Shannan Zayid', 1968.7222222222222, 'QAT'),\n",
       "  ('111797', 'Nicolas Jarry', 114.77227149321268, 'CHI'),\n",
       "  ('105064', 'Thomaz Bellucci', 222.65384615384616, 'BRA'),\n",
       "  ('103852', 'Feliciano Lopez', 61.3153742081448, 'ESP'),\n",
       "  ('103607', 'Victor Estrella', 210.80769230769232, 'DOM'),\n",
       "  ('202090', 'Adrian Andreev', 743.8904761904762, 'BUL'),\n",
       "  ('104755', 'Richard Gasquet', 41.12044841628959, 'FRA'),\n",
       "  ('104926', 'Fabio Fognini', 14.026312669683257, 'ITA'),\n",
       "  ('105373', 'Martin Klizan', 107.784692760181, 'SVK'),\n",
       "  ('104607', 'Tomas Berdych', 68.98557692307692, 'CZE'),\n",
       "  ('104597', 'Nicolas Almagro', 401.1081081081081, 'ESP'),\n",
       "  ('104198', 'Guillermo Garcia Lopez', 106.07730015082956, 'ESP'),\n",
       "  ('105589', 'Gerald Melzer', 143.5, 'AUT'),\n",
       "  ('126523', 'Bernabe Zapata Miralles', 259.64328808446453, 'ESP'),\n",
       "  ('200615', 'Alexei Popyrin', 181.4872733031674, 'AUS'),\n",
       "  ('104312', 'Andreas Seppi', 68.0838484162896, 'ITA'),\n",
       "  ('105985', 'Darian King', 180.37405731523378, 'BAR'),\n",
       "  ('105643', 'Federico Delbonis', 77.75718823529412, 'ARG'),\n",
       "  ('144817', 'Marc Andrea Huesler', 353.4482461538462, 'SUI'),\n",
       "  ('126846', 'Aleksandar Vukic', 332.0503846153846, 'AUS'),\n",
       "  ('121531', 'Mats Moraing', 189.01960784313727, 'GER')],\n",
       " 5: [('200282', 'Alex De Minaur', 45.0429628959276, 'AUS'),\n",
       "  ('105223', 'Juan Martin Del Potro', 22.905165912518854, 'ARG'),\n",
       "  ('104810', 'Zhe Li', 262.03619909502265, 'CHN'),\n",
       "  ('105656', 'Marcelo Arevalo', 236.33446455505282, 'ESA'),\n",
       "  ('104918', 'Andy Murray', 189.43373348416293, 'GBR'),\n",
       "  ('200031', 'Lucas Catarina', 455.49208144796376, 'MON'),\n",
       "  ('105163', 'Gleb Sakharov', 246.64743589743588, 'FRA'),\n",
       "  ('200005', 'Ugo Humbert', 112.70775067873305, 'FRA'),\n",
       "  ('105554', 'Daniel Evans', 186.74185475113126, 'GBR'),\n",
       "  ('144984', 'Artem Dubrivnyy', 494.2352941176471, 'RUS'),\n",
       "  ('106378', 'Kyle Edmund', 34.41413800904977, 'GBR'),\n",
       "  ('208134', 'Luca Nardi', 1017.4, 'ITA'),\n",
       "  ('200303', 'Pavel Kotov', 273.2, 'RUS'),\n",
       "  ('105339', 'Yan Bai', 306.078431372549, 'CHN'),\n",
       "  ('126207', 'Francis Tiafoe', 54.222947058823536, 'USA'),\n",
       "  ('106218', 'Marcos Giron', 204.42789954751132, 'USA'),\n",
       "  ('126204', 'Gerardo Lopez Villasenor', 538.4652941176471, 'MEX'),\n",
       "  ('200175', 'Miomir Kecmanovic', 102.99675837104073, 'SRB'),\n",
       "  ('106293', 'Kimmer Coppejans', 164.5535294117647, 'BEL'),\n",
       "  ('105683', 'Milos Raonic', 23.89921945701358, 'CAN'),\n",
       "  ('106415', 'Yoshihito Nishioka', 108.88262443438914, 'JPN'),\n",
       "  ('111456', 'Mackenzie Mcdonald', 136.44949004524887, 'USA'),\n",
       "  ('123768', 'Collin Altamirano', 475.59615384615387, 'USA'),\n",
       "  ('207182', 'Emilio Nava', 781.3947368421053, 'USA'),\n",
       "  ('104259', 'Philipp Kohlschreiber', 55.94599592760181, 'GER')],\n",
       " 6: [('103898', 'Julien Benneteau', 68.78, 'FRA'),\n",
       "  ('208260', 'Zachary Svajda', 1159.1904761904761, 'USA'),\n",
       "  ('106177', 'Oriol Roca Batalla', 327.90384615384613, 'ESP'),\n",
       "  ('105091', 'Peter Torebko', 417.19607843137254, 'GER'),\n",
       "  ('124116', 'Sebastian Ofner', 163.09764072398193, 'AUT'),\n",
       "  ('123795', 'Altug Celikbilek', 408.4901960784314, 'TUR'),\n",
       "  ('105905', 'Danilo Petrovic', 155.2, 'SRB'),\n",
       "  ('105657', 'Marius Copil', 88.27997737556561, 'ROU'),\n",
       "  ('202103', 'Francisco Cerundolo', 273.8851724137931, 'ARG'),\n",
       "  ('105550', 'Guido Pella', 42.70807285067873, 'ARG'),\n",
       "  ('206909', 'Brandon Nakashima', 229.44, 'USA'),\n",
       "  ('105916', 'Marton Fucsovics', 57.792638461538466, 'HUN'),\n",
       "  ('117356', 'Cem Ilkel', 244.99843665158375, 'TUR'),\n",
       "  ('111192', 'Lucas Miedler', 272.7697963800905, 'AUT'),\n",
       "  ('111578', 'Stefan Kozlov', 311.44307692307694, 'USA'),\n",
       "  ('111453', 'Mikael Torpegaard', 206.37254901960785, 'DEN'),\n",
       "  ('106065', 'Marco Cecchinato', 62.92691221719457, 'ITA'),\n",
       "  ('105906', 'Kevin Krawietz', 330.4117647058824, 'GER'),\n",
       "  ('106044', 'Nicolas Kicker', 117.75, 'ARG'),\n",
       "  ('106000', 'Damir Dzumhur', 70.30078280542986, 'BIH'),\n",
       "  ('103893', 'Paolo Lorenzi', 106.61953393665158, 'ITA')],\n",
       " 7: [('105023', 'Sam Querrey', 43.17985610859729, 'USA'),\n",
       "  ('111575', 'Karen Khachanov', 19.687709502262443, 'RUS'),\n",
       "  ('105575', 'Ricardas Berankis', 86.21276470588236, 'LTU'),\n",
       "  ('104527', 'Stanislas Wawrinka', 41.23290226244344, 'SUI'),\n",
       "  ('126203', 'Taylor Harry Fritz', 45.21454977375566, 'USA'),\n",
       "  ('110536', 'Kevin King', 277.4490950226244, 'USA'),\n",
       "  ('106423', 'Thanasi Kokkinakis', 177.77620663650075, 'AUS'),\n",
       "  ('105731', 'Steven Diez', 197.1207843137255, 'CAN'),\n",
       "  ('200384', 'Hugo Gaston', 725.1970588235293, 'FRA'),\n",
       "  ('126340', 'Viktor Durasovic', 337.54, 'NOR'),\n",
       "  ('202358', 'Chun Hsin Tseng', 600.9091251885369, 'TPE'),\n",
       "  ('106408', 'Mario Vilella Martinez', 186.64, 'ESP'),\n",
       "  ('123921', 'Calvin Hemery', 165.17307692307693, 'FRA'),\n",
       "  ('126125', 'Maxime Janvier', 226.60165656108597, 'FRA'),\n",
       "  ('207830', 'Tomas Machac', 258.38, 'CZE'),\n",
       "  ('104542', 'Jo Wilfried Tsonga', 74.10868099547513, 'FRA'),\n",
       "  ('105723', 'Andrey Kuznetsov', 529.9285714285714, 'RUS'),\n",
       "  ('105453', 'Kei Nishikori', 18.846465158371043, 'JPN'),\n",
       "  ('206703', 'Paul Jubb', 558.2857142857143, 'GBR'),\n",
       "  ('134868', 'Tallon Griekspoor', 198.14588235294121, 'NED')],\n",
       " 8: [('111515', 'Thai Son Kwiatkowski', 295.6590628959276, 'USA'),\n",
       "  ('109699', 'Julian Lenz', 329.88235294117646, 'GER'),\n",
       "  ('110748', 'Nikola Milojevic', 153.46941176470588, 'SRB'),\n",
       "  ('105379', 'Aljaz Bedene', 66.3123660633484, 'SLO'),\n",
       "  ('105807', 'Pablo Carreno Busta', 26.75328597285068, 'ESP'),\n",
       "  ('105217', 'Thiemo De Bakker', 322.7628205128205, 'NED'),\n",
       "  ('200553', 'Alen Avidzba', 416.6862745098039, 'RUS'),\n",
       "  ('126239', 'Arthur Rinderknech', 182.62, 'FRA'),\n",
       "  ('105902', 'James Duckworth', 315.0189823529412, 'AUS'),\n",
       "  ('104563', 'Luca Vanni', 229.47963800904978, 'ITA'),\n",
       "  ('105585', 'Ze Zhang', 249.32635746606334, 'CHN'),\n",
       "  ('106348', 'Evgeny Karlovskiy', 280.75, 'RUS'),\n",
       "  ('105173', 'Adrian Mannarino', 40.37171266968326, 'FRA'),\n",
       "  ('208230', 'Alibek Kachmazov', 1178.1538461538462, 'RUS'),\n",
       "  ('144946', 'Rayane Roumane', 480.12820512820514, 'FRA'),\n",
       "  ('106186', 'Jason Kubler', 174.0013197586727, 'AUS')],\n",
       " 9: [('200000', 'Felix Auger Aliassime', 69.13527149321267, 'CAN'),\n",
       "  ('105357', 'John Millman', 54.18507963800905, 'AUS'),\n",
       "  ('105030', 'Michael Venus', nan, 'NZL'),\n",
       "  ('105011', 'Illya Marchenko', 212.28, 'UKR'),\n",
       "  ('104907', 'Jose Rubin Statham', 457.84313725490193, 'NZL'),\n",
       "  ('105526', 'Jan Lennard Struff', 44.987183710407244, 'GER'),\n",
       "  ('105815', 'Tennys Sandgren', 65.9544076923077, 'USA'),\n",
       "  ('105430', 'Radu Albot', 70.68501176470588, 'MDA'),\n",
       "  ('106214', 'Oscar Otte', 166.9192642533937, 'GER'),\n",
       "  ('122078', 'Dmitry Popko', 174.52, 'KAZ'),\n",
       "  ('109054', 'Daniel Masur', 334.6923076923077, 'GER'),\n",
       "  ('133018', 'Michail Pervolarakis', 438.54, 'CYP'),\n",
       "  ('105577', 'Vasek Pospisil', 115.89961266968325, 'CAN'),\n",
       "  ('106234', 'Aslan Karatsev', 210.66, 'RUS')],\n",
       " 10: [('106328', 'Christian Harrison', 233.15384615384616, 'USA'),\n",
       "  ('122330', 'Alexander Bublik', 104.56364343891404, 'KAZ'),\n",
       "  ('105077', 'Albert Ramos', 52.329612217194565, 'ESP'),\n",
       "  ('106353', 'Pedja Krstin', 212.8235294117647, 'SRB'),\n",
       "  ('200267', 'Zizou Bergs', 512.86, 'BEL'),\n",
       "  ('106109', 'Alex Bolt', 156.98505701357468, 'AUS'),\n",
       "  ('207989', 'Carlos Alcaraz Garfia', 285.44, 'ESP'),\n",
       "  ('144760', 'Amine Ahouda', 1129.764705882353, 'MAR'),\n",
       "  ('111442', 'Jordan Thompson', 72.3118520361991, 'AUS'),\n",
       "  ('106105', 'Guilherme Clezar', 221.73076923076923, 'BRA'),\n",
       "  ('105960', 'Evan King', 232.3846153846154, 'USA'),\n",
       "  ('103565', 'Stephane Robert', 510.90769230769234, 'FRA'),\n",
       "  ('111577', 'Jared Donaldson', 249.59351432880845, 'USA')],\n",
       " 11: [('105936', 'Filip Krajinovic', 47.83839004524887, 'SRB'),\n",
       "  ('104629', 'Adrian Menendez Maceiras', 151.4475867269985, 'ESP'),\n",
       "  ('132482', 'Liam Caruana', 512.7884615384615, 'USA'),\n",
       "  ('106072', 'Alexey Vatutin', 182.7345399698341, 'RUS'),\n",
       "  ('105841', 'Lorenzo Giustino', 152.08, 'ITA'),\n",
       "  ('105449', 'Steve Johnson', 58.98124796380091, 'USA'),\n",
       "  ('104735', 'Tobias Kamke', 234.50980392156862, 'GER'),\n",
       "  ('144895', 'Corentin Moutet', 106.99097511312218, 'FRA'),\n",
       "  ('200247', 'Alexandar Lazarov', 503.0, 'BUL'),\n",
       "  ('104269', 'Fernando Verdasco', 40.377908144796386, 'ESP'),\n",
       "  ('106281', 'Liam Broady', 210.9173076923077, 'GBR'),\n",
       "  ('111505', 'Enzo Couacaud', 189.22, 'FRA'),\n",
       "  ('111460', 'Quentin Halys', 165.69795656108602, 'FRA')],\n",
       " 12: [('206748', 'Giulio Zeppieri', 356.36, 'ITA'),\n",
       "  ('132283', 'Lorenzo Sonego', 84.6384669683258, 'ITA'),\n",
       "  ('106298', 'Lucas Pouille', 22.614064856711916, 'FRA'),\n",
       "  ('126128', 'Roman Safiullin', 186.96, 'RUS'),\n",
       "  ('104672', 'Vincent Millot', 306.86538461538464, 'FRA'),\n",
       "  ('103819', 'Roger Federer', 3.171956108597285, 'SUI'),\n",
       "  ('105877', 'Emilio Gomez', 152.34, 'ECU'),\n",
       "  ('106432', 'Borna Coric', 24.224990045248866, 'CRO')],\n",
       " 13: [('104424', 'Go Soeda', 144.65078431372547, 'JPN'),\n",
       "  ('105899', 'Martin Cuevas', 496.26, 'URU'),\n",
       "  ('106223', 'Aleksandre Metreveli', 575.5, 'GEO'),\n",
       "  ('105138', 'Roberto Bautista Agut', 16.078095022624435, 'ESP'),\n",
       "  ('208364', 'Franco Roncadelli', nan, 'URU')],\n",
       " 14: [('104467', 'Lamine Ouahab', 528.7692307692307, 'ALG'),\n",
       "  ('104868', 'James Ward', 232.05882352941177, 'GBR'),\n",
       "  ('104978', 'Daniel Brands', 284.2528280542987, 'GER'),\n",
       "  ('105932', 'Nikoloz Basilashvili', 34.24743167420815, 'GEO')],\n",
       " 15: [('109640', 'Andrea Basso', 453.29411764705884, 'ITA'),\n",
       "  ('207797', 'Jonas Forejtek', 431.16, 'CZE'),\n",
       "  ('105227', 'Marin Cilic', 20.065719909502263, 'CRO'),\n",
       "  ('200390', 'Kacper Zuk', 311.38, 'POL')],\n",
       " 16: [('105147', 'Tatsuma Ito', 156.1427447963801, 'JPN'),\n",
       "  ('105842', 'Di Wu', 316.76093514328807, 'CHN'),\n",
       "  ('104925', 'Novak Djokovic', 4.11069185520362, 'SRB')],\n",
       " 17: [('106233', 'Dominic Thiem', 5.275989140271493, 'AUT'),\n",
       "  ('200335', 'Felipe Meligeni Rodrigues Alves', 334.5, 'BRA'),\n",
       "  ('126964', 'Vitaliy Sachko', 527.88, 'UKR')],\n",
       " 18: [('106361', 'Adam Pavlasek', 200.40384615384616, 'CZE'),\n",
       "  ('106043', 'Diego Sebastian Schwartzman', 16.65649004524887, 'ARG')],\n",
       " 19: [('126774', 'Stefanos Tsitsipas', 18.37666153846154, 'GRE'),\n",
       "  ('202195', 'Maxime Cressy', 172.3, 'FRA')],\n",
       " 20: [('126094', 'Andrey Rublev', 44.18625791855204, 'RUS'),\n",
       "  ('106331', 'Christopher Oconnell', 115.9, 'AUS')],\n",
       " 21: [('200670', 'Jeffrey John Wolf', 143.1, 'USA'),\n",
       "  ('106421', 'Daniil Medvedev', 20.165200904977375, 'RUS')],\n",
       " 22: [('104545', 'John Isner', 15.068371040723981, 'USA')],\n",
       " 23: [('100644', 'Alexander Zverev', 5.227398190045249, 'GER')],\n",
       " 24: [('104745', 'Rafael Nadal', 1.6879619909502261, 'ESP')],\n",
       " 25: [('133430', 'Denis Shapovalov', 25.242005429864253, 'CAN')]}"
      ]
     },
     "execution_count": 34,
     "metadata": {},
     "output_type": "execute_result"
    }
   ],
   "source": [
    "#Clauset-Newman-Moore pohlepni algoritam\n",
    "communities = comm.greedy_modularity_communities(G, weight='weight')\n",
    "communities = [list(community) for community in communities]\n",
    "\n",
    "# communities_info = {}\n",
    "# i=0\n",
    "# for community in communities:\n",
    "#     i+=1\n",
    "#     communities_info[i] = get_players_info(community)\n",
    "\n",
    "communities_info = {}\n",
    "for i in range(0,len(communities)):\n",
    "    communities_info[i+1] = get_players_info(communities[i])\n",
    "    \n",
    "communities_info"
   ]
  },
  {
   "cell_type": "markdown",
   "metadata": {},
   "source": [
    "# 10. Sprovesti analizu klasterisanja i asortativnu analizu, pa uporediti grupisanje na osnovu zemlje iz koje igrači dolaze, na osnovu broja mečeva koje igraju i na osnovu rejtinga."
   ]
  },
  {
   "cell_type": "markdown",
   "metadata": {},
   "source": [
    "# Analiza klasterisanja"
   ]
  },
  {
   "cell_type": "code",
   "execution_count": 35,
   "metadata": {},
   "outputs": [
    {
     "name": "stdout",
     "output_type": "stream",
     "text": [
      "Max lokalni cc: 0.16508715292071477\n",
      "Prosečan cc: 0.2920181009831456\n",
      "Lokalni stepeni klasterisanja koji nisu nula:\n"
     ]
    }
   ],
   "source": [
    "#Lokalni koeficijent klasterizacije\n",
    "#računa se kao gustina mreže koju čine posmatrani čvor, njegovi susedi i njihove međusobne veze\n",
    "\n",
    "player_id, clustering_coef = zip(*nx.clustering(G, weight = \"weight\").items())\n",
    "\n",
    "not_zero_cc_players = [(get_player_info(player),cc,degree[1])  for player, cc, degree in zip(player_id, clustering_coef, G.degree(weight='weight')) if cc > 0]\n",
    "not_zero_cc_players = (sorted(not_zero_cc_players, key=lambda element: (element[1]),reverse=True))\n",
    "\n",
    "max_local_clustering_coef = max(clustering_coef)\n",
    "\n",
    "average_clustering_coef = nx.average_clustering(G)\n",
    "\n",
    "print(f\"Max lokalni cc: {max_local_clustering_coef}\")\n",
    "print(f\"Prosečan cc: {average_clustering_coef}\")\n",
    "print(\"Lokalni stepeni klasterisanja koji nisu nula:\")\n",
    "#not_zero_cc_players"
   ]
  },
  {
   "cell_type": "markdown",
   "metadata": {},
   "source": [
    "## Asortativnost "
   ]
  },
  {
   "cell_type": "code",
   "execution_count": 36,
   "metadata": {},
   "outputs": [
    {
     "name": "stdout",
     "output_type": "stream",
     "text": [
      "Koeficijent asortativnosti na osnovu netežinskog stepena čvora: 0.03928911812802142\n",
      "Koeficijent asortativnosti na osnovu težinskog stepena cvora (broja meceva): 0.04884585047228479\n",
      "Koeficijent asortativnosti na osnovu ranka čvora: -0.006009514541495559\n"
     ]
    }
   ],
   "source": [
    "# asortativnost na osnovu netežinskog stepena čvora\n",
    "graph_ass = nx.degree_assortativity_coefficient(G)\n",
    "print(f\"Koeficijent asortativnosti na osnovu netežinskog stepena čvora: {graph_ass}\")\n",
    "\n",
    "# asortativnost na osnovu težinskog stepena čvora\n",
    "graph_weighted_ass = nx.degree_assortativity_coefficient(G, weight='weight')\n",
    "print(f\"Koeficijent asortativnosti na osnovu težinskog stepena cvora (broja meceva): {graph_weighted_ass}\")\n",
    "\n",
    "#Umereno asortativna mreza? - vezivanje cvorova koji su slicni\n",
    "\n",
    "# asortativnost na osnovu ranka\n",
    "graph_rank_ass = nx.attribute_assortativity_coefficient(G, 'rank')\n",
    "print(f\"Koeficijent asortativnosti na osnovu ranka čvora: {graph_rank_ass}\")\n",
    "\n",
    "#U grupe??"
   ]
  },
  {
   "cell_type": "code",
   "execution_count": 37,
   "metadata": {},
   "outputs": [],
   "source": [
    "max_rank = max([rank for (node,rank) in G.nodes(data='rank')])\n",
    "\n",
    "def getRankGroup(rank):\n",
    "    if rank<100:\n",
    "        return 'group100'\n",
    "    if rank<250:\n",
    "        return 'group250'\n",
    "    if rank<500:\n",
    "        return 'group500'\n",
    "    if rank<2000:\n",
    "        return 'group2000'\n",
    "    return 'theLastGroup'\n",
    "\n",
    "def addRankGroupAttributes():\n",
    "    for player in G.nodes():\n",
    "        G.nodes[player]['rank_group']=getRankGroup(G.nodes[player]['rank'])"
   ]
  },
  {
   "cell_type": "code",
   "execution_count": 38,
   "metadata": {},
   "outputs": [
    {
     "name": "stdout",
     "output_type": "stream",
     "text": [
      "Koeficijent asortativnosti na osnovu kategorije ranka čvora: 0.035709571947467114\n"
     ]
    }
   ],
   "source": [
    "addRankGroupAttributes()\n",
    "\n",
    "graph_rank_group_ass = nx.attribute_assortativity_coefficient(G, 'rank_group')\n",
    "print(f\"Koeficijent asortativnosti na osnovu kategorije ranka čvora: {graph_rank_group_ass}\")"
   ]
  },
  {
   "cell_type": "code",
   "execution_count": 39,
   "metadata": {},
   "outputs": [
    {
     "name": "stdout",
     "output_type": "stream",
     "text": [
      "Koeficijent asortativnosti na osnovu drzave: 0.008805603198230606\n"
     ]
    }
   ],
   "source": [
    "# asortativnost na osnovu drzave\n",
    "graph_rank_ass = nx.attribute_assortativity_coefficient(G, 'country_code')\n",
    "print(f\"Koeficijent asortativnosti na osnovu drzave: {graph_rank_ass}\")"
   ]
  },
  {
   "cell_type": "markdown",
   "metadata": {},
   "source": [
    "# 11. U kojoj meri teniseri imaju tendenciju da se susreću sa istim teniserima? Da li na to utiče njihovo rangiranje na ATP listi?\n"
   ]
  },
  {
   "cell_type": "code",
   "execution_count": 40,
   "metadata": {},
   "outputs": [],
   "source": [
    "def plot_num_of_opponents_per_rank(G, xscale = \"linear\", yscale = \"linear\"):\n",
    "     \n",
    "    x=[]\n",
    "    y=[]\n",
    "    for node,rank in G.nodes(data='rank'):\n",
    "        x.append(G.degree(weight='weight')[node]/G.degree[node])\n",
    "        y.append(rank)\n",
    "\n",
    "    plt.xscale(xscale)                                                                                                                \n",
    "    #plt.xlim(1, max(x))  \n",
    "    plt.xlim(1, 2)  \n",
    "\n",
    "    plt.ylabel('rank')  \n",
    "    plt.xlabel('broj meceva/broj protivnika') \n",
    "    plt.yscale(yscale)                                                                                                                \n",
    "    plt.ylim(1, max(y))  \n",
    "                                                                                                                                                                                                    \n",
    "    plt.scatter(x, y, marker='.')                                                                                                    \n",
    "    plt.show()"
   ]
  },
  {
   "cell_type": "code",
   "execution_count": 41,
   "metadata": {
    "scrolled": true
   },
   "outputs": [
    {
     "data": {
      "image/png": "[encoded data removed]",
      "text/plain": [
       "<Figure size 432x288 with 1 Axes>"
      ]
     },
     "metadata": {
      "needs_background": "light"
     },
     "output_type": "display_data"
    }
   ],
   "source": [
    "plot_num_of_opponents_per_rank(G,'linear','log')"
   ]
  },
  {
   "cell_type": "markdown",
   "metadata": {},
   "source": [
    "# 12. Koji teniseri predstavljaju jezgro mreže?\n"
   ]
  },
  {
   "cell_type": "code",
   "execution_count": 42,
   "metadata": {},
   "outputs": [
    {
     "name": "stdout",
     "output_type": "stream",
     "text": [
      "Name: \n",
      "Type: Graph\n",
      "Number of nodes: 75\n",
      "Number of edges: 1714\n",
      "Average degree:  45.7067\n"
     ]
    },
    {
     "data": {
      "text/plain": [
       "0.6176576576576577"
      ]
     },
     "execution_count": 42,
     "metadata": {},
     "output_type": "execute_result"
    }
   ],
   "source": [
    "from networkx.algorithms import core\n",
    "\n",
    "core_graph = core.k_core(G)\n",
    "\n",
    "print(nx.info(core_graph))\n",
    "\n",
    "#da li je 78 od 219 jezgro?\n",
    "core_nodes = [(node,name) for node,name in core_graph.nodes(data='player_name')]\n",
    "\n",
    "#gustina znatno veca!\n",
    "nx.density(core_graph)"
   ]
  },
  {
   "cell_type": "markdown",
   "metadata": {},
   "source": [
    "# 13. Ko su teniseri koji povezuju različite grupe u okviru mreže?"
   ]
  },
  {
   "cell_type": "code",
   "execution_count": 43,
   "metadata": {},
   "outputs": [
    {
     "name": "stdout",
     "output_type": "stream",
     "text": [
      "Teniseri koji povezuju različite grupe u okviru mreže\n"
     ]
    },
    {
     "data": {
      "text/plain": [
       "[(('105077', 'Albert Ramos', 52.329612217194565, 'ESP'), 0.036740127134148745),\n",
       " (('104468', 'Gilles Simon', 47.06257737556562, 'FRA'), 0.03263628848353477),\n",
       " (('105138', 'Roberto Bautista Agut', 16.078095022624435, 'ESP'),\n",
       "  0.029364996777806098),\n",
       " (('111815', 'Cameron Norrie', 72.57646968325793, 'GBR'),\n",
       "  0.028992643039192523),\n",
       " (('105932', 'Nikoloz Basilashvili', 34.24743167420815, 'GEO'),\n",
       "  0.025743892740194285),\n",
       " (('105311', 'Joao Sousa', 59.67759547511313, 'POR'), 0.02342557838310319),\n",
       " (('126203', 'Taylor Harry Fritz', 45.21454977375566, 'USA'),\n",
       "  0.02320380897308363),\n",
       " (('111575', 'Karen Khachanov', 19.687709502262443, 'RUS'),\n",
       "  0.023093977453619335),\n",
       " (('105807', 'Pablo Carreno Busta', 26.75328597285068, 'ESP'),\n",
       "  0.02283516207632118),\n",
       " (('106043', 'Diego Sebastian Schwartzman', 16.65649004524887, 'ARG'),\n",
       "  0.022128804698524622)]"
      ]
     },
     "execution_count": 43,
     "metadata": {},
     "output_type": "execute_result"
    }
   ],
   "source": [
    "betweenness_centralities = [(node, centrality) for node, centrality in nx.betweenness_centrality(G).items()]\n",
    "\n",
    "max_betweenness_centralities = sorted(betweenness_centralities,key=lambda item: item[1], reverse=True)[:10]\n",
    "\n",
    "high_betweenness_centralities_centrality_players = [(get_player_info(player[0]), player[1]) for player in max_betweenness_centralities]\n",
    "\n",
    "print(f\"Teniseri koji povezuju različite grupe u okviru mreže\")\n",
    "high_betweenness_centralities_centrality_players"
   ]
  },
  {
   "cell_type": "markdown",
   "metadata": {},
   "source": [
    "# 14. Kolika je gustina svake od modelovanih mreža?"
   ]
  },
  {
   "cell_type": "code",
   "execution_count": 44,
   "metadata": {},
   "outputs": [
    {
     "data": {
      "text/plain": [
       "0.06430690132489618"
      ]
     },
     "execution_count": 44,
     "metadata": {},
     "output_type": "execute_result"
    }
   ],
   "source": [
    "nx.density(G)"
   ]
  },
  {
   "cell_type": "markdown",
   "metadata": {},
   "source": [
    "# 15. U kojoj meri su mreže povezane i centralizovane?"
   ]
  },
  {
   "cell_type": "code",
   "execution_count": 45,
   "metadata": {},
   "outputs": [
    {
     "data": {
      "text/plain": [
       "0.19068073829805512"
      ]
     },
     "execution_count": 45,
     "metadata": {},
     "output_type": "execute_result"
    }
   ],
   "source": [
    "_,degrees = zip(*G.degree())\n",
    "\n",
    "N=len(degrees)\n",
    "max_degree = max(degrees)\n",
    "\n",
    "#sum(max(x)-x)/(length(x)-1)\n",
    "centralization = float((N*max_degree - sum(degrees)))/(N-1)**2\n",
    "\n",
    "centralization"
   ]
  },
  {
   "cell_type": "code",
   "execution_count": 46,
   "metadata": {},
   "outputs": [],
   "source": [
    "def plot_players_per_centralities_frequency(G, xscale = \"linear\", yscale = \"linear\"):\n",
    "\n",
    "    degree_centralities = [centrality for node, centrality in nx.degree_centrality(G).items()]\n",
    "    centralities_counts = Counter(degree_centralities) #prebrojava, 1, 2, ..        \n",
    "    print(centralities_counts)\n",
    "    #lists = sorted(centralities_counts.items(),key=lambda item: item[1])\n",
    "    x,frequency = zip(*centralities_counts.items())                                                      \n",
    "\n",
    "    fig = plt.figure(1) \n",
    "    plt.xlabel('degree centrality')  \n",
    "    plt.xscale(xscale)                                                                                                                \n",
    "    plt.xlim(0, max(x))  \n",
    "\n",
    "    plt.ylabel('frequency')                                                                                                          \n",
    "    plt.yscale(yscale)                                                                                                                \n",
    "    plt.ylim(1, max(frequency))                                                                                                             \n",
    "                                                                                                                                                                                                    \n",
    "    plt.scatter(x, frequency, marker='.')  \n",
    "    plt.show()   "
   ]
  },
  {
   "cell_type": "code",
   "execution_count": 47,
   "metadata": {},
   "outputs": [
    {
     "name": "stdout",
     "output_type": "stream",
     "text": [
      "Counter({0.002570694087403599: 64, 0.005141388174807198: 43, 0.007712082262210797: 26, 0.012853470437017993: 16, 0.015424164524421594: 16, 0.02313624678663239: 9, 0.010282776349614395: 9, 0.033419023136246784: 8, 0.01799485861182519: 8, 0.038560411311053984: 7, 0.04370179948586118: 6, 0.02056555269922879: 6, 0.07455012853470437: 5, 0.1979434447300771: 5, 0.056555269922879174: 5, 0.2082262210796915: 5, 0.15681233933161953: 5, 0.07197943444730076: 4, 0.12596401028277635: 4, 0.03598971722365038: 4, 0.08997429305912595: 4, 0.04884318766066838: 4, 0.2210796915167095: 4, 0.09768637532133675: 4, 0.04627249357326478: 4, 0.2262210796915167: 3, 0.11053984575835475: 3, 0.05398457583547558: 3, 0.051413881748071974: 3, 0.10539845758354754: 3, 0.15167095115681234: 3, 0.2056555269922879: 3, 0.12339331619537275: 3, 0.06683804627249357: 3, 0.23907455012853468: 3, 0.19023136246786632: 3, 0.2287917737789203: 3, 0.16966580976863752: 3, 0.025706940874035987: 3, 0.1722365038560411: 3, 0.13367609254498714: 3, 0.2005141388174807: 3, 0.04113110539845758: 3, 0.2339331619537275: 2, 0.15424164524421594: 2, 0.18251928020565553: 2, 0.18766066838046272: 2, 0.05912596401028277: 2, 0.14652956298200512: 2, 0.18508997429305912: 2, 0.07712082262210797: 2, 0.16452442159383032: 2, 0.16195372750642673: 2, 0.1799485861182519: 2, 0.14138817480719792: 2, 0.12082262210796914: 2, 0.08226221079691516: 2, 0.06426735218508997: 2, 0.09511568123393316: 2, 0.16709511568123392: 2, 0.028277634961439587: 2, 0.2107969151670951: 1, 0.10282776349614395: 1, 0.2236503856041131: 1, 0.14395886889460152: 1, 0.13624678663239073: 1, 0.10025706940874035: 1, 0.15938303341902313: 1, 0.08740359897172235: 1, 0.12853470437017994: 1, 0.1773778920308483: 1, 0.13881748071979433: 1, 0.1953727506426735: 1, 0.1748071979434447: 1, 0.21336760925449869: 1, 0.2185089974293059: 1, 0.14910025706940874: 1, 0.06940874035989716: 1, 0.2030848329048843: 1, 0.030848329048843187: 1, 0.2493573264781491: 1, 0.10796915167095116: 1, 0.11825192802056554: 1, 0.24421593830334187: 1, 0.25449871465295626: 1, 0.061696658097686374: 1})\n"
     ]
    },
    {
     "data": {
      "image/png": "[encoded data removed]",
      "text/plain": [
       "<Figure size 432x288 with 1 Axes>"
      ]
     },
     "metadata": {
      "needs_background": "light"
     },
     "output_type": "display_data"
    }
   ],
   "source": [
    "#ako ima nekoliko koji se izdvajaju sa velikom centralnoscu - centralizovan\n",
    "#nas nije\n",
    "plot_players_per_centralities_frequency(G)"
   ]
  },
  {
   "cell_type": "code",
   "execution_count": 48,
   "metadata": {},
   "outputs": [
    {
     "name": "stdout",
     "output_type": "stream",
     "text": [
      "1\n",
      "1\n"
     ]
    }
   ],
   "source": [
    "# returns number of nodes to be removed \n",
    "# so that Graph becomes disconnected \n",
    "print(nx.node_connectivity(G)) \n",
    "  \n",
    "# returns number of edges to be removed \n",
    "# so that Graph becomes disconnected \n",
    "print(nx.edge_connectivity(G))\n",
    "\n",
    "#treba mnogo vremena!!!\n",
    "#nx.average_node_connectivity(G)"
   ]
  },
  {
   "cell_type": "markdown",
   "metadata": {},
   "source": [
    "# 16. Koje su prosečne distance, a koliki dijametar u okviru modelovanih mreža?"
   ]
  },
  {
   "cell_type": "code",
   "execution_count": 49,
   "metadata": {},
   "outputs": [
    {
     "name": "stdout",
     "output_type": "stream",
     "text": [
      "Prosecna distanca: 2.5101179882670883\n",
      "Dijametar: 6\n"
     ]
    }
   ],
   "source": [
    "#ovoga vise nema kad smo izbacili Davis Cup!\n",
    "# for g in [G.subgraph(c) for c in nx.connected_components(G)]: \n",
    "#     if len(g.nodes())<=4:\n",
    "#         small_components=get_players_info(g.nodes())\n",
    "#     if len(g.nodes())==19:\n",
    "#         one_bigger_component=getPlayersInfo(g.nodes())\n",
    "        \n",
    "if nx.is_connected(G):\n",
    "    print(f'Prosecna distanca: {(nx.average_shortest_path_length(G))}')\n",
    "    print(f'Dijametar: {nx.diameter(G)}')"
   ]
  },
  {
   "cell_type": "markdown",
   "metadata": {},
   "source": [
    "# 17. Kakva je distribucija čvorova po stepenu i da li prati neku zakonomernost? Kako je stepen čvora korelisan sa rejtingom tenisera?"
   ]
  },
  {
   "cell_type": "code",
   "execution_count": 50,
   "metadata": {},
   "outputs": [
    {
     "name": "stdout",
     "output_type": "stream",
     "text": [
      "Counter({1: 64, 2: 43, 3: 26, 5: 16, 6: 16, 9: 9, 4: 9, 13: 8, 7: 8, 15: 7, 17: 6, 8: 6, 29: 5, 77: 5, 22: 5, 81: 5, 61: 5, 28: 4, 49: 4, 14: 4, 35: 4, 19: 4, 86: 4, 38: 4, 18: 4, 88: 3, 43: 3, 21: 3, 20: 3, 41: 3, 59: 3, 80: 3, 48: 3, 26: 3, 93: 3, 74: 3, 89: 3, 66: 3, 10: 3, 67: 3, 52: 3, 78: 3, 16: 3, 91: 2, 60: 2, 71: 2, 73: 2, 23: 2, 57: 2, 72: 2, 30: 2, 64: 2, 63: 2, 70: 2, 55: 2, 47: 2, 32: 2, 25: 2, 37: 2, 65: 2, 11: 2, 82: 1, 40: 1, 87: 1, 56: 1, 53: 1, 39: 1, 62: 1, 34: 1, 50: 1, 69: 1, 54: 1, 76: 1, 68: 1, 83: 1, 85: 1, 58: 1, 27: 1, 79: 1, 12: 1, 97: 1, 42: 1, 46: 1, 95: 1, 99: 1, 24: 1})\n"
     ]
    },
    {
     "data": {
      "image/png": "[encoded data removed]",
      "text/plain": [
       "<Figure size 432x288 with 1 Axes>"
      ]
     },
     "metadata": {
      "needs_background": "light"
     },
     "output_type": "display_data"
    }
   ],
   "source": [
    "plot_deg_frequency(G, weighted=False)"
   ]
  },
  {
   "cell_type": "code",
   "execution_count": 51,
   "metadata": {},
   "outputs": [],
   "source": [
    "def plot_deg_distribution(G, weighted=False, xscale = \"log\", yscale = \"log\"):\n",
    "\n",
    "    if weighted:\n",
    "        degrees = G.degree(weight=\"weight\")\n",
    "    else:\n",
    "        degrees = G.degree()\n",
    "    _, deg_list = zip(*degrees)    #unzip\n",
    "    deg_counts = Counter(deg_list) #prebrojava, 1, 2, ..        \n",
    "    print(deg_counts)\n",
    "    degree, frequency = zip(*deg_counts.items())                                                      \n",
    "\n",
    "    fig = plt.figure(1)\n",
    "    plt.ylabel('degree')\n",
    "    plt.ylabel('Broj cvorova')\n",
    "    ax = fig.add_axes([0,0,1,1])\n",
    "    ax.bar(degree,frequency)\n",
    "    plt.show()"
   ]
  },
  {
   "cell_type": "code",
   "execution_count": 52,
   "metadata": {},
   "outputs": [
    {
     "name": "stdout",
     "output_type": "stream",
     "text": [
      "Counter({1: 64, 2: 43, 3: 26, 5: 16, 6: 16, 9: 9, 4: 9, 13: 8, 7: 8, 15: 7, 17: 6, 8: 6, 29: 5, 77: 5, 22: 5, 81: 5, 61: 5, 28: 4, 49: 4, 14: 4, 35: 4, 19: 4, 86: 4, 38: 4, 18: 4, 88: 3, 43: 3, 21: 3, 20: 3, 41: 3, 59: 3, 80: 3, 48: 3, 26: 3, 93: 3, 74: 3, 89: 3, 66: 3, 10: 3, 67: 3, 52: 3, 78: 3, 16: 3, 91: 2, 60: 2, 71: 2, 73: 2, 23: 2, 57: 2, 72: 2, 30: 2, 64: 2, 63: 2, 70: 2, 55: 2, 47: 2, 32: 2, 25: 2, 37: 2, 65: 2, 11: 2, 82: 1, 40: 1, 87: 1, 56: 1, 53: 1, 39: 1, 62: 1, 34: 1, 50: 1, 69: 1, 54: 1, 76: 1, 68: 1, 83: 1, 85: 1, 58: 1, 27: 1, 79: 1, 12: 1, 97: 1, 42: 1, 46: 1, 95: 1, 99: 1, 24: 1})\n"
     ]
    },
    {
     "data": {
      "image/png": "[encoded data removed]",
      "text/plain": [
       "<Figure size 432x288 with 2 Axes>"
      ]
     },
     "metadata": {
      "needs_background": "light"
     },
     "output_type": "display_data"
    }
   ],
   "source": [
    "plot_deg_distribution(G)\n",
    "#plot_deg_distribution(G, weighted=True)"
   ]
  },
  {
   "cell_type": "code",
   "execution_count": 53,
   "metadata": {},
   "outputs": [],
   "source": [
    "def plot_rank_degree(G, weight=True, xscale = \"log\", yscale = \"log\"):\n",
    "\n",
    "    if (weight):\n",
    "        rank_degree = [(rank,G.degree(weight='weight')[node]) for node,rank in G.nodes(data='rank')]\n",
    "    else:\n",
    "        rank_degree = [(rank,G.degree()[node]) for node,rank in G.nodes(data='rank')]\n",
    "    rank, degree = zip(*rank_degree)                                                      \n",
    "\n",
    "    plt.figure(1)   \n",
    "\n",
    "    # prep axes   \n",
    "    plt.xlabel('rank')                                                                                                             \n",
    "    plt.xscale(xscale)                                                                                                                \n",
    "    plt.xlim(1, max(rank))  \n",
    "\n",
    "    plt.ylabel('degree')                                                                                                          \n",
    "    plt.yscale(yscale)                                                                                                                \n",
    "    plt.ylim(1, max(degree))                                                                                                             \n",
    "                                                                                                                                                                                                    \n",
    "    plt.scatter(rank, degree, marker='.')                                                                                                    \n",
    "    plt.show()"
   ]
  },
  {
   "cell_type": "code",
   "execution_count": 54,
   "metadata": {
    "scrolled": false
   },
   "outputs": [
    {
     "data": {
      "image/png": "[encoded data removed]",
      "text/plain": [
       "<Figure size 432x288 with 1 Axes>"
      ]
     },
     "metadata": {
      "needs_background": "light"
     },
     "output_type": "display_data"
    }
   ],
   "source": [
    "plot_rank_degree(G)"
   ]
  },
  {
   "cell_type": "markdown",
   "metadata": {},
   "source": [
    "# 18. Da li u mreži postoje habovi i koji su? "
   ]
  },
  {
   "cell_type": "code",
   "execution_count": 55,
   "metadata": {},
   "outputs": [
    {
     "data": {
      "text/plain": [
       "[(('126774', 'Stefanos Tsitsipas', 18.37666153846154, 'GRE'),\n",
       "  0.01798627924621419),\n",
       " (('104925', 'Novak Djokovic', 4.11069185520362, 'SRB'), 0.017222334238052195),\n",
       " (('106421', 'Daniil Medvedev', 20.165200904977375, 'RUS'),\n",
       "  0.016328986046245483),\n",
       " (('106233', 'Dominic Thiem', 5.275989140271493, 'AUT'), 0.016231034503788277),\n",
       " (('100644', 'Alexander Zverev', 5.227398190045249, 'GER'),\n",
       "  0.0158386640293685),\n",
       " (('104745', 'Rafael Nadal', 1.6879619909502261, 'ESP'), 0.014212397831846304),\n",
       " (('106043', 'Diego Sebastian Schwartzman', 16.65649004524887, 'ARG'),\n",
       "  0.013104752777131183),\n",
       " (('133430', 'Denis Shapovalov', 25.242005429864253, 'CAN'),\n",
       "  0.012875783452313636),\n",
       " (('103819', 'Roger Federer', 3.171956108597285, 'SUI'), 0.012551526701270072),\n",
       " (('111575', 'Karen Khachanov', 19.687709502262443, 'RUS'),\n",
       "  0.012076127995941951)]"
      ]
     },
     "execution_count": 55,
     "metadata": {},
     "output_type": "execute_result"
    }
   ],
   "source": [
    "hubs,authorities = nx.hits(G)\n",
    "\n",
    "high_hubs_players = [(get_player_info(node), h) for node,h in sorted(hubs.items(), key=lambda element: (element[1]),reverse=True)][:10]\n",
    "\n",
    "high_hubs_players\n",
    "\n",
    "#moze i eigen_vector"
   ]
  },
  {
   "cell_type": "markdown",
   "metadata": {},
   "source": [
    "# 19. Da li mreža tenisera iskazuje osobine malog sveta?\n",
    "A small world network is characterized by a small average shortest path length, and a large clustering coefficient.\n",
    "\n",
    "Small-worldness is commonly measured with the coefficient sigma or omega.\n",
    "\n",
    "Both coefficients compare the average clustering coefficient and shortest path length of a given graph against the same quantities for an equivalent random or lattice graph."
   ]
  },
  {
   "cell_type": "code",
   "execution_count": 56,
   "metadata": {},
   "outputs": [],
   "source": [
    "# #sigma>1\n",
    "# sigma = nx.sigma(G)\n",
    "\n",
    "# #~0\n",
    "# omega = nx.omega(G)"
   ]
  },
  {
   "cell_type": "markdown",
   "metadata": {},
   "source": [
    "# 20. Kakve su karakteristike ego mreža članova Velike trojke? U kojoj meri se te karakteristike razlikuju?"
   ]
  },
  {
   "cell_type": "code",
   "execution_count": 57,
   "metadata": {},
   "outputs": [],
   "source": [
    "def get_average_ranks(G):\n",
    "    ranks = [rank for node,rank in G.nodes(data='rank')]\n",
    "    return sum(ranks)/len(ranks)"
   ]
  },
  {
   "cell_type": "code",
   "execution_count": 58,
   "metadata": {},
   "outputs": [
    {
     "name": "stdout",
     "output_type": "stream",
     "text": [
      "Novakova ego mreza : Name: \n",
      "Type: Graph\n",
      "Number of nodes: 81\n",
      "Number of edges: 1294\n",
      "Average degree:  31.9506\n",
      "Prosecan tezinski stepen : 53.82716049382716\n",
      "Gustina mreze : 0.3993827160493827\n",
      "Prosecan rank tenisera mreze : 73.14590409288124\n",
      "Degree centrality : [1.0]\n",
      "Eigenvector centrality : [0.21077147584312816]\n",
      "\n",
      "\n",
      "Nadalova ego mreza : Name: \n",
      "Type: Graph\n",
      "Number of nodes: 81\n",
      "Number of edges: 1356\n",
      "Average degree:  33.4815\n",
      "Prosecan tezinski stepen : 54.19753086419753\n",
      "Gustina mreze : 0.4185185185185185\n",
      "Prosecan rank tenisera mreze : 83.17761398804538\n",
      "Degree centrality : [1.0]\n",
      "Eigenvector centrality : [0.20811192815602284]\n",
      "\n",
      "\n",
      "Federerova ego mreza : Name: \n",
      "Type: Graph\n",
      "Number of nodes: 75\n",
      "Number of edges: 1366\n",
      "Average degree:  36.4267\n",
      "Prosecan tezinski stepen : 61.12\n",
      "Gustina mreze : 0.4922522522522523\n",
      "Prosecan rank tenisera mreze : 64.01125075917545\n",
      "Degree centrality : [1.0]\n",
      "Eigenvector centrality : [0.1991820839259091]\n"
     ]
    }
   ],
   "source": [
    "novak_id = get_player_by_name(\"Novak Djokovic\")\n",
    "rafa_id = get_player_by_name(\"Rafael Nadal\")\n",
    "federer_id = get_player_by_name(\"Roger Federer\")\n",
    "\n",
    "novak_ego_graph = nx.ego_graph(G,novak_id)\n",
    "print(f\"Novakova ego mreza : {nx.info(novak_ego_graph)}\")\n",
    "print(f\"Prosecan tezinski stepen : {get_average_weighted_degree(novak_ego_graph)}\")\n",
    "print(f\"Gustina mreze : {nx.density(novak_ego_graph)}\")\n",
    "print(f\"Prosecan rank tenisera mreze : {get_average_ranks(novak_ego_graph)}\")\n",
    "novak_degree_centrality = [centrality for node, centrality in nx.degree_centrality(novak_ego_graph).items() if node==novak_id]\n",
    "novak_eigenvector_centrality = [centrality for node, centrality in nx.eigenvector_centrality(novak_ego_graph).items() if node==novak_id]\n",
    "print(f\"Degree centrality : {novak_degree_centrality}\")\n",
    "print(f\"Eigenvector centrality : {novak_eigenvector_centrality}\")\n",
    "print(\"\\n\")\n",
    "\n",
    "rafa_ego_graph = nx.ego_graph(G,rafa_id)\n",
    "print(f\"Nadalova ego mreza : {nx.info(rafa_ego_graph)}\")\n",
    "print(f\"Prosecan tezinski stepen : {get_average_weighted_degree(rafa_ego_graph)}\")\n",
    "print(f\"Gustina mreze : {nx.density(rafa_ego_graph)}\")\n",
    "print(f\"Prosecan rank tenisera mreze : {get_average_ranks(rafa_ego_graph)}\")\n",
    "rafa_degree_centrality = [centrality for node, centrality in nx.degree_centrality(rafa_ego_graph).items() if node==rafa_id]\n",
    "rafa_eigenvector_centrality = [centrality for node, centrality in nx.eigenvector_centrality(rafa_ego_graph).items() if node==rafa_id]\n",
    "print(f\"Degree centrality : {rafa_degree_centrality}\")\n",
    "print(f\"Eigenvector centrality : {rafa_eigenvector_centrality}\")\n",
    "print(\"\\n\")\n",
    "\n",
    "federer_ego_graph = nx.ego_graph(G,federer_id)\n",
    "print(f\"Federerova ego mreza : {nx.info(federer_ego_graph)}\")\n",
    "print(f\"Prosecan tezinski stepen : {get_average_weighted_degree(federer_ego_graph)}\")\n",
    "print(f\"Gustina mreze : {nx.density(federer_ego_graph)}\")\n",
    "print(f\"Prosecan rank tenisera mreze : {get_average_ranks(federer_ego_graph)}\")\n",
    "federer_degree_centrality = [centrality for node, centrality in nx.degree_centrality(federer_ego_graph).items() if node==federer_id]\n",
    "federer_eigenvector_centrality = [centrality for node, centrality in nx.eigenvector_centrality(federer_ego_graph).items() if node==federer_id]\n",
    "print(f\"Degree centrality : {federer_degree_centrality}\")\n",
    "print(f\"Eigenvector centrality : {federer_eigenvector_centrality}\")"
   ]
  },
  {
   "cell_type": "code",
   "execution_count": 59,
   "metadata": {},
   "outputs": [
    {
     "name": "stdout",
     "output_type": "stream",
     "text": [
      "Novak i Rafa: 41\n",
      " [('105223', 'Juan Martin Del Potro', 22.905165912518854, 'ARG'), ('105936', 'Filip Krajinovic', 47.83839004524887, 'SRB'), ('105023', 'Sam Querrey', 43.17985610859729, 'USA'), ('106148', 'Roberto Carballes Baena', 87.71690678733032, 'ESP'), ('111575', 'Karen Khachanov', 19.687709502262443, 'RUS'), ('103819', 'Roger Federer', 3.171956108597285, 'SUI'), ('104527', 'Stanislas Wawrinka', 41.23290226244344, 'SUI'), ('105777', 'Grigor Dimitrov', 22.150169230769233, 'BUL'), ('104925', 'Novak Djokovic', 4.11069185520362, 'SRB'), ('126203', 'Taylor Harry Fritz', 45.21454977375566, 'USA'), ('104871', 'Jeremy Chardy', 59.5815113122172, 'FRA'), ('111202', 'Hyeon Chung', 73.79128959276018, 'KOR'), ('100644', 'Alexander Zverev', 5.227398190045249, 'GER'), ('105227', 'Marin Cilic', 20.065719909502263, 'CRO'), ('104792', 'Gael Monfils', 21.95124343891403, 'FRA'), ('106043', 'Diego Sebastian Schwartzman', 16.65649004524887, 'ARG'), ('105173', 'Adrian Mannarino', 40.37171266968326, 'FRA'), ('106228', 'Juan Ignacio Londero', 111.37689004524889, 'ARG'), ('133430', 'Denis Shapovalov', 25.242005429864253, 'CAN'), ('104755', 'Richard Gasquet', 41.12044841628959, 'FRA'), ('126610', 'Matteo Berrettini', 41.39004253393666, 'ITA'), ('105373', 'Martin Klizan', 107.784692760181, 'SVK'), ('105332', 'Benoit Paire', 38.41933936651584, 'FRA'), ('105807', 'Pablo Carreno Busta', 26.75328597285068, 'ESP'), ('105311', 'Joao Sousa', 59.67759547511313, 'POR'), ('105138', 'Roberto Bautista Agut', 16.078095022624435, 'ESP'), ('104269', 'Fernando Verdasco', 40.377908144796386, 'ESP'), ('105357', 'John Millman', 54.18507963800905, 'AUS'), ('106233', 'Dominic Thiem', 5.275989140271493, 'AUT'), ('104542', 'Jo Wilfried Tsonga', 74.10868099547513, 'FRA'), ('106415', 'Yoshihito Nishioka', 108.88262443438914, 'JPN'), ('104745', 'Rafael Nadal', 1.6879619909502261, 'ESP'), ('105453', 'Kei Nishikori', 18.846465158371043, 'JPN'), ('105526', 'Jan Lennard Struff', 44.987183710407244, 'GER'), ('106421', 'Daniil Medvedev', 20.165200904977375, 'RUS'), ('106000', 'Damir Dzumhur', 70.30078280542986, 'BIH'), ('105583', 'Dusan Lajovic', 42.92922352941177, 'SRB'), ('105643', 'Federico Delbonis', 77.75718823529412, 'ARG'), ('105932', 'Nikoloz Basilashvili', 34.24743167420815, 'GEO'), ('105676', 'David Goffin', 14.301225791855204, 'BEL'), ('126774', 'Stefanos Tsitsipas', 18.37666153846154, 'GRE')]\n",
      "\n",
      "\n",
      "Novak i Federer: 49\n",
      " [('105223', 'Juan Martin Del Potro', 22.905165912518854, 'ARG'), ('105936', 'Filip Krajinovic', 47.83839004524887, 'SRB'), ('106045', 'Denis Kudla', 102.38748325791856, 'USA'), ('103819', 'Roger Federer', 3.171956108597285, 'SUI'), ('106432', 'Borna Coric', 24.224990045248866, 'CRO'), ('104527', 'Stanislas Wawrinka', 41.23290226244344, 'SUI'), ('106378', 'Kyle Edmund', 34.41413800904977, 'GBR'), ('104545', 'John Isner', 15.068371040723981, 'USA'), ('105777', 'Grigor Dimitrov', 22.150169230769233, 'BUL'), ('104925', 'Novak Djokovic', 4.11069185520362, 'SRB'), ('104731', 'Kevin Anderson', 44.19198054298643, 'RSA'), ('104871', 'Jeremy Chardy', 59.5815113122172, 'FRA'), ('126203', 'Taylor Harry Fritz', 45.21454977375566, 'USA'), ('111202', 'Hyeon Chung', 73.79128959276018, 'KOR'), ('100644', 'Alexander Zverev', 5.227398190045249, 'GER'), ('105227', 'Marin Cilic', 20.065719909502263, 'CRO'), ('104792', 'Gael Monfils', 21.95124343891403, 'FRA'), ('105173', 'Adrian Mannarino', 40.37171266968326, 'FRA'), ('105916', 'Marton Fucsovics', 57.792638461538466, 'HUN'), ('106228', 'Juan Ignacio Londero', 111.37689004524889, 'ARG'), ('133430', 'Denis Shapovalov', 25.242005429864253, 'CAN'), ('104755', 'Richard Gasquet', 41.12044841628959, 'FRA'), ('126610', 'Matteo Berrettini', 41.39004253393666, 'ITA'), ('105077', 'Albert Ramos', 52.329612217194565, 'ESP'), ('105332', 'Benoit Paire', 38.41933936651584, 'FRA'), ('105449', 'Steve Johnson', 58.98124796380091, 'USA'), ('128034', 'Hubert Hurkacz', 75.82416199095023, 'POL'), ('104269', 'Fernando Verdasco', 40.377908144796386, 'ESP'), ('105138', 'Roberto Bautista Agut', 16.078095022624435, 'ESP'), ('105311', 'Joao Sousa', 59.67759547511313, 'POR'), ('105683', 'Milos Raonic', 23.89921945701358, 'CAN'), ('105357', 'John Millman', 54.18507963800905, 'AUS'), ('106415', 'Yoshihito Nishioka', 108.88262443438914, 'JPN'), ('106233', 'Dominic Thiem', 5.275989140271493, 'AUT'), ('104542', 'Jo Wilfried Tsonga', 74.10868099547513, 'FRA'), ('104745', 'Rafael Nadal', 1.6879619909502261, 'ESP'), ('105453', 'Kei Nishikori', 18.846465158371043, 'JPN'), ('105526', 'Jan Lennard Struff', 44.987183710407244, 'GER'), ('132283', 'Lorenzo Sonego', 84.6384669683258, 'ITA'), ('106421', 'Daniil Medvedev', 20.165200904977375, 'RUS'), ('106298', 'Lucas Pouille', 22.614064856711916, 'FRA'), ('105583', 'Dusan Lajovic', 42.92922352941177, 'SRB'), ('106000', 'Damir Dzumhur', 70.30078280542986, 'BIH'), ('134770', 'Casper Ruud', 86.81650407239819, 'NOR'), ('105815', 'Tennys Sandgren', 65.9544076923077, 'USA'), ('105643', 'Federico Delbonis', 77.75718823529412, 'ARG'), ('105676', 'David Goffin', 14.301225791855204, 'BEL'), ('104259', 'Philipp Kohlschreiber', 55.94599592760181, 'GER'), ('126774', 'Stefanos Tsitsipas', 18.37666153846154, 'GRE')]\n",
      "\n",
      "\n",
      "Federer i Rafa: 46\n",
      " [('104999', 'Mischa Zverev', 161.51109592760181, 'GER'), ('200282', 'Alex De Minaur', 45.0429628959276, 'AUS'), ('105223', 'Juan Martin Del Potro', 22.905165912518854, 'ARG'), ('105936', 'Filip Krajinovic', 47.83839004524887, 'SRB'), ('105051', 'Matthew Ebden', 86.79619155354449, 'AUS'), ('103819', 'Roger Federer', 3.171956108597285, 'SUI'), ('126094', 'Andrey Rublev', 44.18625791855204, 'RUS'), ('104527', 'Stanislas Wawrinka', 41.23290226244344, 'SUI'), ('106401', 'Nick Kyrgios', 33.69977239819005, 'AUS'), ('105554', 'Daniel Evans', 186.74185475113126, 'GBR'), ('105777', 'Grigor Dimitrov', 22.150169230769233, 'BUL'), ('104925', 'Novak Djokovic', 4.11069185520362, 'SRB'), ('126203', 'Taylor Harry Fritz', 45.21454977375566, 'USA'), ('105550', 'Guido Pella', 42.70807285067873, 'ARG'), ('104871', 'Jeremy Chardy', 59.5815113122172, 'FRA'), ('105379', 'Aljaz Bedene', 66.3123660633484, 'SLO'), ('111202', 'Hyeon Chung', 73.79128959276018, 'KOR'), ('100644', 'Alexander Zverev', 5.227398190045249, 'GER'), ('105227', 'Marin Cilic', 20.065719909502263, 'CRO'), ('104792', 'Gael Monfils', 21.95124343891403, 'FRA'), ('105173', 'Adrian Mannarino', 40.37171266968326, 'FRA'), ('106423', 'Thanasi Kokkinakis', 177.77620663650075, 'AUS'), ('106228', 'Juan Ignacio Londero', 111.37689004524889, 'ARG'), ('133430', 'Denis Shapovalov', 25.242005429864253, 'CAN'), ('104755', 'Richard Gasquet', 41.12044841628959, 'FRA'), ('104926', 'Fabio Fognini', 14.026312669683257, 'ITA'), ('126610', 'Matteo Berrettini', 41.39004253393666, 'ITA'), ('105332', 'Benoit Paire', 38.41933936651584, 'FRA'), ('104607', 'Tomas Berdych', 68.98557692307692, 'CZE'), ('104269', 'Fernando Verdasco', 40.377908144796386, 'ESP'), ('105138', 'Roberto Bautista Agut', 16.078095022624435, 'ESP'), ('104919', 'Leonardo Mayer', 77.46373800904978, 'ARG'), ('105311', 'Joao Sousa', 59.67759547511313, 'POR'), ('105357', 'John Millman', 54.18507963800905, 'AUS'), ('106415', 'Yoshihito Nishioka', 108.88262443438914, 'JPN'), ('106233', 'Dominic Thiem', 5.275989140271493, 'AUT'), ('104542', 'Jo Wilfried Tsonga', 74.10868099547513, 'FRA'), ('104745', 'Rafael Nadal', 1.6879619909502261, 'ESP'), ('105453', 'Kei Nishikori', 18.846465158371043, 'JPN'), ('105526', 'Jan Lennard Struff', 44.987183710407244, 'GER'), ('106421', 'Daniil Medvedev', 20.165200904977375, 'RUS'), ('106000', 'Damir Dzumhur', 70.30078280542986, 'BIH'), ('105583', 'Dusan Lajovic', 42.92922352941177, 'SRB'), ('105643', 'Federico Delbonis', 77.75718823529412, 'ARG'), ('105676', 'David Goffin', 14.301225791855204, 'BEL'), ('126774', 'Stefanos Tsitsipas', 18.37666153846154, 'GRE')]\n"
     ]
    }
   ],
   "source": [
    "novak_nodes = set(novak_ego_graph.nodes())\n",
    "rafa_nodes = set(rafa_ego_graph.nodes())\n",
    "federer_nodes = set(federer_ego_graph.nodes())\n",
    "\n",
    "novak_rafa_node = novak_nodes.intersection(rafa_nodes)\n",
    "novak_federer_node = novak_nodes.intersection(federer_nodes)\n",
    "rafa_federer_node = rafa_nodes.intersection(federer_nodes)\n",
    "\n",
    "print(f\"Novak i Rafa: {len(novak_rafa_node)}\")\n",
    "print(f\" {get_players_info(novak_rafa_node)}\")\n",
    "print(\"\\n\")\n",
    "print(f\"Novak i Federer: {len(novak_federer_node)}\")\n",
    "print(f\" {get_players_info(novak_federer_node)}\")\n",
    "print(\"\\n\")\n",
    "print(f\"Federer i Rafa: {len(rafa_federer_node)}\")\n",
    "print(f\" {get_players_info(rafa_federer_node)}\")"
   ]
  },
  {
   "cell_type": "markdown",
   "metadata": {},
   "source": [
    "# 21. Kakva je pozicija ego čvora u svakoj od ego mreža? Kako su oni strukturno ugrađeni u mrežu?"
   ]
  },
  {
   "cell_type": "code",
   "execution_count": 60,
   "metadata": {},
   "outputs": [
    {
     "name": "stdout",
     "output_type": "stream",
     "text": [
      "Procenat Novakovih veza = 6.182380216383308\n",
      "Procenat Nadalovih veza = 5.899705014749262\n",
      "Procenat Federerovih veza = 5.7187017001545595\n"
     ]
    }
   ],
   "source": [
    "novak_edges = [edge for edge in novak_ego_graph.edges(nbunch=novak_id)]\n",
    "edges = novak_ego_graph.edges()\n",
    "\n",
    "print(f\"Procenat Novakovih veza = {len(novak_edges)*100/len(edges)}\")\n",
    "\n",
    "rafa_edges = [edge for edge in rafa_ego_graph.edges(nbunch=rafa_id)]\n",
    "edges = rafa_ego_graph.edges()\n",
    "\n",
    "print(f\"Procenat Nadalovih veza = {len(rafa_edges)*100/len(edges)}\")\n",
    "\n",
    "federer_edges = [edge for edge in federer_ego_graph.edges(nbunch=federer_id)]\n",
    "edges = novak_ego_graph.edges()\n",
    "\n",
    "print(f\"Procenat Federerovih veza = {len(federer_edges)*100/len(edges)}\")"
   ]
  },
  {
   "cell_type": "markdown",
   "metadata": {},
   "source": [
    "# 22. Kako su posmatrane ego mreže ugrađene u mrežu tenisera?"
   ]
  },
  {
   "cell_type": "code",
   "execution_count": 61,
   "metadata": {},
   "outputs": [
    {
     "name": "stdout",
     "output_type": "stream",
     "text": [
      "Procenat Novakovih veza u ego i obicnoj mrezi = 26.527265272652727\n",
      "Procenat Novakovih suparnika u obicnoj mrezi = 20.76923076923077\n"
     ]
    }
   ],
   "source": [
    "novak_ego_edges = [edge for edge in novak_ego_graph.edges()]\n",
    "edges = [edge for edge in G.edges()]\n",
    "\n",
    "print(f\"Procenat Novakovih veza u ego i obicnoj mrezi = {len(novak_ego_edges)*100/len(edges)}\")\n",
    "print(f\"Procenat Novakovih suparnika u obicnoj mrezi = {len(novak_nodes)*100/len(G.nodes())}\")"
   ]
  },
  {
   "cell_type": "code",
   "execution_count": 62,
   "metadata": {},
   "outputs": [
    {
     "name": "stdout",
     "output_type": "stream",
     "text": [
      "Procenat Nadalovih veza u ego i obicnoj mrezi = 27.798277982779826\n",
      "Procenat Nadalovih suparnika u obicnoj mrezi = 20.76923076923077\n"
     ]
    }
   ],
   "source": [
    "rafa_ego_edges = [edge for edge in rafa_ego_graph.edges()]\n",
    "edges = [edge for edge in G.edges()]\n",
    "\n",
    "print(f\"Procenat Nadalovih veza u ego i obicnoj mrezi = {len(rafa_ego_edges)*100/len(edges)}\")\n",
    "print(f\"Procenat Nadalovih suparnika u obicnoj mrezi = {len(rafa_nodes)*100/len(G.nodes())}\")"
   ]
  },
  {
   "cell_type": "code",
   "execution_count": 63,
   "metadata": {},
   "outputs": [
    {
     "name": "stdout",
     "output_type": "stream",
     "text": [
      "Procenat Federerovih veza u ego i obicnoj mrezi = 28.00328003280033\n",
      "Procenat Federerovih suparnika u obicnoj mrezi = 19.23076923076923\n"
     ]
    }
   ],
   "source": [
    "federer_ego_edges = [edge for edge in federer_ego_graph.edges()]\n",
    "edges = [edge for edge in G.edges()]\n",
    "\n",
    "print(f\"Procenat Federerovih veza u ego i obicnoj mrezi = {len(federer_ego_edges)*100/len(edges)}\")\n",
    "print(f\"Procenat Federerovih suparnika u obicnoj mrezi = {len(federer_nodes)*100/len(G.nodes())}\")"
   ]
  },
  {
   "cell_type": "code",
   "execution_count": 64,
   "metadata": {},
   "outputs": [
    {
     "data": {
      "text/plain": [
       "True"
      ]
     },
     "execution_count": 64,
     "metadata": {},
     "output_type": "execute_result"
    }
   ],
   "source": [
    "ugo_id = get_player_by_name('Ugo Humbert')\n",
    "ugo_id in novak_nodes"
   ]
  },
  {
   "cell_type": "code",
   "execution_count": null,
   "metadata": {},
   "outputs": [],
   "source": []
  },
  {
   "cell_type": "markdown",
   "metadata": {},
   "source": [
    "# 23. Analizirati mrežu dobijenu unifikacijom ego mreža članova Velike trojke.\n",
    "## Koji procenat čvorova mreže svih tenisera učestvuje u njoj?\n",
    "## Sprovesti klasterisanje ovako dobijene mreže na tri klastera i na osnovu dobijenih rezultata dati interpretaciju kriterijuma pripadnosti klasterima.\n"
   ]
  },
  {
   "cell_type": "code",
   "execution_count": 65,
   "metadata": {},
   "outputs": [
    {
     "name": "stdout",
     "output_type": "stream",
     "text": [
      "Unificirana mreza : Name: \n",
      "Type: Graph\n",
      "Number of nodes: 135\n",
      "Number of edges: 2508\n",
      "Average degree:  37.1556\n",
      "Prosecan tezinski stepen : 57.614814814814814\n",
      "Gustina mreze : 0.27728026533996686\n",
      "Prosecan rank tenisera mreze : 93.70733423942798\n"
     ]
    }
   ],
   "source": [
    "all_edges = set(novak_ego_edges).union(set(rafa_ego_edges)).union(set(federer_ego_edges))\n",
    "\n",
    "u = G.edge_subgraph(all_edges)\n",
    "print(f\"Unificirana mreza : {nx.info(u)}\")\n",
    "print(f\"Prosecan tezinski stepen : {get_average_weighted_degree(u)}\")\n",
    "print(f\"Gustina mreze : {nx.density(u)}\")\n",
    "print(f\"Prosecan rank tenisera mreze : {get_average_ranks(u)}\")"
   ]
  },
  {
   "cell_type": "code",
   "execution_count": 66,
   "metadata": {},
   "outputs": [
    {
     "name": "stdout",
     "output_type": "stream",
     "text": [
      "Procenat cvorova u unificirano mrezi = 34.61538461538461\n"
     ]
    }
   ],
   "source": [
    "print(f\"Procenat cvorova u unificirano mrezi = {len(u.nodes())*100/len(G.nodes())}\")"
   ]
  },
  {
   "cell_type": "code",
   "execution_count": 67,
   "metadata": {
    "scrolled": false
   },
   "outputs": [
    {
     "data": {
      "text/plain": [
       "{0: ['106210',\n",
       "  '144895',\n",
       "  '105575',\n",
       "  '106216',\n",
       "  '123755',\n",
       "  '111202',\n",
       "  '106423',\n",
       "  '106198',\n",
       "  '105902',\n",
       "  '126652',\n",
       "  '104607',\n",
       "  '200175',\n",
       "  '105806',\n",
       "  '104547',\n",
       "  '200615',\n",
       "  '104655',\n",
       "  '106426',\n",
       "  '104665',\n",
       "  '104297',\n",
       "  '200624',\n",
       "  '106045',\n",
       "  '126952',\n",
       "  '144750',\n",
       "  '105577',\n",
       "  '104424',\n",
       "  '105238',\n",
       "  '106071',\n",
       "  '106228',\n",
       "  '103607',\n",
       "  '206173',\n",
       "  '105882',\n",
       "  '105166',\n",
       "  '136440',\n",
       "  '106214',\n",
       "  '111576',\n",
       "  '104198',\n",
       "  '111456',\n",
       "  '105147',\n",
       "  '106099',\n",
       "  '105074',\n",
       "  '105216',\n",
       "  '144707',\n",
       "  '106283',\n",
       "  '105967',\n",
       "  '105657',\n",
       "  '103970',\n",
       "  '105870',\n",
       "  '106121',\n",
       "  '104898',\n",
       "  '104291',\n",
       "  '106078',\n",
       "  '104534',\n",
       "  '105041',\n",
       "  '144719',\n",
       "  '111442',\n",
       "  '111577',\n",
       "  '104999',\n",
       "  '105051',\n",
       "  '106148',\n",
       "  '104797',\n",
       "  '105385',\n",
       "  '120424',\n",
       "  '200005',\n",
       "  '109739',\n",
       "  '103852',\n",
       "  '105373',\n",
       "  '104620'],\n",
       " 1: ['103819',\n",
       "  '106043',\n",
       "  '133430',\n",
       "  '104925',\n",
       "  '100644',\n",
       "  '106233',\n",
       "  '126774',\n",
       "  '126094',\n",
       "  '104745',\n",
       "  '106421',\n",
       "  '111575'],\n",
       " 2: ['104527',\n",
       "  '105062',\n",
       "  '106401',\n",
       "  '105554',\n",
       "  '105777',\n",
       "  '104731',\n",
       "  '105550',\n",
       "  '104871',\n",
       "  '105430',\n",
       "  '104755',\n",
       "  '105077',\n",
       "  '105332',\n",
       "  '105311',\n",
       "  '105357',\n",
       "  '105526',\n",
       "  '105815',\n",
       "  '200282',\n",
       "  '105936',\n",
       "  '106432',\n",
       "  '104545',\n",
       "  '105227',\n",
       "  '104792',\n",
       "  '105173',\n",
       "  '104926',\n",
       "  '128034',\n",
       "  '105138',\n",
       "  '104919',\n",
       "  '200000',\n",
       "  '106415',\n",
       "  '104468',\n",
       "  '105683',\n",
       "  '104542',\n",
       "  '106065',\n",
       "  '106298',\n",
       "  '105583',\n",
       "  '105023',\n",
       "  '106378',\n",
       "  '105379',\n",
       "  '105916',\n",
       "  '105807',\n",
       "  '126207',\n",
       "  '104269',\n",
       "  '104312',\n",
       "  '106000',\n",
       "  '134770',\n",
       "  '105932',\n",
       "  '105223',\n",
       "  '126203',\n",
       "  '105376',\n",
       "  '126610',\n",
       "  '105449',\n",
       "  '105732',\n",
       "  '105453',\n",
       "  '132283',\n",
       "  '105643',\n",
       "  '105676',\n",
       "  '104259']}"
      ]
     },
     "execution_count": 67,
     "metadata": {},
     "output_type": "execute_result"
    }
   ],
   "source": [
    "data = u.nodes()\n",
    "edge_mat = nx.to_numpy_matrix(u,nodelist=data,weight='weight')\n",
    "\n",
    "kmeans = cluster.KMeans(n_clusters=3, n_init=200)\n",
    "\n",
    "kmeans = kmeans.fit(edge_mat)\n",
    "\n",
    "#initialize dict\n",
    "clusters = {}\n",
    "for index in range(0,3): \n",
    "    nodes = []    \n",
    "    clusters[index] = nodes\n",
    "    \n",
    "for cluster_info in zip(data,kmeans.labels_):\n",
    "    clusters[cluster_info[1]].append(cluster_info[0])\n",
    "clusters"
   ]
  },
  {
   "cell_type": "code",
   "execution_count": 68,
   "metadata": {},
   "outputs": [
    {
     "data": {
      "text/plain": [
       "array([[0, 1],\n",
       "       [0, 1],\n",
       "       [0, 1],\n",
       "       [0, 3],\n",
       "       [0, 1],\n",
       "       [0, 3],\n",
       "       [0, 1],\n",
       "       [0, 2],\n",
       "       [0, 2],\n",
       "       [0, 1],\n",
       "       [0, 3],\n",
       "       [0, 2],\n",
       "       [0, 2],\n",
       "       [0, 3],\n",
       "       [0, 3],\n",
       "       [0, 1],\n",
       "       [0, 2],\n",
       "       [0, 2],\n",
       "       [0, 1],\n",
       "       [0, 3],\n",
       "       [0, 3],\n",
       "       [0, 2],\n",
       "       [0, 3],\n",
       "       [0, 1],\n",
       "       [0, 1],\n",
       "       [0, 2],\n",
       "       [0, 1],\n",
       "       [0, 3],\n",
       "       [0, 1],\n",
       "       [0, 3],\n",
       "       [0, 1],\n",
       "       [0, 3],\n",
       "       [0, 1],\n",
       "       [0, 2],\n",
       "       [0, 1],\n",
       "       [0, 1],\n",
       "       [0, 2],\n",
       "       [0, 1],\n",
       "       [0, 3],\n",
       "       [0, 1],\n",
       "       [0, 1],\n",
       "       [0, 2],\n",
       "       [0, 1],\n",
       "       [0, 1],\n",
       "       [0, 2],\n",
       "       [0, 1],\n",
       "       [0, 2],\n",
       "       [0, 3],\n",
       "       [0, 1],\n",
       "       [0, 1],\n",
       "       [0, 3],\n",
       "       [0, 3],\n",
       "       [0, 3],\n",
       "       [0, 3],\n",
       "       [0, 1],\n",
       "       [0, 3],\n",
       "       [0, 1],\n",
       "       [0, 2],\n",
       "       [0, 1],\n",
       "       [0, 1],\n",
       "       [0, 1],\n",
       "       [0, 1],\n",
       "       [0, 1],\n",
       "       [0, 1],\n",
       "       [0, 2],\n",
       "       [0, 1],\n",
       "       [0, 3],\n",
       "       [0, 2],\n",
       "       [0, 1],\n",
       "       [0, 3],\n",
       "       [0, 3],\n",
       "       [0, 1],\n",
       "       [0, 2],\n",
       "       [0, 3],\n",
       "       [0, 1],\n",
       "       [0, 1],\n",
       "       [0, 2],\n",
       "       [0, 3],\n",
       "       [0, 1],\n",
       "       [0, 3],\n",
       "       [0, 1],\n",
       "       [0, 1],\n",
       "       [0, 1],\n",
       "       [0, 2],\n",
       "       [0, 1],\n",
       "       [0, 1],\n",
       "       [0, 1],\n",
       "       [0, 2],\n",
       "       [0, 1],\n",
       "       [0, 1],\n",
       "       [0, 2],\n",
       "       [0, 1],\n",
       "       [0, 2],\n",
       "       [0, 1],\n",
       "       [0, 2],\n",
       "       [0, 2],\n",
       "       [0, 1],\n",
       "       [0, 1],\n",
       "       [0, 3],\n",
       "       [0, 1],\n",
       "       [0, 1],\n",
       "       [0, 1],\n",
       "       [0, 3],\n",
       "       [0, 1],\n",
       "       [0, 3],\n",
       "       [0, 3],\n",
       "       [0, 1],\n",
       "       [0, 2],\n",
       "       [0, 1],\n",
       "       [0, 1],\n",
       "       [0, 2],\n",
       "       [0, 1],\n",
       "       [0, 2],\n",
       "       [0, 2],\n",
       "       [0, 3],\n",
       "       [0, 2],\n",
       "       [0, 2],\n",
       "       [0, 1],\n",
       "       [0, 1],\n",
       "       [0, 1],\n",
       "       [0, 1],\n",
       "       [0, 3],\n",
       "       [0, 1],\n",
       "       [0, 1],\n",
       "       [0, 1],\n",
       "       [0, 3],\n",
       "       [0, 2],\n",
       "       [0, 2],\n",
       "       [0, 1],\n",
       "       [0, 1],\n",
       "       [0, 3],\n",
       "       [0, 2],\n",
       "       [0, 3],\n",
       "       [0, 3],\n",
       "       [0, 2]])"
      ]
     },
     "execution_count": 68,
     "metadata": {},
     "output_type": "execute_result"
    }
   ],
   "source": [
    "N = len(u.nodes())\n",
    "\n",
    "num_of_ego_graphs = {}\n",
    "for node in u.nodes():\n",
    "    n = 1 if node in novak_ego_graph else 0\n",
    "    r = 1 if node in rafa_ego_graph else 0\n",
    "    f = 1 if node in federer_ego_graph else 0\n",
    "    num_of_ego_graphs[node] = n+r+f\n",
    "\n",
    "edge_matrix =  np.array([[0 for i in range(2)]] * N )\n",
    "node_index = 0\n",
    "for node in u.nodes():\n",
    "    for neighbor in u.neighbors(node):\n",
    "        neighbor_index = list(u.nodes()).index(neighbor)\n",
    "        edge_matrix[node_index,1] = num_of_ego_graphs[node]\n",
    "    node_index+=1\n",
    "        \n",
    "edge_matrix"
   ]
  },
  {
   "cell_type": "code",
   "execution_count": 69,
   "metadata": {},
   "outputs": [
    {
     "data": {
      "text/plain": [
       "{0: ['106401',\n",
       "  '105554',\n",
       "  '104731',\n",
       "  '105550',\n",
       "  '106043',\n",
       "  '106423',\n",
       "  '105077',\n",
       "  '104607',\n",
       "  '105815',\n",
       "  '200282',\n",
       "  '106045',\n",
       "  '106432',\n",
       "  '104545',\n",
       "  '104926',\n",
       "  '128034',\n",
       "  '104919',\n",
       "  '105683',\n",
       "  '106298',\n",
       "  '105023',\n",
       "  '126094',\n",
       "  '106378',\n",
       "  '105379',\n",
       "  '105916',\n",
       "  '105807',\n",
       "  '134770',\n",
       "  '105932',\n",
       "  '104999',\n",
       "  '105051',\n",
       "  '106148',\n",
       "  '111575',\n",
       "  '105373',\n",
       "  '105449',\n",
       "  '132283',\n",
       "  '104259'],\n",
       " 1: ['106210',\n",
       "  '144895',\n",
       "  '105575',\n",
       "  '106216',\n",
       "  '105062',\n",
       "  '123755',\n",
       "  '105430',\n",
       "  '106198',\n",
       "  '105902',\n",
       "  '126652',\n",
       "  '200175',\n",
       "  '105806',\n",
       "  '104547',\n",
       "  '200615',\n",
       "  '104655',\n",
       "  '106426',\n",
       "  '104665',\n",
       "  '104297',\n",
       "  '200624',\n",
       "  '126952',\n",
       "  '144750',\n",
       "  '105577',\n",
       "  '104424',\n",
       "  '105238',\n",
       "  '106071',\n",
       "  '103607',\n",
       "  '206173',\n",
       "  '105882',\n",
       "  '105166',\n",
       "  '136440',\n",
       "  '106214',\n",
       "  '111576',\n",
       "  '104198',\n",
       "  '200000',\n",
       "  '104468',\n",
       "  '106065',\n",
       "  '111456',\n",
       "  '105147',\n",
       "  '106099',\n",
       "  '105074',\n",
       "  '105216',\n",
       "  '144707',\n",
       "  '106283',\n",
       "  '105967',\n",
       "  '105657',\n",
       "  '103970',\n",
       "  '105870',\n",
       "  '106121',\n",
       "  '126207',\n",
       "  '104898',\n",
       "  '104291',\n",
       "  '106078',\n",
       "  '104534',\n",
       "  '104312',\n",
       "  '105041',\n",
       "  '144719',\n",
       "  '111442',\n",
       "  '111577',\n",
       "  '104797',\n",
       "  '105385',\n",
       "  '120424',\n",
       "  '200005',\n",
       "  '109739',\n",
       "  '103852',\n",
       "  '105376',\n",
       "  '104620',\n",
       "  '105732'],\n",
       " 2: ['103819',\n",
       "  '104527',\n",
       "  '105777',\n",
       "  '104871',\n",
       "  '111202',\n",
       "  '133430',\n",
       "  '104755',\n",
       "  '105332',\n",
       "  '105311',\n",
       "  '105357',\n",
       "  '105526',\n",
       "  '105936',\n",
       "  '104925',\n",
       "  '100644',\n",
       "  '105227',\n",
       "  '104792',\n",
       "  '105173',\n",
       "  '106228',\n",
       "  '105138',\n",
       "  '106233',\n",
       "  '106415',\n",
       "  '104542',\n",
       "  '105583',\n",
       "  '126774',\n",
       "  '104269',\n",
       "  '104745',\n",
       "  '106421',\n",
       "  '106000',\n",
       "  '105223',\n",
       "  '126203',\n",
       "  '126610',\n",
       "  '105453',\n",
       "  '105643',\n",
       "  '105676']}"
      ]
     },
     "execution_count": 69,
     "metadata": {},
     "output_type": "execute_result"
    }
   ],
   "source": [
    "kmeans = cluster.KMeans(n_clusters=3, n_init=200)\n",
    "\n",
    "kmeans = kmeans.fit(edge_matrix)\n",
    "\n",
    "#initialize dict\n",
    "big_three_clusters = {}\n",
    "for index in range(0,3): \n",
    "    nodes = []    \n",
    "    big_three_clusters[index] = nodes\n",
    "    \n",
    "for cluster_info in zip(data,kmeans.labels_):\n",
    "    big_three_clusters[cluster_info[1]].append(cluster_info[0])\n",
    "big_three_clusters"
   ]
  },
  {
   "cell_type": "code",
   "execution_count": 70,
   "metadata": {},
   "outputs": [],
   "source": [
    "def get_players_cluster(id):\n",
    "    for cluster_index in range(0,3):\n",
    "        if id in clusters[cluster_index]:\n",
    "            return cluster_index"
   ]
  },
  {
   "cell_type": "code",
   "execution_count": 71,
   "metadata": {},
   "outputs": [
    {
     "data": {
      "text/plain": [
       "1"
      ]
     },
     "execution_count": 71,
     "metadata": {},
     "output_type": "execute_result"
    }
   ],
   "source": [
    "get_players_cluster(novak_id)"
   ]
  },
  {
   "cell_type": "code",
   "execution_count": 72,
   "metadata": {},
   "outputs": [
    {
     "data": {
      "text/plain": [
       "1"
      ]
     },
     "execution_count": 72,
     "metadata": {},
     "output_type": "execute_result"
    }
   ],
   "source": [
    "get_players_cluster(rafa_id)"
   ]
  },
  {
   "cell_type": "code",
   "execution_count": 73,
   "metadata": {},
   "outputs": [
    {
     "data": {
      "text/plain": [
       "1"
      ]
     },
     "execution_count": 73,
     "metadata": {},
     "output_type": "execute_result"
    }
   ],
   "source": [
    "get_players_cluster(federer_id)"
   ]
  },
  {
   "cell_type": "code",
   "execution_count": 74,
   "metadata": {
    "scrolled": false
   },
   "outputs": [],
   "source": [
    "# asyn_fluid_clusters = {}\n",
    "# for (community_info) in zip(range(0,3),comm.asyn_fluidc(u,3)): \n",
    "#     asyn_fluid_clusters[community_info[0]] = list(community_info[1])\n",
    "    \n",
    "# # for c in comm.asyn_fluidc(G,3):\n",
    "# #     asyn_fluid_communities[index] = c\n",
    "# asyn_fluid_clusters"
   ]
  },
  {
   "cell_type": "markdown",
   "metadata": {},
   "source": [
    "# 24. Kakva je distribucija broja tenisera u odnosu na broj mečeva koji su odigrali?"
   ]
  },
  {
   "cell_type": "code",
   "execution_count": 75,
   "metadata": {},
   "outputs": [
    {
     "name": "stdout",
     "output_type": "stream",
     "text": [
      "Counter({1: 64, 2: 43, 3: 25, 6: 17, 5: 13, 7: 10, 4: 10, 9: 7, 14: 6, 18: 6, 17: 6, 21: 5, 10: 5, 8: 5, 45: 4, 13: 4, 23: 4, 28: 4, 19: 4, 16: 4, 42: 4, 32: 3, 67: 3, 24: 3, 56: 3, 36: 3, 84: 3, 61: 3, 114: 3, 112: 3, 29: 3, 11: 3, 15: 3, 49: 2, 121: 2, 55: 2, 60: 2, 100: 2, 127: 2, 92: 2, 62: 2, 31: 2, 37: 2, 177: 2, 73: 2, 74: 2, 87: 2, 118: 2, 82: 2, 123: 2, 39: 2, 93: 2, 22: 2, 81: 2, 113: 2, 83: 2, 135: 1, 91: 1, 136: 1, 110: 1, 63: 1, 120: 1, 122: 1, 146: 1, 85: 1, 80: 1, 116: 1, 128: 1, 117: 1, 111: 1, 102: 1, 71: 1, 144: 1, 151: 1, 134: 1, 130: 1, 44: 1, 129: 1, 38: 1, 107: 1, 103: 1, 88: 1, 133: 1, 20: 1, 50: 1, 54: 1, 96: 1, 66: 1, 159: 1, 59: 1, 41: 1, 106: 1, 25: 1, 99: 1, 86: 1, 141: 1, 138: 1, 65: 1, 170: 1, 46: 1, 126: 1, 12: 1, 194: 1, 139: 1, 94: 1, 58: 1, 181: 1, 131: 1, 152: 1, 26: 1, 98: 1, 47: 1, 33: 1, 35: 1})\n"
     ]
    },
    {
     "data": {
      "image/png": "[encoded data removed]",
      "text/plain": [
       "<Figure size 432x288 with 1 Axes>"
      ]
     },
     "metadata": {
      "needs_background": "light"
     },
     "output_type": "display_data"
    }
   ],
   "source": [
    "plot_deg_frequency(G, weighted = True)"
   ]
  },
  {
   "cell_type": "markdown",
   "metadata": {},
   "source": [
    "# Cuvanje grafa"
   ]
  },
  {
   "cell_type": "code",
   "execution_count": 76,
   "metadata": {},
   "outputs": [],
   "source": [
    "nx.write_gexf(G,output_gz_path)"
   ]
  },
  {
   "cell_type": "markdown",
   "metadata": {},
   "source": [
    "# Vizuelizacija"
   ]
  },
  {
   "cell_type": "code",
   "execution_count": 77,
   "metadata": {},
   "outputs": [],
   "source": [
    "def get_gephi_rank_group(rank):\n",
    "    if rank<10:\n",
    "        return 'group10'\n",
    "    if rank<20:\n",
    "        return 'group20'\n",
    "    if rank<50:\n",
    "        return 'group50'\n",
    "    if rank<100:\n",
    "        return 'group100'\n",
    "    if rank<250:\n",
    "        return 'group250'\n",
    "    if rank<500:\n",
    "        return 'group500'\n",
    "    if rank<2000:\n",
    "        return 'group2000'\n",
    "    return 'group2000'\n",
    "\n",
    "def add_gephi_rank_group_attribute(G):\n",
    "    for player in G.nodes:\n",
    "        G.nodes[player]['rank_group']=get_gephi_rank_group(G.nodes[player]['rank'])\n",
    "        \n",
    "def reverse_rank(G):\n",
    "    for player in G.nodes:\n",
    "        rank = G.nodes[player]['rank']\n",
    "        G.nodes[player]['rank']=-rank if not np.isnan(rank) else -float(2000)\n",
    "\n",
    "def set_ego_node_attribute(G,ego_nodes,ego_type):  \n",
    "    for player in G.nodes:\n",
    "        G.nodes[player]['node_type']=ego_type if player in ego_nodes else 'not_ego_node'\n",
    "        \n",
    "def set_ego_edge_attribute(G,ego_edges,ego_type):         \n",
    "    for (source,target) in G.edges:\n",
    "        G.edges[source,target]['edge_type']=ego_type if (((source,target) in ego_edges) | ((target,source) in ego_edges)) else 'not_ego_edge'          \n",
    "        \n",
    "def set_ego_attribute(G,ego_nodes,ego_edges,ego_type):  \n",
    "    set_ego_node_attribute(G,ego_nodes,ego_type)\n",
    "    set_ego_edge_attribute(G,ego_edges,ego_type)\n",
    "\n",
    "def set_community_attribute(G):\n",
    "    for key, values in communities_info.items():\n",
    "        for value in values:\n",
    "            G.nodes[value[0]]['community'] = key\n",
    "\n",
    "def set_cluster_attribute(G):\n",
    "    for key, values in clusters.items():\n",
    "        for value in values:\n",
    "            G.nodes[value]['cluster'] = key\n",
    "    # hocu da mi se u gephi-ju prikazuje label samo za ovu trojicu pa cu to ovako da uradim\n",
    "    for player in G.nodes():\n",
    "        G.nodes[player]['help_label'] = G.nodes[player]['player_name'] if G.nodes[player]['player_name'] in ['Novak Djokovic', 'Rafael Nadal', 'Roger Federer'] else ''\n",
    "        \n",
    "def set_big_three_clusters_attribute(G):\n",
    "    for key, values in big_three_clusters.items():\n",
    "        for value in values:\n",
    "            G.nodes[value]['big_three_clusters'] = key\n",
    "    # hocu da mi se u gephi-ju prikazuje label samo za ovu trojicu pa cu to ovako da uradim\n",
    "    for player in G.nodes():\n",
    "        G.nodes[player]['help_label'] = G.nodes[player]['player_name'] if G.nodes[player]['player_name'] in ['Novak Djokovic', 'Rafael Nadal', 'Roger Federer'] else ''\n",
    "        "
   ]
  },
  {
   "cell_type": "code",
   "execution_count": 78,
   "metadata": {},
   "outputs": [],
   "source": [
    "def relable(G):\n",
    "    values = [name for node,name in G.nodes(data='player_name')]\n",
    "    mapping  = dict(zip(G, values))\n",
    "\n",
    "    return  nx.relabel_nodes(G, mapping)   \n",
    "\n",
    "def arrange_graph(G):\n",
    "    H = copy.deepcopy(G)\n",
    "\n",
    "    add_gephi_rank_group_attribute(H)\n",
    "    \n",
    "    reverse_rank(H)    \n",
    "    return relable(H)\n",
    "\n",
    "def arrange_ego_in_graph(G,nodes,edges,node_type):\n",
    "    H = copy.deepcopy(G)\n",
    "    \n",
    "    set_ego_attribute(H,nodes,edges,node_type)\n",
    "    reverse_rank(H) \n",
    "    return relable(H)\n",
    "\n",
    "def arrange_ego_graph(G,edges,node_type):\n",
    "    H = copy.deepcopy(G)\n",
    "    \n",
    "    set_ego_edge_attribute(H,edges,node_type)\n",
    "    reverse_rank(H) \n",
    "    return relable(H)\n",
    "\n",
    "def arrange_communities(G):\n",
    "    H = copy.deepcopy(G)\n",
    "    \n",
    "    set_community_attribute(H)\n",
    "    add_gephi_rank_group_attribute(H)\n",
    "    reverse_rank(H)\n",
    "    return relable(H)\n",
    "\n",
    "def arrange_clusters(G):\n",
    "    H = copy.deepcopy(G)\n",
    "    \n",
    "    set_cluster_attribute(H)\n",
    "    add_gephi_rank_group_attribute(H)\n",
    "    reverse_rank(H)\n",
    "    return relable(H)\n",
    "\n",
    "def arrange_big_three_clusters(G):\n",
    "    H = copy.deepcopy(G)\n",
    "    \n",
    "    set_big_three_clusters_attribute(H)\n",
    "    add_gephi_rank_group_attribute(H)\n",
    "    reverse_rank(H)\n",
    "    return relable(H)"
   ]
  },
  {
   "cell_type": "code",
   "execution_count": 79,
   "metadata": {},
   "outputs": [],
   "source": [
    "nx.write_gml(arrange_graph(G), output_gml_path)\n",
    "\n",
    "nx.write_gml(arrange_ego_in_graph(G,novak_nodes,novak_ego_edges,'novak'), \"novak_ego_in_aggregated.gml\")\n",
    "nx.write_gml(arrange_ego_in_graph(G,rafa_nodes,rafa_ego_edges,'rafa'), \"rafa_ego_in_aggregated.gml\")\n",
    "nx.write_gml(arrange_ego_in_graph(G,federer_nodes,federer_ego_edges,'federer'), \"federer_ego_in_aggregated.gml\")\n",
    "\n",
    "nx.write_gml(arrange_ego_graph(novak_ego_graph,novak_edges,'novak'), \"novak_ego_graph_aggregated.gml\")\n",
    "nx.write_gml(arrange_ego_graph(rafa_ego_graph,rafa_edges,'rafa'), \"rafa_ego_graph_aggregated.gml\")\n",
    "nx.write_gml(arrange_ego_graph(federer_ego_graph,federer_edges,'federer'), \"federer_ego_graph_aggregated.gml\")\n",
    "\n",
    "nx.write_gml(arrange_communities(G), \"communities_aggregated.gml\")\n",
    "nx.write_gml(arrange_clusters(u), \"clusters_unified_graph_aggregated.gml\")\n",
    "\n",
    "\n",
    "#asyn_fluid_clusters\n",
    "#nx.write_gml(arrange_asyn_fluid_clusters(u), \"asyn_fluid_clusters_unified_graph_aggregated.gml\")\n",
    "\n",
    "nx.write_gml(arrange_big_three_clusters(u), \"arrange_big_three_clusters_unified_graph_aggregated.gml\")"
   ]
  },
  {
   "cell_type": "code",
   "execution_count": null,
   "metadata": {},
   "outputs": [],
   "source": []
  }
 ],
 "metadata": {
  "kernelspec": {
   "display_name": "Python 3",
   "language": "python",
   "name": "python3"
  },
  "language_info": {
   "codemirror_mode": {
    "name": "ipython",
    "version": 3
   },
   "file_extension": ".py",
   "mimetype": "text/x-python",
   "name": "python",
   "nbconvert_exporter": "python",
   "pygments_lexer": "ipython3",
   "version": "3.8.5"
  }
 },
 "nbformat": 4,
 "nbformat_minor": 4
}
